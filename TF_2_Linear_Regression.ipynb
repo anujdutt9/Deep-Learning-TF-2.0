{
  "nbformat": 4,
  "nbformat_minor": 0,
  "metadata": {
    "colab": {
      "name": "TF-2-Linear-Regression.ipynb",
      "provenance": [],
      "collapsed_sections": [],
      "authorship_tag": "ABX9TyPx8lV5xCeiMgisDC1rpPoa",
      "include_colab_link": true
    },
    "kernelspec": {
      "name": "python3",
      "display_name": "Python 3"
    }
  },
  "cells": [
    {
      "cell_type": "markdown",
      "metadata": {
        "id": "view-in-github",
        "colab_type": "text"
      },
      "source": [
        "<a href=\"https://colab.research.google.com/github/anujdutt9/Deep-Learning-TF-2.0/blob/master/TF_2_Linear_Regression.ipynb\" target=\"_parent\"><img src=\"https://colab.research.google.com/assets/colab-badge.svg\" alt=\"Open In Colab\"/></a>"
      ]
    },
    {
      "cell_type": "code",
      "metadata": {
        "id": "zjDV1j5ikN9-",
        "colab_type": "code",
        "outputId": "b9feb333-8a8d-4bac-b04a-4d5fd9a5f768",
        "colab": {
          "base_uri": "https://localhost:8080/",
          "height": 119
        }
      },
      "source": [
        "%tensorflow_version 2.1\n",
        "import tensorflow as tf\n",
        "tf.__version__"
      ],
      "execution_count": 1,
      "outputs": [
        {
          "output_type": "stream",
          "text": [
            "`%tensorflow_version` only switches the major version: 1.x or 2.x.\n",
            "You set: `2.1`. This will be interpreted as: `2.x`.\n",
            "\n",
            "\n",
            "TensorFlow 2.x selected.\n"
          ],
          "name": "stdout"
        },
        {
          "output_type": "execute_result",
          "data": {
            "text/plain": [
              "'2.1.0'"
            ]
          },
          "metadata": {
            "tags": []
          },
          "execution_count": 1
        }
      ]
    },
    {
      "cell_type": "code",
      "metadata": {
        "id": "oOD37tSlkVx4",
        "colab_type": "code",
        "colab": {}
      },
      "source": [
        "import pandas as pd\n",
        "import numpy as np\n",
        "import matplotlib.pyplot as plt"
      ],
      "execution_count": 0,
      "outputs": []
    },
    {
      "cell_type": "code",
      "metadata": {
        "id": "rC2mGS_IkdYh",
        "colab_type": "code",
        "outputId": "9b266fdd-6b13-4451-f025-966991140631",
        "colab": {
          "resources": {
            "http://localhost:8080/nbextensions/google.colab/files.js": {
              "data": "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",
              "ok": true,
              "headers": [
                [
                  "content-type",
                  "application/javascript"
                ]
              ],
              "status": 200,
              "status_text": ""
            }
          },
          "base_uri": "https://localhost:8080/",
          "height": 37
        }
      },
      "source": [
        "# Load the Dataset File\n",
        "from google.colab import files\n",
        "uploaded = files.upload()"
      ],
      "execution_count": 3,
      "outputs": [
        {
          "output_type": "display_data",
          "data": {
            "text/html": [
              "\n",
              "     <input type=\"file\" id=\"files-1e51739c-202e-4533-9da4-57accfd17f73\" name=\"files[]\" multiple disabled />\n",
              "     <output id=\"result-1e51739c-202e-4533-9da4-57accfd17f73\">\n",
              "      Upload widget is only available when the cell has been executed in the\n",
              "      current browser session. Please rerun this cell to enable.\n",
              "      </output>\n",
              "      <script src=\"/nbextensions/google.colab/files.js\"></script> "
            ],
            "text/plain": [
              "<IPython.core.display.HTML object>"
            ]
          },
          "metadata": {
            "tags": []
          }
        }
      ]
    },
    {
      "cell_type": "code",
      "metadata": {
        "id": "UXNXbjqwk6g3",
        "colab_type": "code",
        "outputId": "ab221745-03a3-4295-d56f-79b2cd16cb48",
        "colab": {
          "base_uri": "https://localhost:8080/",
          "height": 34
        }
      },
      "source": [
        "!ls"
      ],
      "execution_count": 4,
      "outputs": [
        {
          "output_type": "stream",
          "text": [
            "moore.csv  sample_data\n"
          ],
          "name": "stdout"
        }
      ]
    },
    {
      "cell_type": "code",
      "metadata": {
        "id": "sHUKQBu-lFH5",
        "colab_type": "code",
        "outputId": "8020027e-dccf-405a-d48e-d8d8619e3067",
        "colab": {
          "base_uri": "https://localhost:8080/",
          "height": 187
        }
      },
      "source": [
        "!head moore.csv"
      ],
      "execution_count": 5,
      "outputs": [
        {
          "output_type": "stream",
          "text": [
            "1971,2300\n",
            "1972,3500\n",
            "1973,2500\n",
            "1973,2500\n",
            "1974,4100\n",
            "1974,4500\n",
            "1974,8000\n",
            "1975,3510\n",
            "1976,5000\n",
            "1976,8500\n"
          ],
          "name": "stdout"
        }
      ]
    },
    {
      "cell_type": "code",
      "metadata": {
        "id": "CbOmcI3jk-Zj",
        "colab_type": "code",
        "outputId": "c1d0f1ce-9e6a-4ecd-d486-940ceb50155c",
        "colab": {
          "base_uri": "https://localhost:8080/",
          "height": 187
        }
      },
      "source": [
        "# Load the Dataset\n",
        "df = pd.read_csv('moore.csv', header=None).values\n",
        "df[:10]"
      ],
      "execution_count": 6,
      "outputs": [
        {
          "output_type": "execute_result",
          "data": {
            "text/plain": [
              "array([[1971, 2300],\n",
              "       [1972, 3500],\n",
              "       [1973, 2500],\n",
              "       [1973, 2500],\n",
              "       [1974, 4100],\n",
              "       [1974, 4500],\n",
              "       [1974, 8000],\n",
              "       [1975, 3510],\n",
              "       [1976, 5000],\n",
              "       [1976, 8500]])"
            ]
          },
          "metadata": {
            "tags": []
          },
          "execution_count": 6
        }
      ]
    },
    {
      "cell_type": "code",
      "metadata": {
        "id": "6H9pLO6BlQ63",
        "colab_type": "code",
        "outputId": "e7ec33f0-97b1-491e-e4e2-9f66fb3e6d32",
        "colab": {
          "base_uri": "https://localhost:8080/",
          "height": 34
        }
      },
      "source": [
        "# Features\n",
        "X = df[:,0].reshape(-1,1)\n",
        "X.shape"
      ],
      "execution_count": 7,
      "outputs": [
        {
          "output_type": "execute_result",
          "data": {
            "text/plain": [
              "(162, 1)"
            ]
          },
          "metadata": {
            "tags": []
          },
          "execution_count": 7
        }
      ]
    },
    {
      "cell_type": "code",
      "metadata": {
        "id": "YkW4RCzvldBQ",
        "colab_type": "code",
        "outputId": "f1aad2df-d86a-4cb2-d7db-ab5628a97880",
        "colab": {
          "base_uri": "https://localhost:8080/",
          "height": 34
        }
      },
      "source": [
        "# Labels\n",
        "y = df[:,1]\n",
        "y.shape"
      ],
      "execution_count": 8,
      "outputs": [
        {
          "output_type": "execute_result",
          "data": {
            "text/plain": [
              "(162,)"
            ]
          },
          "metadata": {
            "tags": []
          },
          "execution_count": 8
        }
      ]
    },
    {
      "cell_type": "code",
      "metadata": {
        "id": "WjhSBjGUl9JR",
        "colab_type": "code",
        "outputId": "6c4f2805-34ef-47f0-cd13-9190035ac9b5",
        "colab": {
          "base_uri": "https://localhost:8080/",
          "height": 293
        }
      },
      "source": [
        "# Plot the Dataset\n",
        "plt.scatter(X,y,marker='^')"
      ],
      "execution_count": 9,
      "outputs": [
        {
          "output_type": "execute_result",
          "data": {
            "text/plain": [
              "<matplotlib.collections.PathCollection at 0x7f810f4bec18>"
            ]
          },
          "metadata": {
            "tags": []
          },
          "execution_count": 9
        },
        {
          "output_type": "display_data",
          "data": {
            "image/png": "[encoded data removed]",
            "text/plain": [
              "<Figure size 432x288 with 1 Axes>"
            ]
          },
          "metadata": {
            "tags": []
          }
        }
      ]
    },
    {
      "cell_type": "code",
      "metadata": {
        "id": "3Lmg3_nomSDa",
        "colab_type": "code",
        "outputId": "ad7fcafb-7b12-4f7a-946f-03aae57d786b",
        "colab": {
          "base_uri": "https://localhost:8080/",
          "height": 34
        }
      },
      "source": [
        "# The dataset is exponential. Since we want the linear dataset, we take the log of the datase\n",
        "y = np.log(y)\n",
        "y.shape"
      ],
      "execution_count": 10,
      "outputs": [
        {
          "output_type": "execute_result",
          "data": {
            "text/plain": [
              "(162,)"
            ]
          },
          "metadata": {
            "tags": []
          },
          "execution_count": 10
        }
      ]
    },
    {
      "cell_type": "code",
      "metadata": {
        "id": "uCHHLCFDmnD1",
        "colab_type": "code",
        "outputId": "2dacecf1-3206-4f54-cbfa-4079ccfa8d6f",
        "colab": {
          "base_uri": "https://localhost:8080/",
          "height": 282
        }
      },
      "source": [
        "# Plot the dataset again\n",
        "plt.scatter(X,y,marker='^')"
      ],
      "execution_count": 11,
      "outputs": [
        {
          "output_type": "execute_result",
          "data": {
            "text/plain": [
              "<matplotlib.collections.PathCollection at 0x7f810c810400>"
            ]
          },
          "metadata": {
            "tags": []
          },
          "execution_count": 11
        },
        {
          "output_type": "display_data",
          "data": {
            "image/png": "[encoded data removed]",
            "text/plain": [
              "<Figure size 432x288 with 1 Axes>"
            ]
          },
          "metadata": {
            "tags": []
          }
        }
      ]
    },
    {
      "cell_type": "code",
      "metadata": {
        "id": "kt2Z92Pkmro3",
        "colab_type": "code",
        "colab": {}
      },
      "source": [
        "# Center the X data i.e. years so that values are not too large\n",
        "X = X - X.mean()"
      ],
      "execution_count": 0,
      "outputs": []
    },
    {
      "cell_type": "code",
      "metadata": {
        "id": "hPhoroD_nLcI",
        "colab_type": "code",
        "outputId": "6cf5420e-6359-4124-c5a8-6c8eebd036c1",
        "colab": {
          "base_uri": "https://localhost:8080/",
          "height": 282
        }
      },
      "source": [
        "# Plot the dataset again\n",
        "plt.scatter(X,y,marker='^')"
      ],
      "execution_count": 13,
      "outputs": [
        {
          "output_type": "execute_result",
          "data": {
            "text/plain": [
              "<matplotlib.collections.PathCollection at 0x7f810c77ccf8>"
            ]
          },
          "metadata": {
            "tags": []
          },
          "execution_count": 13
        },
        {
          "output_type": "display_data",
          "data": {
            "image/png": "[encoded data removed]",
            "text/plain": [
              "<Figure size 432x288 with 1 Axes>"
            ]
          },
          "metadata": {
            "tags": []
          }
        }
      ]
    },
    {
      "cell_type": "code",
      "metadata": {
        "id": "z9S1dremnPQZ",
        "colab_type": "code",
        "outputId": "fd4a5aa3-34e8-4637-aa4a-686e60b43f15",
        "colab": {
          "base_uri": "https://localhost:8080/",
          "height": 187
        }
      },
      "source": [
        "# Built the Model\n",
        "model = tf.keras.Sequential([\n",
        "                             tf.keras.layers.Input(shape=(1,)),\n",
        "                             tf.keras.layers.Dense(1)\n",
        "])\n",
        "\n",
        "# Print Model Summary\n",
        "model.summary()"
      ],
      "execution_count": 14,
      "outputs": [
        {
          "output_type": "stream",
          "text": [
            "Model: \"sequential\"\n",
            "_________________________________________________________________\n",
            "Layer (type)                 Output Shape              Param #   \n",
            "=================================================================\n",
            "dense (Dense)                (None, 1)                 2         \n",
            "=================================================================\n",
            "Total params: 2\n",
            "Trainable params: 2\n",
            "Non-trainable params: 0\n",
            "_________________________________________________________________\n"
          ],
          "name": "stdout"
        }
      ]
    },
    {
      "cell_type": "code",
      "metadata": {
        "id": "EmgKE65Mnnhl",
        "colab_type": "code",
        "colab": {}
      },
      "source": [
        "# Compile the Model with SGD Optimizer and MSE Loss\n",
        "model.compile(optimizer=tf.keras.optimizers.SGD(learning_rate=0.001, momentum=0.9), loss='mse')"
      ],
      "execution_count": 0,
      "outputs": []
    },
    {
      "cell_type": "code",
      "metadata": {
        "id": "0FcfxlBEn6MR",
        "colab_type": "code",
        "colab": {}
      },
      "source": [
        "# Learning Rate Scheduler\n",
        "def scheduleLR(epoch, lr):\n",
        "  # Change Learning Rate based on Epochs\n",
        "  if (epoch >= 50):\n",
        "    return 0.0001\n",
        "  return 0.001\n",
        "\n",
        "# LR Scehduler\n",
        "lr_scheduler= tf.keras.callbacks.LearningRateScheduler(scheduleLR)"
      ],
      "execution_count": 0,
      "outputs": []
    },
    {
      "cell_type": "code",
      "metadata": {
        "id": "Nu66Y9zEoePE",
        "colab_type": "code",
        "outputId": "2d42bc18-4108-448d-b870-f28ff15fd5b6",
        "colab": {
          "base_uri": "https://localhost:8080/",
          "height": 1000
        }
      },
      "source": [
        "# Train the Model with Learning Rate Scheduler passed in as a callback function\n",
        "# A callback is a set of functions to be applied at given stages of the training procedure. \n",
        "# You can use callbacks to get a view on internal states and statistics of the model during training\n",
        "hist = model.fit(x=X, y=y, epochs=200, callbacks=[lr_scheduler], verbose=1)"
      ],
      "execution_count": 17,
      "outputs": [
        {
          "output_type": "stream",
          "text": [
            "Train on 162 samples\n",
            "Epoch 1/200\n",
            "162/162 [==============================] - 0s 1ms/sample - loss: 313.4498\n",
            "Epoch 2/200\n",
            "162/162 [==============================] - 0s 95us/sample - loss: 288.5426\n",
            "Epoch 3/200\n",
            "162/162 [==============================] - 0s 69us/sample - loss: 261.2619\n",
            "Epoch 4/200\n",
            "162/162 [==============================] - 0s 75us/sample - loss: 337.9152\n",
            "Epoch 5/200\n",
            "162/162 [==============================] - 0s 74us/sample - loss: 393.1842\n",
            "Epoch 6/200\n",
            "162/162 [==============================] - 0s 79us/sample - loss: 248.3267\n",
            "Epoch 7/200\n",
            "162/162 [==============================] - 0s 76us/sample - loss: 193.1838\n",
            "Epoch 8/200\n",
            "162/162 [==============================] - 0s 79us/sample - loss: 149.8097\n",
            "Epoch 9/200\n",
            "162/162 [==============================] - 0s 82us/sample - loss: 145.8049\n",
            "Epoch 10/200\n",
            "162/162 [==============================] - 0s 75us/sample - loss: 142.8491\n",
            "Epoch 11/200\n",
            "162/162 [==============================] - 0s 71us/sample - loss: 183.9190\n",
            "Epoch 12/200\n",
            "162/162 [==============================] - 0s 83us/sample - loss: 119.7864\n",
            "Epoch 13/200\n",
            "162/162 [==============================] - 0s 80us/sample - loss: 82.5734\n",
            "Epoch 14/200\n",
            "162/162 [==============================] - 0s 66us/sample - loss: 47.8558\n",
            "Epoch 15/200\n",
            "162/162 [==============================] - 0s 100us/sample - loss: 36.1058\n",
            "Epoch 16/200\n",
            "162/162 [==============================] - 0s 88us/sample - loss: 22.5923\n",
            "Epoch 17/200\n",
            "162/162 [==============================] - 0s 95us/sample - loss: 29.4415\n",
            "Epoch 18/200\n",
            "162/162 [==============================] - 0s 75us/sample - loss: 13.6296\n",
            "Epoch 19/200\n",
            "162/162 [==============================] - 0s 82us/sample - loss: 9.0591\n",
            "Epoch 20/200\n",
            "162/162 [==============================] - 0s 87us/sample - loss: 5.1198\n",
            "Epoch 21/200\n",
            "162/162 [==============================] - 0s 93us/sample - loss: 2.9383\n",
            "Epoch 22/200\n",
            "162/162 [==============================] - 0s 136us/sample - loss: 2.0306\n",
            "Epoch 23/200\n",
            "162/162 [==============================] - 0s 79us/sample - loss: 1.8658\n",
            "Epoch 24/200\n",
            "162/162 [==============================] - 0s 91us/sample - loss: 1.7789\n",
            "Epoch 25/200\n",
            "162/162 [==============================] - 0s 94us/sample - loss: 2.7286\n",
            "Epoch 26/200\n",
            "162/162 [==============================] - 0s 86us/sample - loss: 2.3297\n",
            "Epoch 27/200\n",
            "162/162 [==============================] - 0s 96us/sample - loss: 1.9101\n",
            "Epoch 28/200\n",
            "162/162 [==============================] - 0s 103us/sample - loss: 1.3460\n",
            "Epoch 29/200\n",
            "162/162 [==============================] - 0s 90us/sample - loss: 1.0321\n",
            "Epoch 30/200\n",
            "162/162 [==============================] - 0s 91us/sample - loss: 0.9520\n",
            "Epoch 31/200\n",
            "162/162 [==============================] - 0s 92us/sample - loss: 0.9548\n",
            "Epoch 32/200\n",
            "162/162 [==============================] - 0s 91us/sample - loss: 1.0206\n",
            "Epoch 33/200\n",
            "162/162 [==============================] - 0s 98us/sample - loss: 0.9245\n",
            "Epoch 34/200\n",
            "162/162 [==============================] - 0s 95us/sample - loss: 0.8985\n",
            "Epoch 35/200\n",
            "162/162 [==============================] - 0s 98us/sample - loss: 1.0525\n",
            "Epoch 36/200\n",
            "162/162 [==============================] - 0s 84us/sample - loss: 1.1123\n",
            "Epoch 37/200\n",
            "162/162 [==============================] - 0s 96us/sample - loss: 0.9481\n",
            "Epoch 38/200\n",
            "162/162 [==============================] - 0s 70us/sample - loss: 1.5084\n",
            "Epoch 39/200\n",
            "162/162 [==============================] - 0s 83us/sample - loss: 1.2991\n",
            "Epoch 40/200\n",
            "162/162 [==============================] - 0s 74us/sample - loss: 1.4463\n",
            "Epoch 41/200\n",
            "162/162 [==============================] - 0s 73us/sample - loss: 1.1302\n",
            "Epoch 42/200\n",
            "162/162 [==============================] - 0s 75us/sample - loss: 0.9535\n",
            "Epoch 43/200\n",
            "162/162 [==============================] - 0s 69us/sample - loss: 1.0964\n",
            "Epoch 44/200\n",
            "162/162 [==============================] - 0s 79us/sample - loss: 0.9553\n",
            "Epoch 45/200\n",
            "162/162 [==============================] - 0s 88us/sample - loss: 0.9254\n",
            "Epoch 46/200\n",
            "162/162 [==============================] - 0s 94us/sample - loss: 0.9228\n",
            "Epoch 47/200\n",
            "162/162 [==============================] - 0s 105us/sample - loss: 0.9278\n",
            "Epoch 48/200\n",
            "162/162 [==============================] - 0s 89us/sample - loss: 0.8927\n",
            "Epoch 49/200\n",
            "162/162 [==============================] - 0s 74us/sample - loss: 0.9445\n",
            "Epoch 50/200\n",
            "162/162 [==============================] - 0s 87us/sample - loss: 0.9149\n",
            "Epoch 51/200\n",
            "162/162 [==============================] - 0s 93us/sample - loss: 0.9285\n",
            "Epoch 52/200\n",
            "162/162 [==============================] - 0s 92us/sample - loss: 0.8690\n",
            "Epoch 53/200\n",
            "162/162 [==============================] - 0s 86us/sample - loss: 0.9072\n",
            "Epoch 54/200\n",
            "162/162 [==============================] - 0s 110us/sample - loss: 0.9085\n",
            "Epoch 55/200\n",
            "162/162 [==============================] - 0s 107us/sample - loss: 0.8648\n",
            "Epoch 56/200\n",
            "162/162 [==============================] - 0s 97us/sample - loss: 0.8882\n",
            "Epoch 57/200\n",
            "162/162 [==============================] - 0s 100us/sample - loss: 0.8806\n",
            "Epoch 58/200\n",
            "162/162 [==============================] - 0s 86us/sample - loss: 0.8723\n",
            "Epoch 59/200\n",
            "162/162 [==============================] - 0s 95us/sample - loss: 0.8773\n",
            "Epoch 60/200\n",
            "162/162 [==============================] - 0s 84us/sample - loss: 0.8969\n",
            "Epoch 61/200\n",
            "162/162 [==============================] - 0s 80us/sample - loss: 0.8874\n",
            "Epoch 62/200\n",
            "162/162 [==============================] - 0s 79us/sample - loss: 0.8775\n",
            "Epoch 63/200\n",
            "162/162 [==============================] - 0s 92us/sample - loss: 0.8714\n",
            "Epoch 64/200\n",
            "162/162 [==============================] - 0s 94us/sample - loss: 0.8705\n",
            "Epoch 65/200\n",
            "162/162 [==============================] - 0s 83us/sample - loss: 0.8725\n",
            "Epoch 66/200\n",
            "162/162 [==============================] - 0s 86us/sample - loss: 0.8767\n",
            "Epoch 67/200\n",
            "162/162 [==============================] - 0s 81us/sample - loss: 0.8779\n",
            "Epoch 68/200\n",
            "162/162 [==============================] - 0s 76us/sample - loss: 0.8836\n",
            "Epoch 69/200\n",
            "162/162 [==============================] - 0s 74us/sample - loss: 0.8805\n",
            "Epoch 70/200\n",
            "162/162 [==============================] - 0s 67us/sample - loss: 0.8891\n",
            "Epoch 71/200\n",
            "162/162 [==============================] - 0s 97us/sample - loss: 0.8946\n",
            "Epoch 72/200\n",
            "162/162 [==============================] - 0s 85us/sample - loss: 0.8809\n",
            "Epoch 73/200\n",
            "162/162 [==============================] - 0s 101us/sample - loss: 0.8848\n",
            "Epoch 74/200\n",
            "162/162 [==============================] - 0s 85us/sample - loss: 0.8755\n",
            "Epoch 75/200\n",
            "162/162 [==============================] - 0s 91us/sample - loss: 0.8715\n",
            "Epoch 76/200\n",
            "162/162 [==============================] - 0s 92us/sample - loss: 0.8844\n",
            "Epoch 77/200\n",
            "162/162 [==============================] - 0s 81us/sample - loss: 0.9012\n",
            "Epoch 78/200\n",
            "162/162 [==============================] - 0s 93us/sample - loss: 0.8855\n",
            "Epoch 79/200\n",
            "162/162 [==============================] - 0s 89us/sample - loss: 0.8702\n",
            "Epoch 80/200\n",
            "162/162 [==============================] - 0s 79us/sample - loss: 0.8858\n",
            "Epoch 81/200\n",
            "162/162 [==============================] - 0s 78us/sample - loss: 0.8708\n",
            "Epoch 82/200\n",
            "162/162 [==============================] - 0s 76us/sample - loss: 0.8918\n",
            "Epoch 83/200\n",
            "162/162 [==============================] - 0s 82us/sample - loss: 0.8997\n",
            "Epoch 84/200\n",
            "162/162 [==============================] - 0s 85us/sample - loss: 0.8798\n",
            "Epoch 85/200\n",
            "162/162 [==============================] - 0s 99us/sample - loss: 0.8768\n",
            "Epoch 86/200\n",
            "162/162 [==============================] - 0s 91us/sample - loss: 0.8718\n",
            "Epoch 87/200\n",
            "162/162 [==============================] - 0s 69us/sample - loss: 0.8715\n",
            "Epoch 88/200\n",
            "162/162 [==============================] - 0s 111us/sample - loss: 0.8811\n",
            "Epoch 89/200\n",
            "162/162 [==============================] - 0s 82us/sample - loss: 0.8678\n",
            "Epoch 90/200\n",
            "162/162 [==============================] - 0s 112us/sample - loss: 0.8930\n",
            "Epoch 91/200\n",
            "162/162 [==============================] - 0s 76us/sample - loss: 0.8757\n",
            "Epoch 92/200\n",
            "162/162 [==============================] - 0s 79us/sample - loss: 0.8888\n",
            "Epoch 93/200\n",
            "162/162 [==============================] - 0s 71us/sample - loss: 0.9057\n",
            "Epoch 94/200\n",
            "162/162 [==============================] - 0s 77us/sample - loss: 0.8699\n",
            "Epoch 95/200\n",
            "162/162 [==============================] - 0s 77us/sample - loss: 0.8810\n",
            "Epoch 96/200\n",
            "162/162 [==============================] - 0s 77us/sample - loss: 0.9223\n",
            "Epoch 97/200\n",
            "162/162 [==============================] - 0s 76us/sample - loss: 0.9290\n",
            "Epoch 98/200\n",
            "162/162 [==============================] - 0s 84us/sample - loss: 0.9051\n",
            "Epoch 99/200\n",
            "162/162 [==============================] - 0s 89us/sample - loss: 0.8905\n",
            "Epoch 100/200\n",
            "162/162 [==============================] - 0s 78us/sample - loss: 0.8708\n",
            "Epoch 101/200\n",
            "162/162 [==============================] - 0s 84us/sample - loss: 0.8786\n",
            "Epoch 102/200\n",
            "162/162 [==============================] - 0s 74us/sample - loss: 0.8774\n",
            "Epoch 103/200\n",
            "162/162 [==============================] - 0s 74us/sample - loss: 0.8725\n",
            "Epoch 104/200\n",
            "162/162 [==============================] - 0s 71us/sample - loss: 0.8771\n",
            "Epoch 105/200\n",
            "162/162 [==============================] - 0s 81us/sample - loss: 0.8701\n",
            "Epoch 106/200\n",
            "162/162 [==============================] - 0s 70us/sample - loss: 0.8823\n",
            "Epoch 107/200\n",
            "162/162 [==============================] - 0s 75us/sample - loss: 0.9115\n",
            "Epoch 108/200\n",
            "162/162 [==============================] - 0s 74us/sample - loss: 0.8912\n",
            "Epoch 109/200\n",
            "162/162 [==============================] - 0s 84us/sample - loss: 0.8726\n",
            "Epoch 110/200\n",
            "162/162 [==============================] - 0s 70us/sample - loss: 0.8794\n",
            "Epoch 111/200\n",
            "162/162 [==============================] - 0s 82us/sample - loss: 0.8733\n",
            "Epoch 112/200\n",
            "162/162 [==============================] - 0s 78us/sample - loss: 0.8712\n",
            "Epoch 113/200\n",
            "162/162 [==============================] - 0s 70us/sample - loss: 0.8729\n",
            "Epoch 114/200\n",
            "162/162 [==============================] - 0s 78us/sample - loss: 0.8789\n",
            "Epoch 115/200\n",
            "162/162 [==============================] - 0s 88us/sample - loss: 0.8796\n",
            "Epoch 116/200\n",
            "162/162 [==============================] - 0s 90us/sample - loss: 0.8776\n",
            "Epoch 117/200\n",
            "162/162 [==============================] - 0s 75us/sample - loss: 0.8766\n",
            "Epoch 118/200\n",
            "162/162 [==============================] - 0s 76us/sample - loss: 0.8684\n",
            "Epoch 119/200\n",
            "162/162 [==============================] - 0s 90us/sample - loss: 0.8797\n",
            "Epoch 120/200\n",
            "162/162 [==============================] - 0s 65us/sample - loss: 0.8736\n",
            "Epoch 121/200\n",
            "162/162 [==============================] - 0s 80us/sample - loss: 0.8758\n",
            "Epoch 122/200\n",
            "162/162 [==============================] - 0s 83us/sample - loss: 0.8727\n",
            "Epoch 123/200\n",
            "162/162 [==============================] - 0s 130us/sample - loss: 0.8721\n",
            "Epoch 124/200\n",
            "162/162 [==============================] - 0s 107us/sample - loss: 0.8716\n",
            "Epoch 125/200\n",
            "162/162 [==============================] - 0s 110us/sample - loss: 0.8755\n",
            "Epoch 126/200\n",
            "162/162 [==============================] - 0s 93us/sample - loss: 0.8820\n",
            "Epoch 127/200\n",
            "162/162 [==============================] - 0s 75us/sample - loss: 0.8737\n",
            "Epoch 128/200\n",
            "162/162 [==============================] - 0s 72us/sample - loss: 0.8736\n",
            "Epoch 129/200\n",
            "162/162 [==============================] - 0s 79us/sample - loss: 0.8790\n",
            "Epoch 130/200\n",
            "162/162 [==============================] - 0s 70us/sample - loss: 0.8730\n",
            "Epoch 131/200\n",
            "162/162 [==============================] - 0s 79us/sample - loss: 0.8733\n",
            "Epoch 132/200\n",
            "162/162 [==============================] - 0s 77us/sample - loss: 0.8762\n",
            "Epoch 133/200\n",
            "162/162 [==============================] - 0s 77us/sample - loss: 0.8713\n",
            "Epoch 134/200\n",
            "162/162 [==============================] - 0s 79us/sample - loss: 0.8748\n",
            "Epoch 135/200\n",
            "162/162 [==============================] - 0s 82us/sample - loss: 0.8711\n",
            "Epoch 136/200\n",
            "162/162 [==============================] - 0s 90us/sample - loss: 0.8832\n",
            "Epoch 137/200\n",
            "162/162 [==============================] - 0s 91us/sample - loss: 0.8753\n",
            "Epoch 138/200\n",
            "162/162 [==============================] - 0s 78us/sample - loss: 0.9386\n",
            "Epoch 139/200\n",
            "162/162 [==============================] - 0s 79us/sample - loss: 0.9542\n",
            "Epoch 140/200\n",
            "162/162 [==============================] - 0s 92us/sample - loss: 0.8877\n",
            "Epoch 141/200\n",
            "162/162 [==============================] - 0s 91us/sample - loss: 0.9047\n",
            "Epoch 142/200\n",
            "162/162 [==============================] - 0s 78us/sample - loss: 0.9108\n",
            "Epoch 143/200\n",
            "162/162 [==============================] - 0s 76us/sample - loss: 0.8805\n",
            "Epoch 144/200\n",
            "162/162 [==============================] - 0s 83us/sample - loss: 0.9066\n",
            "Epoch 145/200\n",
            "162/162 [==============================] - 0s 66us/sample - loss: 0.8706\n",
            "Epoch 146/200\n",
            "162/162 [==============================] - 0s 71us/sample - loss: 0.9003\n",
            "Epoch 147/200\n",
            "162/162 [==============================] - 0s 74us/sample - loss: 0.9178\n",
            "Epoch 148/200\n",
            "162/162 [==============================] - 0s 80us/sample - loss: 0.8716\n",
            "Epoch 149/200\n",
            "162/162 [==============================] - 0s 64us/sample - loss: 0.8842\n",
            "Epoch 150/200\n",
            "162/162 [==============================] - 0s 66us/sample - loss: 0.8750\n",
            "Epoch 151/200\n",
            "162/162 [==============================] - 0s 84us/sample - loss: 0.8738\n",
            "Epoch 152/200\n",
            "162/162 [==============================] - 0s 79us/sample - loss: 0.8800\n",
            "Epoch 153/200\n",
            "162/162 [==============================] - 0s 68us/sample - loss: 0.8794\n",
            "Epoch 154/200\n",
            "162/162 [==============================] - 0s 95us/sample - loss: 0.8685\n",
            "Epoch 155/200\n",
            "162/162 [==============================] - 0s 83us/sample - loss: 0.8761\n",
            "Epoch 156/200\n",
            "162/162 [==============================] - 0s 82us/sample - loss: 0.8735\n",
            "Epoch 157/200\n",
            "162/162 [==============================] - 0s 71us/sample - loss: 0.8862\n",
            "Epoch 158/200\n",
            "162/162 [==============================] - 0s 71us/sample - loss: 0.8877\n",
            "Epoch 159/200\n",
            "162/162 [==============================] - 0s 85us/sample - loss: 0.8677\n",
            "Epoch 160/200\n",
            "162/162 [==============================] - 0s 76us/sample - loss: 0.8939\n",
            "Epoch 161/200\n",
            "162/162 [==============================] - 0s 83us/sample - loss: 0.8819\n",
            "Epoch 162/200\n",
            "162/162 [==============================] - 0s 79us/sample - loss: 0.8722\n",
            "Epoch 163/200\n",
            "162/162 [==============================] - 0s 73us/sample - loss: 0.8749\n",
            "Epoch 164/200\n",
            "162/162 [==============================] - 0s 78us/sample - loss: 0.8778\n",
            "Epoch 165/200\n",
            "162/162 [==============================] - 0s 71us/sample - loss: 0.8753\n",
            "Epoch 166/200\n",
            "162/162 [==============================] - 0s 72us/sample - loss: 0.8750\n",
            "Epoch 167/200\n",
            "162/162 [==============================] - 0s 80us/sample - loss: 0.8844\n",
            "Epoch 168/200\n",
            "162/162 [==============================] - 0s 81us/sample - loss: 0.8798\n",
            "Epoch 169/200\n",
            "162/162 [==============================] - 0s 81us/sample - loss: 0.8775\n",
            "Epoch 170/200\n",
            "162/162 [==============================] - 0s 88us/sample - loss: 0.8750\n",
            "Epoch 171/200\n",
            "162/162 [==============================] - 0s 81us/sample - loss: 0.8716\n",
            "Epoch 172/200\n",
            "162/162 [==============================] - 0s 90us/sample - loss: 0.8774\n",
            "Epoch 173/200\n",
            "162/162 [==============================] - 0s 89us/sample - loss: 0.8887\n",
            "Epoch 174/200\n",
            "162/162 [==============================] - 0s 76us/sample - loss: 0.8766\n",
            "Epoch 175/200\n",
            "162/162 [==============================] - 0s 106us/sample - loss: 0.8732\n",
            "Epoch 176/200\n",
            "162/162 [==============================] - 0s 100us/sample - loss: 0.8712\n",
            "Epoch 177/200\n",
            "162/162 [==============================] - 0s 96us/sample - loss: 0.8749\n",
            "Epoch 178/200\n",
            "162/162 [==============================] - 0s 95us/sample - loss: 0.8761\n",
            "Epoch 179/200\n",
            "162/162 [==============================] - 0s 88us/sample - loss: 0.8727\n",
            "Epoch 180/200\n",
            "162/162 [==============================] - 0s 69us/sample - loss: 0.9096\n",
            "Epoch 181/200\n",
            "162/162 [==============================] - 0s 76us/sample - loss: 0.8937\n",
            "Epoch 182/200\n",
            "162/162 [==============================] - 0s 78us/sample - loss: 0.8702\n",
            "Epoch 183/200\n",
            "162/162 [==============================] - 0s 67us/sample - loss: 0.8726\n",
            "Epoch 184/200\n",
            "162/162 [==============================] - 0s 72us/sample - loss: 0.8755\n",
            "Epoch 185/200\n",
            "162/162 [==============================] - 0s 77us/sample - loss: 0.8715\n",
            "Epoch 186/200\n",
            "162/162 [==============================] - 0s 105us/sample - loss: 0.8720\n",
            "Epoch 187/200\n",
            "162/162 [==============================] - 0s 69us/sample - loss: 0.8749\n",
            "Epoch 188/200\n",
            "162/162 [==============================] - 0s 107us/sample - loss: 0.8727\n",
            "Epoch 189/200\n",
            "162/162 [==============================] - 0s 96us/sample - loss: 0.8749\n",
            "Epoch 190/200\n",
            "162/162 [==============================] - 0s 94us/sample - loss: 0.8767\n",
            "Epoch 191/200\n",
            "162/162 [==============================] - 0s 81us/sample - loss: 0.8837\n",
            "Epoch 192/200\n",
            "162/162 [==============================] - 0s 68us/sample - loss: 0.8885\n",
            "Epoch 193/200\n",
            "162/162 [==============================] - 0s 87us/sample - loss: 0.8673\n",
            "Epoch 194/200\n",
            "162/162 [==============================] - 0s 81us/sample - loss: 0.9103\n",
            "Epoch 195/200\n",
            "162/162 [==============================] - 0s 81us/sample - loss: 0.9398\n",
            "Epoch 196/200\n",
            "162/162 [==============================] - 0s 83us/sample - loss: 0.8765\n",
            "Epoch 197/200\n",
            "162/162 [==============================] - 0s 86us/sample - loss: 0.8720\n",
            "Epoch 198/200\n",
            "162/162 [==============================] - 0s 85us/sample - loss: 0.8718\n",
            "Epoch 199/200\n",
            "162/162 [==============================] - 0s 86us/sample - loss: 0.8709\n",
            "Epoch 200/200\n",
            "162/162 [==============================] - 0s 90us/sample - loss: 0.9104\n"
          ],
          "name": "stdout"
        }
      ]
    },
    {
      "cell_type": "code",
      "metadata": {
        "id": "FluJD7QOpHbT",
        "colab_type": "code",
        "outputId": "927f8bb6-5b26-4970-dd6e-b37a5448e9c0",
        "colab": {
          "base_uri": "https://localhost:8080/",
          "height": 34
        }
      },
      "source": [
        "# History Keys\n",
        "hist.history.keys()"
      ],
      "execution_count": 18,
      "outputs": [
        {
          "output_type": "execute_result",
          "data": {
            "text/plain": [
              "dict_keys(['loss', 'lr'])"
            ]
          },
          "metadata": {
            "tags": []
          },
          "execution_count": 18
        }
      ]
    },
    {
      "cell_type": "code",
      "metadata": {
        "id": "fCzvb4osps3i",
        "colab_type": "code",
        "outputId": "178250f0-9e9f-4cd2-94d9-60309e2e8a1d",
        "colab": {
          "base_uri": "https://localhost:8080/",
          "height": 282
        }
      },
      "source": [
        "# Training Loss\n",
        "plt.plot(hist.history['loss'], label='Loss')"
      ],
      "execution_count": 19,
      "outputs": [
        {
          "output_type": "execute_result",
          "data": {
            "text/plain": [
              "[<matplotlib.lines.Line2D at 0x7f8102e6f7f0>]"
            ]
          },
          "metadata": {
            "tags": []
          },
          "execution_count": 19
        },
        {
          "output_type": "display_data",
          "data": {
            "image/png": "[encoded data removed]",
            "text/plain": [
              "<Figure size 432x288 with 1 Axes>"
            ]
          },
          "metadata": {
            "tags": []
          }
        }
      ]
    },
    {
      "cell_type": "code",
      "metadata": {
        "id": "mXIu0q4lp4J9",
        "colab_type": "code",
        "outputId": "3e8a986e-50ab-4be5-ab51-3a56a40ec5b3",
        "colab": {
          "base_uri": "https://localhost:8080/",
          "height": 51
        }
      },
      "source": [
        "# Ger the slope of the line\n",
        "# Slope of the line is related to doubling rate of the transistors as per the Moore's Law\n",
        "print(model.layers)\n",
        "# Returns two values, weight and a bias value\n",
        "print(model.layers[0].get_weights())"
      ],
      "execution_count": 20,
      "outputs": [
        {
          "output_type": "stream",
          "text": [
            "[<tensorflow.python.keras.layers.core.Dense object at 0x7f810c7365c0>]\n",
            "[array([[0.3217571]], dtype=float32), array([17.764511], dtype=float32)]\n"
          ],
          "name": "stdout"
        }
      ]
    },
    {
      "cell_type": "code",
      "metadata": {
        "id": "D2OImlQKqPJT",
        "colab_type": "code",
        "outputId": "c142b5b2-9c9e-4ba6-b32f-3f9b7e116993",
        "colab": {
          "base_uri": "https://localhost:8080/",
          "height": 34
        }
      },
      "source": [
        "# Slope of the line is\n",
        "a = model.layers[0].get_weights()[0][0,0]\n",
        "a"
      ],
      "execution_count": 21,
      "outputs": [
        {
          "output_type": "execute_result",
          "data": {
            "text/plain": [
              "0.3217571"
            ]
          },
          "metadata": {
            "tags": []
          },
          "execution_count": 21
        }
      ]
    },
    {
      "cell_type": "code",
      "metadata": {
        "id": "AKOpEHxKvUHN",
        "colab_type": "code",
        "colab": {
          "base_uri": "https://localhost:8080/",
          "height": 34
        },
        "outputId": "1e86cda7-7459-4be3-8024-9d0e7925a71c"
      },
      "source": [
        "b = model.layers[0].get_weights()[1][0]\n",
        "b"
      ],
      "execution_count": 22,
      "outputs": [
        {
          "output_type": "execute_result",
          "data": {
            "text/plain": [
              "17.764511"
            ]
          },
          "metadata": {
            "tags": []
          },
          "execution_count": 22
        }
      ]
    },
    {
      "cell_type": "code",
      "metadata": {
        "id": "2uNrNvmFqfqT",
        "colab_type": "code",
        "outputId": "962e4e60-4f86-4dc4-9ce6-0339ce48d31e",
        "colab": {
          "base_uri": "https://localhost:8080/",
          "height": 34
        }
      },
      "source": [
        "# Amount of time for the number of transistors to double\n",
        "print('Time to double: ', np.log(2)/a)"
      ],
      "execution_count": 23,
      "outputs": [
        {
          "output_type": "stream",
          "text": [
            "Time to double:  2.154256000516692\n"
          ],
          "name": "stdout"
        }
      ]
    },
    {
      "cell_type": "code",
      "metadata": {
        "id": "FC0NvuakvOKz",
        "colab_type": "code",
        "colab": {}
      },
      "source": [
        "# Plot the Best Fit line to Dataset\n",
        "def plot_best_fit_line(a, X, y, b):\n",
        "  y_hat = a*X + b\n",
        "  fig,ax = plt.subplots(figsize=(20,10))\n",
        "  ax.scatter(X,y, marker='^')\n",
        "  ax.set_xlabel('X')\n",
        "  ax.set_ylabel('y')\n",
        "  ax.plot(X,y_hat,c='r')\n",
        "  ax.set_title('Line fit to Input Data')"
      ],
      "execution_count": 0,
      "outputs": []
    },
    {
      "cell_type": "code",
      "metadata": {
        "id": "r8SdubdkvPJh",
        "colab_type": "code",
        "colab": {
          "base_uri": "https://localhost:8080/",
          "height": 641
        },
        "outputId": "262c0f90-e37c-4f57-9026-77fb3c107fc7"
      },
      "source": [
        "plot_best_fit_line(a, X, y, b)"
      ],
      "execution_count": 25,
      "outputs": [
        {
          "output_type": "display_data",
          "data": {
            "image/png": "[encoded data removed]",
            "text/plain": [
              "<Figure size 1440x720 with 1 Axes>"
            ]
          },
          "metadata": {
            "tags": []
          }
        }
      ]
    },
    {
      "cell_type": "code",
      "metadata": {
        "id": "YahN4JjErimc",
        "colab_type": "code",
        "outputId": "3f1580c9-2f0b-4bf9-b9fb-69309bc5abfc",
        "colab": {
          "base_uri": "https://localhost:8080/",
          "height": 51
        }
      },
      "source": [
        "# Analytical Solution\n",
        "X = np.array(X).flatten()\n",
        "y = np.array(y)\n",
        "denominator = X.dot(X) - X.mean() * X.sum()\n",
        "a = (X.dot(y) - y.mean()*X.sum()) / denominator\n",
        "b = (y.mean() * X.dot(X) - X.mean()) / denominator\n",
        "print('Weight: {0}\\t Bias: {1}'.format(a, b))\n",
        "print('Time to Double: ', np.log(2)/a)"
      ],
      "execution_count": 26,
      "outputs": [
        {
          "output_type": "stream",
          "text": [
            "Weight: 0.341682487387313\t Bias: 17.76493939363179\n",
            "Time to Double:  2.0286295205239204\n"
          ],
          "name": "stdout"
        }
      ]
    },
    {
      "cell_type": "code",
      "metadata": {
        "id": "By3ZwrYTuNzH",
        "colab_type": "code",
        "colab": {
          "base_uri": "https://localhost:8080/",
          "height": 641
        },
        "outputId": "56cdea09-02cc-4253-c662-726bf1d2ca0f"
      },
      "source": [
        "plot_best_fit_line(a, X, y, b)"
      ],
      "execution_count": 27,
      "outputs": [
        {
          "output_type": "display_data",
          "data": {
            "image/png": "[encoded data removed]",
            "text/plain": [
              "<Figure size 1440x720 with 1 Axes>"
            ]
          },
          "metadata": {
            "tags": []
          }
        }
      ]
    }
  ]
}