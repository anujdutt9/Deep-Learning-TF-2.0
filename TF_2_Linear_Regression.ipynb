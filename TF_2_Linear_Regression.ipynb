{
  "nbformat": 4,
  "nbformat_minor": 0,
  "metadata": {
    "colab": {
      "name": "TF-2-Linear-Regression.ipynb",
      "provenance": [],
      "collapsed_sections": [],
      "authorship_tag": "ABX9TyMg0gCUUKvCuDXQGDHGXnjD",
      "include_colab_link": true
    },
    "kernelspec": {
      "name": "python3",
      "display_name": "Python 3"
    }
  },
  "cells": [
    {
      "cell_type": "markdown",
      "metadata": {
        "id": "view-in-github",
        "colab_type": "text"
      },
      "source": [
        "<a href=\"https://colab.research.google.com/github/anujdutt9/Deep-Learning-TF-2.0/blob/master/TF_2_Linear_Regression.ipynb\" target=\"_parent\"><img src=\"https://colab.research.google.com/assets/colab-badge.svg\" alt=\"Open In Colab\"/></a>"
      ]
    },
    {
      "cell_type": "code",
      "metadata": {
        "id": "zjDV1j5ikN9-",
        "colab_type": "code",
        "outputId": "986b76cb-c582-4552-dcb0-734587a1ede5",
        "colab": {
          "base_uri": "https://localhost:8080/",
          "height": 119
        }
      },
      "source": [
        "%tensorflow_version 2.1\n",
        "import tensorflow as tf\n",
        "tf.__version__"
      ],
      "execution_count": 1,
      "outputs": [
        {
          "output_type": "stream",
          "text": [
            "`%tensorflow_version` only switches the major version: 1.x or 2.x.\n",
            "You set: `2.1`. This will be interpreted as: `2.x`.\n",
            "\n",
            "\n",
            "TensorFlow 2.x selected.\n"
          ],
          "name": "stdout"
        },
        {
          "output_type": "execute_result",
          "data": {
            "text/plain": [
              "'2.1.0'"
            ]
          },
          "metadata": {
            "tags": []
          },
          "execution_count": 1
        }
      ]
    },
    {
      "cell_type": "code",
      "metadata": {
        "id": "oOD37tSlkVx4",
        "colab_type": "code",
        "colab": {}
      },
      "source": [
        "import pandas as pd\n",
        "import numpy as np\n",
        "import matplotlib.pyplot as plt"
      ],
      "execution_count": 0,
      "outputs": []
    },
    {
      "cell_type": "code",
      "metadata": {
        "id": "rC2mGS_IkdYh",
        "colab_type": "code",
        "outputId": "4baba1de-4c0d-4ae0-e601-13365441c337",
        "colab": {
          "resources": {
            "http://localhost:8080/nbextensions/google.colab/files.js": {
              "data": "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",
              "ok": true,
              "headers": [
                [
                  "content-type",
                  "application/javascript"
                ]
              ],
              "status": 200,
              "status_text": ""
            }
          },
          "base_uri": "https://localhost:8080/",
          "height": 71
        }
      },
      "source": [
        "# Load the Dataset File\n",
        "from google.colab import files\n",
        "uploaded = files.upload()"
      ],
      "execution_count": 3,
      "outputs": [
        {
          "output_type": "display_data",
          "data": {
            "text/html": [
              "\n",
              "     <input type=\"file\" id=\"files-70878274-cf85-4b65-bb32-a9a3e582bc1d\" name=\"files[]\" multiple disabled />\n",
              "     <output id=\"result-70878274-cf85-4b65-bb32-a9a3e582bc1d\">\n",
              "      Upload widget is only available when the cell has been executed in the\n",
              "      current browser session. Please rerun this cell to enable.\n",
              "      </output>\n",
              "      <script src=\"/nbextensions/google.colab/files.js\"></script> "
            ],
            "text/plain": [
              "<IPython.core.display.HTML object>"
            ]
          },
          "metadata": {
            "tags": []
          }
        },
        {
          "output_type": "stream",
          "text": [
            "Saving moore.csv to moore (2).csv\n"
          ],
          "name": "stdout"
        }
      ]
    },
    {
      "cell_type": "code",
      "metadata": {
        "id": "UXNXbjqwk6g3",
        "colab_type": "code",
        "outputId": "0bbb8254-fbd0-4d18-a59d-fbb9beb23cbf",
        "colab": {
          "base_uri": "https://localhost:8080/",
          "height": 34
        }
      },
      "source": [
        "!ls"
      ],
      "execution_count": 4,
      "outputs": [
        {
          "output_type": "stream",
          "text": [
            "'moore (1).csv'  'moore (2).csv'   moore.csv   sample_data\n"
          ],
          "name": "stdout"
        }
      ]
    },
    {
      "cell_type": "code",
      "metadata": {
        "id": "sHUKQBu-lFH5",
        "colab_type": "code",
        "outputId": "a5b2d841-e958-4ee9-e3a9-7105884e2a03",
        "colab": {
          "base_uri": "https://localhost:8080/",
          "height": 187
        }
      },
      "source": [
        "!head moore.csv"
      ],
      "execution_count": 5,
      "outputs": [
        {
          "output_type": "stream",
          "text": [
            "1971,2300\n",
            "1972,3500\n",
            "1973,2500\n",
            "1973,2500\n",
            "1974,4100\n",
            "1974,4500\n",
            "1974,8000\n",
            "1975,3510\n",
            "1976,5000\n",
            "1976,8500\n"
          ],
          "name": "stdout"
        }
      ]
    },
    {
      "cell_type": "code",
      "metadata": {
        "id": "CbOmcI3jk-Zj",
        "colab_type": "code",
        "outputId": "2a495e8f-c62a-456d-d6ef-e02c6c7e2b3a",
        "colab": {
          "base_uri": "https://localhost:8080/",
          "height": 187
        }
      },
      "source": [
        "# Load the Dataset\n",
        "df = pd.read_csv('moore.csv', header=None).values\n",
        "df[:10]"
      ],
      "execution_count": 6,
      "outputs": [
        {
          "output_type": "execute_result",
          "data": {
            "text/plain": [
              "array([[1971, 2300],\n",
              "       [1972, 3500],\n",
              "       [1973, 2500],\n",
              "       [1973, 2500],\n",
              "       [1974, 4100],\n",
              "       [1974, 4500],\n",
              "       [1974, 8000],\n",
              "       [1975, 3510],\n",
              "       [1976, 5000],\n",
              "       [1976, 8500]])"
            ]
          },
          "metadata": {
            "tags": []
          },
          "execution_count": 6
        }
      ]
    },
    {
      "cell_type": "code",
      "metadata": {
        "id": "6H9pLO6BlQ63",
        "colab_type": "code",
        "outputId": "2e66257f-e76f-4cd9-8aed-c9d9f9e59212",
        "colab": {
          "base_uri": "https://localhost:8080/",
          "height": 34
        }
      },
      "source": [
        "# Features\n",
        "X = df[:,0].reshape(-1,1)\n",
        "X.shape"
      ],
      "execution_count": 7,
      "outputs": [
        {
          "output_type": "execute_result",
          "data": {
            "text/plain": [
              "(162, 1)"
            ]
          },
          "metadata": {
            "tags": []
          },
          "execution_count": 7
        }
      ]
    },
    {
      "cell_type": "code",
      "metadata": {
        "id": "YkW4RCzvldBQ",
        "colab_type": "code",
        "outputId": "0ad911e4-6e9a-47a8-f1a9-695b116cf755",
        "colab": {
          "base_uri": "https://localhost:8080/",
          "height": 34
        }
      },
      "source": [
        "# Labels\n",
        "y = df[:,1]\n",
        "y.shape"
      ],
      "execution_count": 8,
      "outputs": [
        {
          "output_type": "execute_result",
          "data": {
            "text/plain": [
              "(162,)"
            ]
          },
          "metadata": {
            "tags": []
          },
          "execution_count": 8
        }
      ]
    },
    {
      "cell_type": "code",
      "metadata": {
        "id": "WjhSBjGUl9JR",
        "colab_type": "code",
        "outputId": "ffbc1ca7-24df-4be5-c34c-c4dce14c9c58",
        "colab": {
          "base_uri": "https://localhost:8080/",
          "height": 293
        }
      },
      "source": [
        "# Plot the Dataset\n",
        "plt.scatter(X,y,marker='^')"
      ],
      "execution_count": 9,
      "outputs": [
        {
          "output_type": "execute_result",
          "data": {
            "text/plain": [
              "<matplotlib.collections.PathCollection at 0x7f682287dc18>"
            ]
          },
          "metadata": {
            "tags": []
          },
          "execution_count": 9
        },
        {
          "output_type": "display_data",
          "data": {
            "image/png": "[encoded data removed]",
            "text/plain": [
              "<Figure size 432x288 with 1 Axes>"
            ]
          },
          "metadata": {
            "tags": []
          }
        }
      ]
    },
    {
      "cell_type": "code",
      "metadata": {
        "id": "3Lmg3_nomSDa",
        "colab_type": "code",
        "outputId": "bb9fec7f-f3ca-4056-a51f-b7fb680783c9",
        "colab": {
          "base_uri": "https://localhost:8080/",
          "height": 34
        }
      },
      "source": [
        "# The dataset is exponential. Since we want the linear dataset, we take the log of the datase\n",
        "y = np.log(y)\n",
        "y.shape"
      ],
      "execution_count": 10,
      "outputs": [
        {
          "output_type": "execute_result",
          "data": {
            "text/plain": [
              "(162,)"
            ]
          },
          "metadata": {
            "tags": []
          },
          "execution_count": 10
        }
      ]
    },
    {
      "cell_type": "code",
      "metadata": {
        "id": "uCHHLCFDmnD1",
        "colab_type": "code",
        "outputId": "7b7b9bd1-1353-4f5f-b781-60f5d7fbae55",
        "colab": {
          "base_uri": "https://localhost:8080/",
          "height": 282
        }
      },
      "source": [
        "# Plot the dataset again\n",
        "plt.scatter(X,y,marker='^')"
      ],
      "execution_count": 11,
      "outputs": [
        {
          "output_type": "execute_result",
          "data": {
            "text/plain": [
              "<matplotlib.collections.PathCollection at 0x7f681fbd03c8>"
            ]
          },
          "metadata": {
            "tags": []
          },
          "execution_count": 11
        },
        {
          "output_type": "display_data",
          "data": {
            "image/png": "[encoded data removed]",
            "text/plain": [
              "<Figure size 432x288 with 1 Axes>"
            ]
          },
          "metadata": {
            "tags": []
          }
        }
      ]
    },
    {
      "cell_type": "code",
      "metadata": {
        "id": "kt2Z92Pkmro3",
        "colab_type": "code",
        "colab": {}
      },
      "source": [
        "# Center the X data i.e. years so that values are not too large\n",
        "X = X - X.mean()"
      ],
      "execution_count": 0,
      "outputs": []
    },
    {
      "cell_type": "code",
      "metadata": {
        "id": "hPhoroD_nLcI",
        "colab_type": "code",
        "outputId": "29847af9-3dec-4d6c-999a-0d601599994e",
        "colab": {
          "base_uri": "https://localhost:8080/",
          "height": 282
        }
      },
      "source": [
        "# Plot the dataset again\n",
        "plt.scatter(X,y,marker='^')"
      ],
      "execution_count": 13,
      "outputs": [
        {
          "output_type": "execute_result",
          "data": {
            "text/plain": [
              "<matplotlib.collections.PathCollection at 0x7f681fb3bcc0>"
            ]
          },
          "metadata": {
            "tags": []
          },
          "execution_count": 13
        },
        {
          "output_type": "display_data",
          "data": {
            "image/png": "[encoded data removed]",
            "text/plain": [
              "<Figure size 432x288 with 1 Axes>"
            ]
          },
          "metadata": {
            "tags": []
          }
        }
      ]
    },
    {
      "cell_type": "code",
      "metadata": {
        "id": "z9S1dremnPQZ",
        "colab_type": "code",
        "outputId": "d3329819-9912-4c40-87a8-bad5dc6107bb",
        "colab": {
          "base_uri": "https://localhost:8080/",
          "height": 187
        }
      },
      "source": [
        "# Built the Model\n",
        "model = tf.keras.Sequential([\n",
        "                             tf.keras.layers.Input(shape=(1,)),\n",
        "                             tf.keras.layers.Dense(1)\n",
        "])\n",
        "\n",
        "# Print Model Summary\n",
        "model.summary()"
      ],
      "execution_count": 14,
      "outputs": [
        {
          "output_type": "stream",
          "text": [
            "Model: \"sequential\"\n",
            "_________________________________________________________________\n",
            "Layer (type)                 Output Shape              Param #   \n",
            "=================================================================\n",
            "dense (Dense)                (None, 1)                 2         \n",
            "=================================================================\n",
            "Total params: 2\n",
            "Trainable params: 2\n",
            "Non-trainable params: 0\n",
            "_________________________________________________________________\n"
          ],
          "name": "stdout"
        }
      ]
    },
    {
      "cell_type": "code",
      "metadata": {
        "id": "EmgKE65Mnnhl",
        "colab_type": "code",
        "colab": {}
      },
      "source": [
        "# Compile the Model with SGD Optimizer and MSE Loss\n",
        "model.compile(optimizer=tf.keras.optimizers.SGD(learning_rate=0.001, momentum=0.9), loss='mse')"
      ],
      "execution_count": 0,
      "outputs": []
    },
    {
      "cell_type": "code",
      "metadata": {
        "id": "0FcfxlBEn6MR",
        "colab_type": "code",
        "colab": {}
      },
      "source": [
        "# Learning Rate Scheduler\n",
        "def scheduleLR(epoch, lr):\n",
        "  # Change Learning Rate based on Epochs\n",
        "  if (epoch >= 50):\n",
        "    return 0.0001\n",
        "  return 0.001\n",
        "\n",
        "# LR Scehduler\n",
        "lr_scheduler= tf.keras.callbacks.LearningRateScheduler(scheduleLR)"
      ],
      "execution_count": 0,
      "outputs": []
    },
    {
      "cell_type": "code",
      "metadata": {
        "id": "Nu66Y9zEoePE",
        "colab_type": "code",
        "outputId": "0925082f-3faf-4450-e8f1-86f4f874199c",
        "colab": {
          "base_uri": "https://localhost:8080/",
          "height": 1000
        }
      },
      "source": [
        "# Train the Model with Learning Rate Scheduler passed in as a callback function\n",
        "# A callback is a set of functions to be applied at given stages of the training procedure. \n",
        "# You can use callbacks to get a view on internal states and statistics of the model during training\n",
        "hist = model.fit(x=X, y=y, epochs=200, callbacks=[lr_scheduler], verbose=1)"
      ],
      "execution_count": 17,
      "outputs": [
        {
          "output_type": "stream",
          "text": [
            "Train on 162 samples\n",
            "Epoch 1/200\n",
            "162/162 [==============================] - 0s 1ms/sample - loss: 315.6472\n",
            "Epoch 2/200\n",
            "162/162 [==============================] - 0s 81us/sample - loss: 354.8456\n",
            "Epoch 3/200\n",
            "162/162 [==============================] - 0s 105us/sample - loss: 344.2870\n",
            "Epoch 4/200\n",
            "162/162 [==============================] - 0s 87us/sample - loss: 240.0737\n",
            "Epoch 5/200\n",
            "162/162 [==============================] - 0s 76us/sample - loss: 274.1386\n",
            "Epoch 6/200\n",
            "162/162 [==============================] - 0s 77us/sample - loss: 298.3582\n",
            "Epoch 7/200\n",
            "162/162 [==============================] - 0s 77us/sample - loss: 224.8023\n",
            "Epoch 8/200\n",
            "162/162 [==============================] - 0s 77us/sample - loss: 215.2543\n",
            "Epoch 9/200\n",
            "162/162 [==============================] - 0s 78us/sample - loss: 124.6420\n",
            "Epoch 10/200\n",
            "162/162 [==============================] - 0s 83us/sample - loss: 99.4915\n",
            "Epoch 11/200\n",
            "162/162 [==============================] - 0s 77us/sample - loss: 76.6196\n",
            "Epoch 12/200\n",
            "162/162 [==============================] - 0s 75us/sample - loss: 48.8101\n",
            "Epoch 13/200\n",
            "162/162 [==============================] - 0s 76us/sample - loss: 29.3689\n",
            "Epoch 14/200\n",
            "162/162 [==============================] - 0s 81us/sample - loss: 16.3144\n",
            "Epoch 15/200\n",
            "162/162 [==============================] - 0s 70us/sample - loss: 11.0186\n",
            "Epoch 16/200\n",
            "162/162 [==============================] - 0s 113us/sample - loss: 9.0914\n",
            "Epoch 17/200\n",
            "162/162 [==============================] - 0s 84us/sample - loss: 6.5126\n",
            "Epoch 18/200\n",
            "162/162 [==============================] - 0s 92us/sample - loss: 4.8973\n",
            "Epoch 19/200\n",
            "162/162 [==============================] - 0s 79us/sample - loss: 3.4298\n",
            "Epoch 20/200\n",
            "162/162 [==============================] - 0s 130us/sample - loss: 3.2982\n",
            "Epoch 21/200\n",
            "162/162 [==============================] - 0s 79us/sample - loss: 2.7678\n",
            "Epoch 22/200\n",
            "162/162 [==============================] - 0s 83us/sample - loss: 2.3692\n",
            "Epoch 23/200\n",
            "162/162 [==============================] - 0s 94us/sample - loss: 2.4661\n",
            "Epoch 24/200\n",
            "162/162 [==============================] - 0s 114us/sample - loss: 1.8383\n",
            "Epoch 25/200\n",
            "162/162 [==============================] - 0s 92us/sample - loss: 1.6509\n",
            "Epoch 26/200\n",
            "162/162 [==============================] - 0s 80us/sample - loss: 1.7495\n",
            "Epoch 27/200\n",
            "162/162 [==============================] - 0s 75us/sample - loss: 1.0723\n",
            "Epoch 28/200\n",
            "162/162 [==============================] - 0s 78us/sample - loss: 1.0658\n",
            "Epoch 29/200\n",
            "162/162 [==============================] - 0s 74us/sample - loss: 1.0341\n",
            "Epoch 30/200\n",
            "162/162 [==============================] - 0s 72us/sample - loss: 0.9778\n",
            "Epoch 31/200\n",
            "162/162 [==============================] - 0s 89us/sample - loss: 1.0003\n",
            "Epoch 32/200\n",
            "162/162 [==============================] - 0s 81us/sample - loss: 0.9533\n",
            "Epoch 33/200\n",
            "162/162 [==============================] - 0s 81us/sample - loss: 0.9037\n",
            "Epoch 34/200\n",
            "162/162 [==============================] - 0s 91us/sample - loss: 0.9047\n",
            "Epoch 35/200\n",
            "162/162 [==============================] - 0s 71us/sample - loss: 0.9065\n",
            "Epoch 36/200\n",
            "162/162 [==============================] - 0s 98us/sample - loss: 0.9141\n",
            "Epoch 37/200\n",
            "162/162 [==============================] - 0s 110us/sample - loss: 1.0246\n",
            "Epoch 38/200\n",
            "162/162 [==============================] - 0s 92us/sample - loss: 1.0171\n",
            "Epoch 39/200\n",
            "162/162 [==============================] - 0s 65us/sample - loss: 1.0424\n",
            "Epoch 40/200\n",
            "162/162 [==============================] - 0s 102us/sample - loss: 1.2025\n",
            "Epoch 41/200\n",
            "162/162 [==============================] - 0s 76us/sample - loss: 1.0276\n",
            "Epoch 42/200\n",
            "162/162 [==============================] - 0s 103us/sample - loss: 1.1321\n",
            "Epoch 43/200\n",
            "162/162 [==============================] - 0s 90us/sample - loss: 1.0718\n",
            "Epoch 44/200\n",
            "162/162 [==============================] - 0s 87us/sample - loss: 1.0739\n",
            "Epoch 45/200\n",
            "162/162 [==============================] - 0s 92us/sample - loss: 0.9448\n",
            "Epoch 46/200\n",
            "162/162 [==============================] - 0s 101us/sample - loss: 0.9337\n",
            "Epoch 47/200\n",
            "162/162 [==============================] - 0s 89us/sample - loss: 0.8779\n",
            "Epoch 48/200\n",
            "162/162 [==============================] - 0s 93us/sample - loss: 0.8932\n",
            "Epoch 49/200\n",
            "162/162 [==============================] - 0s 99us/sample - loss: 0.8792\n",
            "Epoch 50/200\n",
            "162/162 [==============================] - 0s 105us/sample - loss: 0.8898\n",
            "Epoch 51/200\n",
            "162/162 [==============================] - 0s 86us/sample - loss: 0.9518\n",
            "Epoch 52/200\n",
            "162/162 [==============================] - 0s 107us/sample - loss: 0.8991\n",
            "Epoch 53/200\n",
            "162/162 [==============================] - 0s 91us/sample - loss: 0.8751\n",
            "Epoch 54/200\n",
            "162/162 [==============================] - 0s 89us/sample - loss: 0.8750\n",
            "Epoch 55/200\n",
            "162/162 [==============================] - 0s 126us/sample - loss: 0.8737\n",
            "Epoch 56/200\n",
            "162/162 [==============================] - 0s 83us/sample - loss: 0.8784\n",
            "Epoch 57/200\n",
            "162/162 [==============================] - 0s 86us/sample - loss: 0.8928\n",
            "Epoch 58/200\n",
            "162/162 [==============================] - 0s 92us/sample - loss: 0.8759\n",
            "Epoch 59/200\n",
            "162/162 [==============================] - 0s 90us/sample - loss: 0.8713\n",
            "Epoch 60/200\n",
            "162/162 [==============================] - 0s 80us/sample - loss: 0.8764\n",
            "Epoch 61/200\n",
            "162/162 [==============================] - 0s 82us/sample - loss: 0.8733\n",
            "Epoch 62/200\n",
            "162/162 [==============================] - 0s 97us/sample - loss: 0.8715\n",
            "Epoch 63/200\n",
            "162/162 [==============================] - 0s 85us/sample - loss: 0.8744\n",
            "Epoch 64/200\n",
            "162/162 [==============================] - 0s 100us/sample - loss: 0.8773\n",
            "Epoch 65/200\n",
            "162/162 [==============================] - 0s 115us/sample - loss: 0.9347\n",
            "Epoch 66/200\n",
            "162/162 [==============================] - 0s 79us/sample - loss: 0.9177\n",
            "Epoch 67/200\n",
            "162/162 [==============================] - 0s 93us/sample - loss: 0.8792\n",
            "Epoch 68/200\n",
            "162/162 [==============================] - 0s 97us/sample - loss: 0.8703\n",
            "Epoch 69/200\n",
            "162/162 [==============================] - 0s 89us/sample - loss: 0.8817\n",
            "Epoch 70/200\n",
            "162/162 [==============================] - 0s 81us/sample - loss: 0.8788\n",
            "Epoch 71/200\n",
            "162/162 [==============================] - 0s 78us/sample - loss: 0.8687\n",
            "Epoch 72/200\n",
            "162/162 [==============================] - 0s 74us/sample - loss: 0.8930\n",
            "Epoch 73/200\n",
            "162/162 [==============================] - 0s 75us/sample - loss: 0.9050\n",
            "Epoch 74/200\n",
            "162/162 [==============================] - 0s 76us/sample - loss: 0.8649\n",
            "Epoch 75/200\n",
            "162/162 [==============================] - 0s 75us/sample - loss: 0.8833\n",
            "Epoch 76/200\n",
            "162/162 [==============================] - 0s 82us/sample - loss: 0.8739\n",
            "Epoch 77/200\n",
            "162/162 [==============================] - 0s 93us/sample - loss: 0.8707\n",
            "Epoch 78/200\n",
            "162/162 [==============================] - 0s 102us/sample - loss: 0.8711\n",
            "Epoch 79/200\n",
            "162/162 [==============================] - 0s 90us/sample - loss: 0.8743\n",
            "Epoch 80/200\n",
            "162/162 [==============================] - 0s 93us/sample - loss: 0.8779\n",
            "Epoch 81/200\n",
            "162/162 [==============================] - 0s 73us/sample - loss: 0.8719\n",
            "Epoch 82/200\n",
            "162/162 [==============================] - 0s 96us/sample - loss: 0.8790\n",
            "Epoch 83/200\n",
            "162/162 [==============================] - 0s 84us/sample - loss: 0.9039\n",
            "Epoch 84/200\n",
            "162/162 [==============================] - 0s 87us/sample - loss: 0.8780\n",
            "Epoch 85/200\n",
            "162/162 [==============================] - 0s 86us/sample - loss: 0.8925\n",
            "Epoch 86/200\n",
            "162/162 [==============================] - 0s 72us/sample - loss: 0.8836\n",
            "Epoch 87/200\n",
            "162/162 [==============================] - 0s 70us/sample - loss: 0.8696\n",
            "Epoch 88/200\n",
            "162/162 [==============================] - 0s 79us/sample - loss: 0.8725\n",
            "Epoch 89/200\n",
            "162/162 [==============================] - 0s 75us/sample - loss: 0.8816\n",
            "Epoch 90/200\n",
            "162/162 [==============================] - 0s 87us/sample - loss: 0.8802\n",
            "Epoch 91/200\n",
            "162/162 [==============================] - 0s 82us/sample - loss: 0.8758\n",
            "Epoch 92/200\n",
            "162/162 [==============================] - 0s 85us/sample - loss: 0.8762\n",
            "Epoch 93/200\n",
            "162/162 [==============================] - 0s 78us/sample - loss: 0.8707\n",
            "Epoch 94/200\n",
            "162/162 [==============================] - 0s 115us/sample - loss: 0.8805\n",
            "Epoch 95/200\n",
            "162/162 [==============================] - 0s 100us/sample - loss: 0.8861\n",
            "Epoch 96/200\n",
            "162/162 [==============================] - 0s 98us/sample - loss: 0.8742\n",
            "Epoch 97/200\n",
            "162/162 [==============================] - 0s 91us/sample - loss: 0.8783\n",
            "Epoch 98/200\n",
            "162/162 [==============================] - 0s 121us/sample - loss: 0.9022\n",
            "Epoch 99/200\n",
            "162/162 [==============================] - 0s 138us/sample - loss: 0.8776\n",
            "Epoch 100/200\n",
            "162/162 [==============================] - 0s 67us/sample - loss: 0.8748\n",
            "Epoch 101/200\n",
            "162/162 [==============================] - 0s 72us/sample - loss: 0.8794\n",
            "Epoch 102/200\n",
            "162/162 [==============================] - 0s 95us/sample - loss: 0.8753\n",
            "Epoch 103/200\n",
            "162/162 [==============================] - 0s 89us/sample - loss: 0.8694\n",
            "Epoch 104/200\n",
            "162/162 [==============================] - 0s 65us/sample - loss: 0.8728\n",
            "Epoch 105/200\n",
            "162/162 [==============================] - 0s 112us/sample - loss: 0.8761\n",
            "Epoch 106/200\n",
            "162/162 [==============================] - 0s 95us/sample - loss: 0.8696\n",
            "Epoch 107/200\n",
            "162/162 [==============================] - 0s 95us/sample - loss: 0.8699\n",
            "Epoch 108/200\n",
            "162/162 [==============================] - 0s 82us/sample - loss: 0.8956\n",
            "Epoch 109/200\n",
            "162/162 [==============================] - 0s 86us/sample - loss: 0.8845\n",
            "Epoch 110/200\n",
            "162/162 [==============================] - 0s 93us/sample - loss: 0.8988\n",
            "Epoch 111/200\n",
            "162/162 [==============================] - 0s 75us/sample - loss: 0.8930\n",
            "Epoch 112/200\n",
            "162/162 [==============================] - 0s 71us/sample - loss: 0.8767\n",
            "Epoch 113/200\n",
            "162/162 [==============================] - 0s 75us/sample - loss: 0.8843\n",
            "Epoch 114/200\n",
            "162/162 [==============================] - 0s 84us/sample - loss: 0.8740\n",
            "Epoch 115/200\n",
            "162/162 [==============================] - 0s 89us/sample - loss: 0.8686\n",
            "Epoch 116/200\n",
            "162/162 [==============================] - 0s 68us/sample - loss: 0.8836\n",
            "Epoch 117/200\n",
            "162/162 [==============================] - 0s 75us/sample - loss: 0.8707\n",
            "Epoch 118/200\n",
            "162/162 [==============================] - 0s 116us/sample - loss: 0.9119\n",
            "Epoch 119/200\n",
            "162/162 [==============================] - 0s 154us/sample - loss: 0.9253\n",
            "Epoch 120/200\n",
            "162/162 [==============================] - 0s 109us/sample - loss: 0.8702\n",
            "Epoch 121/200\n",
            "162/162 [==============================] - 0s 140us/sample - loss: 0.8898\n",
            "Epoch 122/200\n",
            "162/162 [==============================] - 0s 134us/sample - loss: 0.8996\n",
            "Epoch 123/200\n",
            "162/162 [==============================] - 0s 94us/sample - loss: 0.8685\n",
            "Epoch 124/200\n",
            "162/162 [==============================] - 0s 85us/sample - loss: 0.8735\n",
            "Epoch 125/200\n",
            "162/162 [==============================] - 0s 80us/sample - loss: 0.8847\n",
            "Epoch 126/200\n",
            "162/162 [==============================] - 0s 71us/sample - loss: 0.8827\n",
            "Epoch 127/200\n",
            "162/162 [==============================] - 0s 83us/sample - loss: 0.8713\n",
            "Epoch 128/200\n",
            "162/162 [==============================] - 0s 88us/sample - loss: 0.8712\n",
            "Epoch 129/200\n",
            "162/162 [==============================] - 0s 103us/sample - loss: 0.8691\n",
            "Epoch 130/200\n",
            "162/162 [==============================] - 0s 86us/sample - loss: 0.8709\n",
            "Epoch 131/200\n",
            "162/162 [==============================] - 0s 82us/sample - loss: 0.8718\n",
            "Epoch 132/200\n",
            "162/162 [==============================] - 0s 138us/sample - loss: 0.8799\n",
            "Epoch 133/200\n",
            "162/162 [==============================] - 0s 93us/sample - loss: 0.8766\n",
            "Epoch 134/200\n",
            "162/162 [==============================] - 0s 94us/sample - loss: 0.8802\n",
            "Epoch 135/200\n",
            "162/162 [==============================] - 0s 104us/sample - loss: 0.9082\n",
            "Epoch 136/200\n",
            "162/162 [==============================] - 0s 110us/sample - loss: 0.8696\n",
            "Epoch 137/200\n",
            "162/162 [==============================] - 0s 79us/sample - loss: 0.8973\n",
            "Epoch 138/200\n",
            "162/162 [==============================] - 0s 76us/sample - loss: 0.8822\n",
            "Epoch 139/200\n",
            "162/162 [==============================] - 0s 74us/sample - loss: 0.9560\n",
            "Epoch 140/200\n",
            "162/162 [==============================] - 0s 68us/sample - loss: 0.8796\n",
            "Epoch 141/200\n",
            "162/162 [==============================] - 0s 86us/sample - loss: 0.8976\n",
            "Epoch 142/200\n",
            "162/162 [==============================] - 0s 87us/sample - loss: 0.9210\n",
            "Epoch 143/200\n",
            "162/162 [==============================] - 0s 101us/sample - loss: 0.8848\n",
            "Epoch 144/200\n",
            "162/162 [==============================] - 0s 84us/sample - loss: 0.8757\n",
            "Epoch 145/200\n",
            "162/162 [==============================] - 0s 88us/sample - loss: 0.8876\n",
            "Epoch 146/200\n",
            "162/162 [==============================] - 0s 79us/sample - loss: 0.8706\n",
            "Epoch 147/200\n",
            "162/162 [==============================] - 0s 81us/sample - loss: 0.8734\n",
            "Epoch 148/200\n",
            "162/162 [==============================] - 0s 104us/sample - loss: 0.8770\n",
            "Epoch 149/200\n",
            "162/162 [==============================] - 0s 84us/sample - loss: 0.8716\n",
            "Epoch 150/200\n",
            "162/162 [==============================] - 0s 85us/sample - loss: 0.8777\n",
            "Epoch 151/200\n",
            "162/162 [==============================] - 0s 76us/sample - loss: 0.8739\n",
            "Epoch 152/200\n",
            "162/162 [==============================] - 0s 68us/sample - loss: 0.8792\n",
            "Epoch 153/200\n",
            "162/162 [==============================] - 0s 99us/sample - loss: 0.9074\n",
            "Epoch 154/200\n",
            "162/162 [==============================] - 0s 96us/sample - loss: 0.9031\n",
            "Epoch 155/200\n",
            "162/162 [==============================] - 0s 103us/sample - loss: 0.9333\n",
            "Epoch 156/200\n",
            "162/162 [==============================] - 0s 69us/sample - loss: 0.8741\n",
            "Epoch 157/200\n",
            "162/162 [==============================] - 0s 87us/sample - loss: 0.8802\n",
            "Epoch 158/200\n",
            "162/162 [==============================] - 0s 83us/sample - loss: 0.9218\n",
            "Epoch 159/200\n",
            "162/162 [==============================] - 0s 86us/sample - loss: 0.9049\n",
            "Epoch 160/200\n",
            "162/162 [==============================] - 0s 84us/sample - loss: 0.8716\n",
            "Epoch 161/200\n",
            "162/162 [==============================] - 0s 81us/sample - loss: 0.8932\n",
            "Epoch 162/200\n",
            "162/162 [==============================] - 0s 100us/sample - loss: 0.8774\n",
            "Epoch 163/200\n",
            "162/162 [==============================] - 0s 85us/sample - loss: 0.8768\n",
            "Epoch 164/200\n",
            "162/162 [==============================] - 0s 90us/sample - loss: 0.8880\n",
            "Epoch 165/200\n",
            "162/162 [==============================] - 0s 71us/sample - loss: 0.8792\n",
            "Epoch 166/200\n",
            "162/162 [==============================] - 0s 80us/sample - loss: 0.8739\n",
            "Epoch 167/200\n",
            "162/162 [==============================] - 0s 92us/sample - loss: 0.8740\n",
            "Epoch 168/200\n",
            "162/162 [==============================] - 0s 97us/sample - loss: 0.8731\n",
            "Epoch 169/200\n",
            "162/162 [==============================] - 0s 75us/sample - loss: 0.8798\n",
            "Epoch 170/200\n",
            "162/162 [==============================] - 0s 75us/sample - loss: 0.8700\n",
            "Epoch 171/200\n",
            "162/162 [==============================] - 0s 76us/sample - loss: 0.9005\n",
            "Epoch 172/200\n",
            "162/162 [==============================] - 0s 96us/sample - loss: 0.8852\n",
            "Epoch 173/200\n",
            "162/162 [==============================] - 0s 84us/sample - loss: 0.8752\n",
            "Epoch 174/200\n",
            "162/162 [==============================] - 0s 78us/sample - loss: 0.8750\n",
            "Epoch 175/200\n",
            "162/162 [==============================] - 0s 95us/sample - loss: 0.8731\n",
            "Epoch 176/200\n",
            "162/162 [==============================] - 0s 96us/sample - loss: 0.8822\n",
            "Epoch 177/200\n",
            "162/162 [==============================] - 0s 92us/sample - loss: 0.8835\n",
            "Epoch 178/200\n",
            "162/162 [==============================] - 0s 73us/sample - loss: 0.8830\n",
            "Epoch 179/200\n",
            "162/162 [==============================] - 0s 72us/sample - loss: 0.8712\n",
            "Epoch 180/200\n",
            "162/162 [==============================] - 0s 79us/sample - loss: 0.8711\n",
            "Epoch 181/200\n",
            "162/162 [==============================] - 0s 82us/sample - loss: 0.8729\n",
            "Epoch 182/200\n",
            "162/162 [==============================] - 0s 92us/sample - loss: 0.8738\n",
            "Epoch 183/200\n",
            "162/162 [==============================] - 0s 82us/sample - loss: 0.8727\n",
            "Epoch 184/200\n",
            "162/162 [==============================] - 0s 86us/sample - loss: 0.8712\n",
            "Epoch 185/200\n",
            "162/162 [==============================] - 0s 85us/sample - loss: 0.8705\n",
            "Epoch 186/200\n",
            "162/162 [==============================] - 0s 84us/sample - loss: 0.8724\n",
            "Epoch 187/200\n",
            "162/162 [==============================] - 0s 108us/sample - loss: 0.8708\n",
            "Epoch 188/200\n",
            "162/162 [==============================] - 0s 85us/sample - loss: 0.8733\n",
            "Epoch 189/200\n",
            "162/162 [==============================] - 0s 85us/sample - loss: 0.8712\n",
            "Epoch 190/200\n",
            "162/162 [==============================] - 0s 86us/sample - loss: 0.8779\n",
            "Epoch 191/200\n",
            "162/162 [==============================] - 0s 83us/sample - loss: 0.8989\n",
            "Epoch 192/200\n",
            "162/162 [==============================] - 0s 83us/sample - loss: 0.9178\n",
            "Epoch 193/200\n",
            "162/162 [==============================] - 0s 85us/sample - loss: 0.8762\n",
            "Epoch 194/200\n",
            "162/162 [==============================] - 0s 92us/sample - loss: 0.8756\n",
            "Epoch 195/200\n",
            "162/162 [==============================] - 0s 84us/sample - loss: 0.8736\n",
            "Epoch 196/200\n",
            "162/162 [==============================] - 0s 82us/sample - loss: 0.8726\n",
            "Epoch 197/200\n",
            "162/162 [==============================] - 0s 81us/sample - loss: 0.8779\n",
            "Epoch 198/200\n",
            "162/162 [==============================] - 0s 92us/sample - loss: 0.8737\n",
            "Epoch 199/200\n",
            "162/162 [==============================] - 0s 78us/sample - loss: 0.8726\n",
            "Epoch 200/200\n",
            "162/162 [==============================] - 0s 81us/sample - loss: 0.8786\n"
          ],
          "name": "stdout"
        }
      ]
    },
    {
      "cell_type": "code",
      "metadata": {
        "id": "FluJD7QOpHbT",
        "colab_type": "code",
        "outputId": "910aa06f-378b-4bda-f3e4-b9a08fb32ac4",
        "colab": {
          "base_uri": "https://localhost:8080/",
          "height": 34
        }
      },
      "source": [
        "# History Keys\n",
        "hist.history.keys()"
      ],
      "execution_count": 18,
      "outputs": [
        {
          "output_type": "execute_result",
          "data": {
            "text/plain": [
              "dict_keys(['loss', 'lr'])"
            ]
          },
          "metadata": {
            "tags": []
          },
          "execution_count": 18
        }
      ]
    },
    {
      "cell_type": "code",
      "metadata": {
        "id": "fCzvb4osps3i",
        "colab_type": "code",
        "outputId": "2e42c345-9a46-4a8b-b23e-365c0d44172e",
        "colab": {
          "base_uri": "https://localhost:8080/",
          "height": 282
        }
      },
      "source": [
        "# Training Loss\n",
        "plt.plot(hist.history['loss'], label='Loss')"
      ],
      "execution_count": 19,
      "outputs": [
        {
          "output_type": "execute_result",
          "data": {
            "text/plain": [
              "[<matplotlib.lines.Line2D at 0x7f681622f7f0>]"
            ]
          },
          "metadata": {
            "tags": []
          },
          "execution_count": 19
        },
        {
          "output_type": "display_data",
          "data": {
            "image/png": "[encoded data removed]",
            "text/plain": [
              "<Figure size 432x288 with 1 Axes>"
            ]
          },
          "metadata": {
            "tags": []
          }
        }
      ]
    },
    {
      "cell_type": "code",
      "metadata": {
        "id": "mXIu0q4lp4J9",
        "colab_type": "code",
        "outputId": "37d74123-4c98-428b-e5fe-22625e689920",
        "colab": {
          "base_uri": "https://localhost:8080/",
          "height": 51
        }
      },
      "source": [
        "# Ger the slope of the line\n",
        "# Slope of the line is related to doubling rate of the transistors as per the Moore's Law\n",
        "print(model.layers)\n",
        "# Returns two values, weight and a bias value\n",
        "print(model.layers[0].get_weights())"
      ],
      "execution_count": 20,
      "outputs": [
        {
          "output_type": "stream",
          "text": [
            "[<tensorflow.python.keras.layers.core.Dense object at 0x7f681faf59b0>]\n",
            "[array([[0.34717336]], dtype=float32), array([17.762365], dtype=float32)]\n"
          ],
          "name": "stdout"
        }
      ]
    },
    {
      "cell_type": "code",
      "metadata": {
        "id": "D2OImlQKqPJT",
        "colab_type": "code",
        "outputId": "656a3846-cfed-4bfc-975d-d77657f0e548",
        "colab": {
          "base_uri": "https://localhost:8080/",
          "height": 34
        }
      },
      "source": [
        "# Slope of the line is\n",
        "a = model.layers[0].get_weights()[0][0,0]\n",
        "a"
      ],
      "execution_count": 21,
      "outputs": [
        {
          "output_type": "execute_result",
          "data": {
            "text/plain": [
              "0.34717336"
            ]
          },
          "metadata": {
            "tags": []
          },
          "execution_count": 21
        }
      ]
    },
    {
      "cell_type": "code",
      "metadata": {
        "id": "2uNrNvmFqfqT",
        "colab_type": "code",
        "outputId": "3d816119-b5ba-4cf1-8434-c121fa714ead",
        "colab": {
          "base_uri": "https://localhost:8080/",
          "height": 34
        }
      },
      "source": [
        "# Amount of time for the number of transistors to double\n",
        "print('Time to double: ', np.log(2)/a)"
      ],
      "execution_count": 22,
      "outputs": [
        {
          "output_type": "stream",
          "text": [
            "Time to double:  1.996544823109423\n"
          ],
          "name": "stdout"
        }
      ]
    },
    {
      "cell_type": "code",
      "metadata": {
        "id": "YahN4JjErimc",
        "colab_type": "code",
        "outputId": "d86f1774-93f6-4903-8cc6-9c1710c9ff54",
        "colab": {
          "base_uri": "https://localhost:8080/",
          "height": 51
        }
      },
      "source": [
        "# Analytical Solution\n",
        "X = np.array(X).flatten()\n",
        "y = np.array(y)\n",
        "denominator = X.dot(X) - X.mean() * X.sum()\n",
        "a = (X.dot(y) - y.mean()*X.sum()) / denominator\n",
        "b = (y.mean() * X.dot(X) - X.mean()) / denominator\n",
        "print('Weight: {0}\\t Bias: {1}'.format(a, b))\n",
        "print('Time to Double: ', np.log(2)/a)"
      ],
      "execution_count": 23,
      "outputs": [
        {
          "output_type": "stream",
          "text": [
            "Weight: 0.341682487387313\t Bias: 17.76493939363179\n",
            "Time to Double:  2.0286295205239204\n"
          ],
          "name": "stdout"
        }
      ]
    }
  ]
}