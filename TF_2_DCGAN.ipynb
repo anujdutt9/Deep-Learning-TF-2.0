{
  "nbformat": 4,
  "nbformat_minor": 0,
  "metadata": {
    "colab": {
      "name": "TF_2_DCGAN.ipynb",
      "provenance": [],
      "collapsed_sections": [],
      "authorship_tag": "ABX9TyNzRaIIQEurGX8McU6PHJA0",
      "include_colab_link": true
    },
    "kernelspec": {
      "name": "python3",
      "display_name": "Python 3"
    },
    "accelerator": "GPU"
  },
  "cells": [
    {
      "cell_type": "markdown",
      "metadata": {
        "id": "view-in-github",
        "colab_type": "text"
      },
      "source": [
        "<a href=\"https://colab.research.google.com/github/anujdutt9/Deep-Learning-TF-2.0/blob/master/TF_2_DCGAN.ipynb\" target=\"_parent\"><img src=\"https://colab.research.google.com/assets/colab-badge.svg\" alt=\"Open In Colab\"/></a>"
      ]
    },
    {
      "cell_type": "code",
      "metadata": {
        "id": "u6u2q0Nbor1u",
        "colab_type": "code",
        "colab": {}
      },
      "source": [
        "# Import Dependencies\n",
        "import os\n",
        "import numpy as np\n",
        "import tensorflow as tf\n",
        "import matplotlib.pyplot as plt\n",
        "from IPython import display"
      ],
      "execution_count": 0,
      "outputs": []
    },
    {
      "cell_type": "code",
      "metadata": {
        "id": "r1elytsSuHoQ",
        "colab_type": "code",
        "colab": {
          "base_uri": "https://localhost:8080/",
          "height": 34
        },
        "outputId": "34e6b38a-da46-4ecc-be63-47ee2c06fc4f"
      },
      "source": [
        "# Check Tensorflow Version\n",
        "tf.__version__"
      ],
      "execution_count": 2,
      "outputs": [
        {
          "output_type": "execute_result",
          "data": {
            "text/plain": [
              "'2.2.0-rc3'"
            ]
          },
          "metadata": {
            "tags": []
          },
          "execution_count": 2
        }
      ]
    },
    {
      "cell_type": "code",
      "metadata": {
        "id": "-VCRLEy2uNjg",
        "colab_type": "code",
        "colab": {}
      },
      "source": [
        "# Load Training Dataset\n",
        "(train_images, train_labels), (_, _) = tf.keras.datasets.fashion_mnist.load_data()"
      ],
      "execution_count": 0,
      "outputs": []
    },
    {
      "cell_type": "code",
      "metadata": {
        "id": "CcR4BcLautd2",
        "colab_type": "code",
        "colab": {}
      },
      "source": [
        "# Reshape and Normalize the Images\n",
        "train_images = train_images.reshape(train_images.shape[0], 28, 28, 1).astype('float32')\n",
        "train_images = (train_images - 127.5) / 127.5 # Normalize the images to [-1, 1]"
      ],
      "execution_count": 0,
      "outputs": []
    },
    {
      "cell_type": "code",
      "metadata": {
        "id": "NDHZ7o11wBsn",
        "colab_type": "code",
        "colab": {
          "base_uri": "https://localhost:8080/",
          "height": 34
        },
        "outputId": "9e8ce62c-51f0-43fe-c2e0-00dd14263ed5"
      },
      "source": [
        "# Total number of training samples\n",
        "len(train_images)"
      ],
      "execution_count": 5,
      "outputs": [
        {
          "output_type": "execute_result",
          "data": {
            "text/plain": [
              "60000"
            ]
          },
          "metadata": {
            "tags": []
          },
          "execution_count": 5
        }
      ]
    },
    {
      "cell_type": "code",
      "metadata": {
        "id": "xIvNKpt-wFBb",
        "colab_type": "code",
        "colab": {}
      },
      "source": [
        "# Buffer Size and Batch Size\n",
        "BUFFER_SIZE = 60000\n",
        "BATCH_SIZE = 256"
      ],
      "execution_count": 0,
      "outputs": []
    },
    {
      "cell_type": "code",
      "metadata": {
        "id": "Vkf7ReaXwNvY",
        "colab_type": "code",
        "colab": {}
      },
      "source": [
        "# Batch and shuffle the data\n",
        "train_dataset = tf.data.Dataset.from_tensor_slices(train_images).shuffle(BUFFER_SIZE).batch(BATCH_SIZE)"
      ],
      "execution_count": 0,
      "outputs": []
    },
    {
      "cell_type": "code",
      "metadata": {
        "id": "hoZC6gCtwQMC",
        "colab_type": "code",
        "colab": {}
      },
      "source": [
        "# Define Generator Model Architecture\n",
        "def generator_model(inputSize=None):\n",
        "  model = tf.keras.Sequential([# Layer-1: Input Data\n",
        "                               tf.keras.layers.Dense(units=7*7*256, use_bias=False, input_shape=(inputSize,)),\n",
        "                               # Apply Batch Normalization\n",
        "                               tf.keras.layers.BatchNormalization(),\n",
        "                               # ReLU Activation\n",
        "                               tf.keras.layers.ReLU(),\n",
        "                               # Reshape First Layer output for Convolutions\n",
        "                               tf.keras.layers.Reshape(target_shape=(7,7,256)),\n",
        "                               \n",
        "                               # Layer-2: Transposed Convolution with 128 filters and 5x5 kernel\n",
        "                               tf.keras.layers.Conv2DTranspose(filters=128, kernel_size=(5,5), strides=(1,1), padding='same', use_bias=False),\n",
        "                               # Apply Batch Normalization\n",
        "                               tf.keras.layers.BatchNormalization(),\n",
        "                               # ReLU Activation\n",
        "                               tf.keras.layers.ReLU(),\n",
        "\n",
        "                               # Layer-3: Transposed Convolution with 64 filters\n",
        "                               tf.keras.layers.Conv2DTranspose(filters=64, kernel_size=(5,5), strides=(2,2), padding='same', use_bias=False),\n",
        "                               # Apply Batch Normalization\n",
        "                               tf.keras.layers.BatchNormalization(),\n",
        "                               # ReLU Activation\n",
        "                               tf.keras.layers.ReLU(),\n",
        "\n",
        "                               # Layer-4: Transposed Convolution with 1 filter\n",
        "                               tf.keras.layers.Conv2DTranspose(filters=1, kernel_size=(5,5), strides=(2,2), padding='same', use_bias=False, activation='tanh')\n",
        "                               ])\n",
        "  return model"
      ],
      "execution_count": 0,
      "outputs": []
    },
    {
      "cell_type": "code",
      "metadata": {
        "id": "9Ps6t-tz1dwy",
        "colab_type": "code",
        "colab": {
          "base_uri": "https://localhost:8080/",
          "height": 527
        },
        "outputId": "7cec6923-61d3-494a-b514-43d2387d6c8d"
      },
      "source": [
        "# Check Generator Model Summary\n",
        "generator = generator_model(inputSize=100)\n",
        "generator.summary()"
      ],
      "execution_count": 9,
      "outputs": [
        {
          "output_type": "stream",
          "text": [
            "Model: \"sequential\"\n",
            "_________________________________________________________________\n",
            "Layer (type)                 Output Shape              Param #   \n",
            "=================================================================\n",
            "dense (Dense)                (None, 12544)             1254400   \n",
            "_________________________________________________________________\n",
            "batch_normalization (BatchNo (None, 12544)             50176     \n",
            "_________________________________________________________________\n",
            "re_lu (ReLU)                 (None, 12544)             0         \n",
            "_________________________________________________________________\n",
            "reshape (Reshape)            (None, 7, 7, 256)         0         \n",
            "_________________________________________________________________\n",
            "conv2d_transpose (Conv2DTran (None, 7, 7, 128)         819200    \n",
            "_________________________________________________________________\n",
            "batch_normalization_1 (Batch (None, 7, 7, 128)         512       \n",
            "_________________________________________________________________\n",
            "re_lu_1 (ReLU)               (None, 7, 7, 128)         0         \n",
            "_________________________________________________________________\n",
            "conv2d_transpose_1 (Conv2DTr (None, 14, 14, 64)        204800    \n",
            "_________________________________________________________________\n",
            "batch_normalization_2 (Batch (None, 14, 14, 64)        256       \n",
            "_________________________________________________________________\n",
            "re_lu_2 (ReLU)               (None, 14, 14, 64)        0         \n",
            "_________________________________________________________________\n",
            "conv2d_transpose_2 (Conv2DTr (None, 28, 28, 1)         1600      \n",
            "=================================================================\n",
            "Total params: 2,330,944\n",
            "Trainable params: 2,305,472\n",
            "Non-trainable params: 25,472\n",
            "_________________________________________________________________\n"
          ],
          "name": "stdout"
        }
      ]
    },
    {
      "cell_type": "code",
      "metadata": {
        "id": "-Bulu6161wKP",
        "colab_type": "code",
        "colab": {
          "base_uri": "https://localhost:8080/",
          "height": 639
        },
        "outputId": "335e3de2-5281-42c2-d20b-c27f11e88989"
      },
      "source": [
        "# Generate Random Noise Signal\n",
        "noise = tf.random.normal([1, 100])\n",
        "print(\"Random Noise Signal: \", noise)\n",
        "\n",
        "# Pass the Noise as Input to the Un-trained Generator Model\n",
        "generated_image = generator(noise, training=False)\n",
        "print(\"Shape of generated Image: \", generated_image.numpy().shape)\n",
        "print(\"\\n\")\n",
        "\n",
        "# Plot the output of the Untrained Generator Model\n",
        "plt.imshow(generated_image[0, :, :, 0], cmap='gray')"
      ],
      "execution_count": 10,
      "outputs": [
        {
          "output_type": "stream",
          "text": [
            "Random Noise Signal:  tf.Tensor(\n",
            "[[-0.27348173  1.2011085   0.07098164  0.05374254 -0.14608134 -0.5966157\n",
            "  -0.6141177   0.15190865  0.7476294   0.9617047   0.39307597  0.51563096\n",
            "   0.8843892   0.23583266  0.8917288  -0.20548497  1.3620983  -0.7109142\n",
            "   1.2050438  -0.10386036 -2.09754     0.28006423 -0.0815015   1.4408284\n",
            "   0.5530156   0.1865511   0.43813756 -1.0923637  -1.1756434  -0.06546151\n",
            "   0.9166289  -0.23003414 -0.19069476  0.01336357  0.42455676 -0.73125446\n",
            "   0.25713855 -1.5697479  -0.41069284  0.9581596  -0.14765488 -0.25184548\n",
            "  -0.6346997   0.9868398   0.04051164  0.5522304   0.65127    -1.4827297\n",
            "  -0.7053389   0.2656514   0.14468889 -0.3830521  -0.28678578 -0.12615164\n",
            "  -0.4381194   0.28668827  0.27643877  0.36091554 -0.85821754 -1.729595\n",
            "   1.1027663  -0.2980468  -0.8375254  -0.77167153 -1.6978428   0.6068779\n",
            "   0.9781258   0.37404796  1.4328766  -0.5091301   0.6004171  -0.18822531\n",
            "  -2.406831    0.81456596 -0.1956512   1.3170844  -0.48615336 -0.6866907\n",
            "   1.7803954  -0.11126842 -2.3067014  -0.66291904 -1.1954663   0.21759242\n",
            "   1.474133    0.8362751   1.2498778   0.07361972 -1.0406009   0.71117187\n",
            "  -0.8505204  -0.393165   -0.59514874 -0.6676254   0.6793495   1.0134598\n",
            "  -0.9899237   1.4585052   0.48850238  0.11618917]], shape=(1, 100), dtype=float32)\n",
            "Shape of generated Image:  (1, 28, 28, 1)\n",
            "\n",
            "\n"
          ],
          "name": "stdout"
        },
        {
          "output_type": "execute_result",
          "data": {
            "text/plain": [
              "<matplotlib.image.AxesImage at 0x7fbbb01ac400>"
            ]
          },
          "metadata": {
            "tags": []
          },
          "execution_count": 10
        },
        {
          "output_type": "display_data",
          "data": {
            "image/png": "[encoded data removed]",
            "text/plain": [
              "<Figure size 432x288 with 1 Axes>"
            ]
          },
          "metadata": {
            "tags": [],
            "needs_background": "light"
          }
        }
      ]
    },
    {
      "cell_type": "code",
      "metadata": {
        "id": "mbZiRvjt2_EP",
        "colab_type": "code",
        "colab": {}
      },
      "source": [
        "# Discriminator Model Architecture\n",
        "def discriminator_model(leakSlope=None):\n",
        "  model = tf.keras.Sequential([# Layer-1: Generated Image of shape (28,28,1)\n",
        "                               tf.keras.layers.InputLayer(input_shape=(28,28,1)),\n",
        "                               # 2D Convolution\n",
        "                               tf.keras.layers.Conv2D(filters=64, kernel_size=(5,5), strides=(2,2), padding='same'),\n",
        "                               # LeakyRelu with Slope of \"leakSlope\"\n",
        "                               tf.keras.layers.LeakyReLU(alpha=leakSlope),\n",
        "                               # Dropout\n",
        "                               tf.keras.layers.Dropout(rate=0.3),\n",
        "\n",
        "                               # Layer-2: 2D Convolution with 128 filters\n",
        "                               tf.keras.layers.Conv2D(filters=128, kernel_size=(5,5), strides=(2,2), padding='same'),\n",
        "                               # LeakyRelu with Slope of \"leakSlope\"\n",
        "                               tf.keras.layers.LeakyReLU(alpha=leakSlope),\n",
        "                               # Dropout\n",
        "                               tf.keras.layers.Dropout(rate=0.3),\n",
        "\n",
        "                               # Layer-3: Output Layer\n",
        "                               tf.keras.layers.Flatten(),\n",
        "                               # Dense Layer\n",
        "                               tf.keras.layers.Dense(units=1)\n",
        "                               ])\n",
        "  return model"
      ],
      "execution_count": 0,
      "outputs": []
    },
    {
      "cell_type": "code",
      "metadata": {
        "id": "deH5sPwz9Xr1",
        "colab_type": "code",
        "colab": {
          "base_uri": "https://localhost:8080/",
          "height": 425
        },
        "outputId": "73e2faea-1bf2-4379-b720-eda591b7d6bd"
      },
      "source": [
        "# Check Discriminator Model Summary\n",
        "discriminator = discriminator_model(leakSlope=0.2)\n",
        "discriminator.summary()"
      ],
      "execution_count": 12,
      "outputs": [
        {
          "output_type": "stream",
          "text": [
            "Model: \"sequential_1\"\n",
            "_________________________________________________________________\n",
            "Layer (type)                 Output Shape              Param #   \n",
            "=================================================================\n",
            "conv2d (Conv2D)              (None, 14, 14, 64)        1664      \n",
            "_________________________________________________________________\n",
            "leaky_re_lu (LeakyReLU)      (None, 14, 14, 64)        0         \n",
            "_________________________________________________________________\n",
            "dropout (Dropout)            (None, 14, 14, 64)        0         \n",
            "_________________________________________________________________\n",
            "conv2d_1 (Conv2D)            (None, 7, 7, 128)         204928    \n",
            "_________________________________________________________________\n",
            "leaky_re_lu_1 (LeakyReLU)    (None, 7, 7, 128)         0         \n",
            "_________________________________________________________________\n",
            "dropout_1 (Dropout)          (None, 7, 7, 128)         0         \n",
            "_________________________________________________________________\n",
            "flatten (Flatten)            (None, 6272)              0         \n",
            "_________________________________________________________________\n",
            "dense_1 (Dense)              (None, 1)                 6273      \n",
            "=================================================================\n",
            "Total params: 212,865\n",
            "Trainable params: 212,865\n",
            "Non-trainable params: 0\n",
            "_________________________________________________________________\n"
          ],
          "name": "stdout"
        }
      ]
    },
    {
      "cell_type": "code",
      "metadata": {
        "id": "7wl32By29lJR",
        "colab_type": "code",
        "colab": {
          "base_uri": "https://localhost:8080/",
          "height": 34
        },
        "outputId": "bea601b3-464e-40ec-d633-610d6cd03130"
      },
      "source": [
        "# Test Untrained Discriminator Model on Untrained Generator Output\n",
        "decision = discriminator(generated_image)\n",
        "decision"
      ],
      "execution_count": 13,
      "outputs": [
        {
          "output_type": "execute_result",
          "data": {
            "text/plain": [
              "<tf.Tensor: shape=(1, 1), dtype=float32, numpy=array([[0.00183671]], dtype=float32)>"
            ]
          },
          "metadata": {
            "tags": []
          },
          "execution_count": 13
        }
      ]
    },
    {
      "cell_type": "code",
      "metadata": {
        "id": "zuP-9o8F-I8s",
        "colab_type": "code",
        "colab": {}
      },
      "source": [
        "# Loss Function: Binary Crossentropy with Logits\n",
        "loss = tf.keras.losses.BinaryCrossentropy(from_logits=True)"
      ],
      "execution_count": 0,
      "outputs": []
    },
    {
      "cell_type": "markdown",
      "metadata": {
        "id": "9x9ZOxl3_ffb",
        "colab_type": "text"
      },
      "source": [
        "# Discrimintaor Loss\n",
        "\n",
        "This method quantifies how well the discriminator is able to distinguish real images from fakes. It compares the discriminator's predictions on real images to an array of 1s, and the discriminator's predictions on fake (generated) images to an array of 0s."
      ]
    },
    {
      "cell_type": "code",
      "metadata": {
        "id": "836kDYEP-f_r",
        "colab_type": "code",
        "colab": {}
      },
      "source": [
        "# Discriminator Loss Function\n",
        "# Compares Discriminator Output on Real Images with 1's and for Fake Images with 0's\n",
        "def discriminator_loss(real_output, fake_output):\n",
        "  # Loss on Real Images\n",
        "  real_loss = loss(tf.ones_like(real_output), real_output)\n",
        "  # Loss on Fake Images\n",
        "  fake_loss = loss(tf.zeros_like(fake_output), fake_output)\n",
        "  # Total Loss\n",
        "  total_loss = real_loss + fake_loss\n",
        "  return total_loss"
      ],
      "execution_count": 0,
      "outputs": []
    },
    {
      "cell_type": "markdown",
      "metadata": {
        "id": "6u7XCOIqAU90",
        "colab_type": "text"
      },
      "source": [
        "# Generator loss\n",
        "\n",
        "The generator's loss quantifies how well it was able to trick the discriminator. Intuitively, if the generator is performing well, the discriminator will classify the fake images as real (or 1). Here, we will compare the discriminators decisions on the generated images to an array of 1s."
      ]
    },
    {
      "cell_type": "code",
      "metadata": {
        "id": "a2nIXMBm_i-8",
        "colab_type": "code",
        "colab": {}
      },
      "source": [
        "def generator_loss(fake_output):\n",
        "  # Compare which fake images are classified by the disciminator as Real Image\n",
        "  return loss(tf.ones_like(fake_output), fake_output)"
      ],
      "execution_count": 0,
      "outputs": []
    },
    {
      "cell_type": "code",
      "metadata": {
        "id": "uCCETJiJAqCG",
        "colab_type": "code",
        "colab": {}
      },
      "source": [
        "# Optimizer\n",
        "generator_optimizer = tf.keras.optimizers.Adam(1e-4)\n",
        "discriminator_optimizer = tf.keras.optimizers.Adam(1e-4)"
      ],
      "execution_count": 0,
      "outputs": []
    },
    {
      "cell_type": "code",
      "metadata": {
        "id": "vhjAV3KMAv0R",
        "colab_type": "code",
        "colab": {}
      },
      "source": [
        "# Save Model Training Checkpoints\n",
        "checkpoint_dir = './training_checkpoints'\n",
        "checkpoint_prefix = os.path.join(checkpoint_dir, \"ckpt\")\n",
        "checkpoint = tf.train.Checkpoint(generator_optimizer=generator_optimizer,\n",
        "                                 discriminator_optimizer=discriminator_optimizer,\n",
        "                                 generator=generator,\n",
        "                                 discriminator=discriminator)"
      ],
      "execution_count": 0,
      "outputs": []
    },
    {
      "cell_type": "code",
      "metadata": {
        "id": "SPpdnKeNBVSi",
        "colab_type": "code",
        "colab": {}
      },
      "source": [
        "# Train the Model\n",
        "# Epochs\n",
        "EPOCHS = 100\n",
        "\n",
        "# Noise Dimension\n",
        "noise_dim = 100\n",
        "\n",
        "# Number of examples to generate\n",
        "num_examples_to_generate = 16\n",
        "\n",
        "# We will reuse this seed overtime (so it's easier)\n",
        "# to visualize progress in the animated GIF)\n",
        "seed = tf.random.normal([num_examples_to_generate, noise_dim])"
      ],
      "execution_count": 0,
      "outputs": []
    },
    {
      "cell_type": "code",
      "metadata": {
        "id": "qV2TyoxOJ69C",
        "colab_type": "code",
        "colab": {}
      },
      "source": [
        "def generate_and_save_images(model, epoch, test_input):\n",
        "  # Notice `training` is set to False.\n",
        "  # This is so all layers run in inference mode (batchnorm).\n",
        "  predictions = model(test_input, training=False)\n",
        "\n",
        "  fig = plt.figure(figsize=(4,4))\n",
        "\n",
        "  for i in range(predictions.shape[0]):\n",
        "      plt.subplot(4, 4, i+1)\n",
        "      plt.imshow(predictions[i, :, :, 0] * 127.5 + 127.5, cmap='gray')\n",
        "      plt.axis('off')\n",
        "\n",
        "  plt.savefig('image_at_epoch_{:04d}.png'.format(epoch))\n",
        "  plt.show()"
      ],
      "execution_count": 0,
      "outputs": []
    },
    {
      "cell_type": "markdown",
      "metadata": {
        "id": "35nU_ZDkGmTg",
        "colab_type": "text"
      },
      "source": [
        "# Training Loop\n",
        "\n",
        "The training loop begins with generator receiving a random seed as input. That seed is used to produce an image. The discriminator is then used to classify real images (drawn from the training set) and fakes images (produced by the generator). The loss is calculated for each of these models, and the gradients are used to update the generator and discriminator."
      ]
    },
    {
      "cell_type": "code",
      "metadata": {
        "id": "N6f438yeBm57",
        "colab_type": "code",
        "colab": {}
      },
      "source": [
        "# Notice the use of `tf.function`\n",
        "# This annotation causes the function to be \"compiled\".\n",
        "@tf.function\n",
        "def train_step(images):\n",
        "    # Generate Random Noise of size: (batch_size, input_dim)\n",
        "    noise = tf.random.normal([BATCH_SIZE, noise_dim])\n",
        "\n",
        "    # At every training step or epoch, keep track of the generator and discriminator gradients\n",
        "    with tf.GradientTape() as gen_tape, tf.GradientTape() as disc_tape:\n",
        "      # Pass in the Generated Noise signal as input to the Generator and\n",
        "      # get the Generator Output of shape: (batch_size, 28, 28, 1)\n",
        "      generated_images = generator(noise, training=True)\n",
        "\n",
        "      # Forward Pass the image from the training dataset to the discriminator\n",
        "      # and get the discriminator output [Real Output]\n",
        "      real_output = discriminator(images, training=True)\n",
        "      # Forward Pass the Generated Noise to the discriminator\n",
        "      # and get the discriminator output [Fake Output]\n",
        "      fake_output = discriminator(generated_images, training=True)\n",
        "\n",
        "      # Get the Generator Loss using the fake output from the Discriminator.\n",
        "      # If the Generator has successfully fooled the Discriminator, the gen_loss\n",
        "      # will be a small value\n",
        "      gen_loss = generator_loss(fake_output)\n",
        "      # Get the Discriminator Loss i.e. how well the Discriminator is able to \n",
        "      # classify between real and fake images\n",
        "      disc_loss = discriminator_loss(real_output, fake_output)\n",
        "\n",
        "    # Get the Gradients of Generator Loss w.r.t all Generator Variables\n",
        "    gradients_of_generator = gen_tape.gradient(gen_loss, generator.trainable_variables)\n",
        "    # Get the Gradients of Discriminator Loss w.r.t all Discriminator Variables\n",
        "    gradients_of_discriminator = disc_tape.gradient(disc_loss, discriminator.trainable_variables)\n",
        "\n",
        "    # Backpropagate the error through the Generator and Discriminator Models\n",
        "    generator_optimizer.apply_gradients(zip(gradients_of_generator, generator.trainable_variables))\n",
        "    discriminator_optimizer.apply_gradients(zip(gradients_of_discriminator, discriminator.trainable_variables))"
      ],
      "execution_count": 0,
      "outputs": []
    },
    {
      "cell_type": "code",
      "metadata": {
        "id": "etST_8JrIdm1",
        "colab_type": "code",
        "colab": {}
      },
      "source": [
        "# Train the Model\n",
        "def train(dataset, epochs):\n",
        "  for epoch in range(epochs):\n",
        "    for image_batch in dataset:\n",
        "      train_step(image_batch)\n",
        "\n",
        "    # Produce images for the GIF as we go\n",
        "    display.clear_output(wait=True)\n",
        "    generate_and_save_images(generator, epoch + 1, seed)\n",
        "\n",
        "    # Save the model every 15 epochs\n",
        "    if (epoch + 1) % 15 == 0:\n",
        "      checkpoint.save(file_prefix = checkpoint_prefix)\n",
        "\n",
        "  # Generate after the final epoch\n",
        "  display.clear_output(wait=True)\n",
        "  generate_and_save_images(generator, epochs, seed)"
      ],
      "execution_count": 0,
      "outputs": []
    },
    {
      "cell_type": "code",
      "metadata": {
        "id": "R3hYWTRhJ0P5",
        "colab_type": "code",
        "colab": {
          "base_uri": "https://localhost:8080/",
          "height": 248
        },
        "outputId": "e840de6b-00c0-4458-f6f0-ad8e4269ed0d"
      },
      "source": [
        "# Train the Model\n",
        "train(train_dataset, EPOCHS)"
      ],
      "execution_count": 23,
      "outputs": [
        {
          "output_type": "display_data",
          "data": {
            "image/png": "[encoded data removed]",
            "text/plain": [
              "<Figure size 288x288 with 16 Axes>"
            ]
          },
          "metadata": {
            "tags": [],
            "needs_background": "light"
          }
        }
      ]
    },
    {
      "cell_type": "code",
      "metadata": {
        "id": "5GClevxhMkef",
        "colab_type": "code",
        "colab": {}
      },
      "source": [
        "# Save Generator Model\n",
        "generator.save(\"generator_model.h5\")\n",
        "\n",
        "# Save Discriminator Model\n",
        "discriminator.save(\"discriminator_model.h5\")"
      ],
      "execution_count": 0,
      "outputs": []
    },
    {
      "cell_type": "code",
      "metadata": {
        "id": "gozSuZoAMx1v",
        "colab_type": "code",
        "colab": {
          "base_uri": "https://localhost:8080/",
          "height": 34
        },
        "outputId": "89a7281c-545e-4a4c-bc78-79291023a9e5"
      },
      "source": [
        "# Load the Trained Model from Checkpoint\n",
        "checkpoint.restore(tf.train.latest_checkpoint(checkpoint_dir))"
      ],
      "execution_count": 25,
      "outputs": [
        {
          "output_type": "execute_result",
          "data": {
            "text/plain": [
              "<tensorflow.python.training.tracking.util.CheckpointLoadStatus at 0x7fbaed4f9828>"
            ]
          },
          "metadata": {
            "tags": []
          },
          "execution_count": 25
        }
      ]
    },
    {
      "cell_type": "code",
      "metadata": {
        "id": "my54onmLQA5S",
        "colab_type": "code",
        "colab": {}
      },
      "source": [
        "import PIL\n",
        "\n",
        "# Display a single image using the epoch number\n",
        "def display_image(epoch_no):\n",
        "  return PIL.Image.open('image_at_epoch_{:04d}.png'.format(epoch_no))"
      ],
      "execution_count": 0,
      "outputs": []
    },
    {
      "cell_type": "code",
      "metadata": {
        "id": "FFbfHsuAQJrs",
        "colab_type": "code",
        "colab": {
          "base_uri": "https://localhost:8080/",
          "height": 305
        },
        "outputId": "a4bba031-2b69-46c4-eac6-f4d81e5acf9d"
      },
      "source": [
        "display_image(EPOCHS)"
      ],
      "execution_count": 27,
      "outputs": [
        {
          "output_type": "execute_result",
          "data": {
            "image/png": "[encoded data removed]",
            "text/plain": [
              "<PIL.PngImagePlugin.PngImageFile image mode=RGBA size=288x288 at 0x7FBAED4F9DD8>"
            ]
          },
          "metadata": {
            "tags": []
          },
          "execution_count": 27
        }
      ]
    },
    {
      "cell_type": "code",
      "metadata": {
        "id": "aMSY6UnwQL4A",
        "colab_type": "code",
        "colab": {}
      },
      "source": [
        "# Generate a gif file from training\n",
        "import glob\n",
        "import imageio\n",
        "\n",
        "anim_file = 'dcgan.gif'\n",
        "\n",
        "with imageio.get_writer(anim_file, mode='I') as writer:\n",
        "  filenames = glob.glob('image*.png')\n",
        "  filenames = sorted(filenames)\n",
        "  last = -1\n",
        "  for i,filename in enumerate(filenames):\n",
        "    frame = 2*(i**0.5)\n",
        "    if round(frame) > round(last):\n",
        "      last = frame\n",
        "    else:\n",
        "      continue\n",
        "    image = imageio.imread(filename)\n",
        "    writer.append_data(image)\n",
        "  image = imageio.imread(filename)\n",
        "  writer.append_data(image)\n",
        "\n",
        "import IPython\n",
        "if IPython.version_info > (6,2,0,''):\n",
        "  display.Image(filename=anim_file)"
      ],
      "execution_count": 0,
      "outputs": []
    },
    {
      "cell_type": "code",
      "metadata": {
        "id": "9IH5rusfQYDD",
        "colab_type": "code",
        "colab": {}
      },
      "source": [
        "# Download generated DCGAN gif file\n",
        "try:\n",
        "  from google.colab import files\n",
        "except ImportError:\n",
        "   pass\n",
        "else:\n",
        "  files.download(anim_file)"
      ],
      "execution_count": 0,
      "outputs": []
    }
  ]
}