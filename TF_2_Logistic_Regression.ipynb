{
  "nbformat": 4,
  "nbformat_minor": 0,
  "metadata": {
    "colab": {
      "name": "TF-2-Logistic-Regression.ipynb",
      "provenance": [],
      "collapsed_sections": [],
      "authorship_tag": "ABX9TyP3r5TzYHRUodyEQVqT/lZi",
      "include_colab_link": true
    },
    "kernelspec": {
      "name": "python3",
      "display_name": "Python 3"
    }
  },
  "cells": [
    {
      "cell_type": "markdown",
      "metadata": {
        "id": "view-in-github",
        "colab_type": "text"
      },
      "source": [
        "<a href=\"https://colab.research.google.com/github/anujdutt9/Deep-Learning-TF-2.0/blob/master/TF_2_Logistic_Regression.ipynb\" target=\"_parent\"><img src=\"https://colab.research.google.com/assets/colab-badge.svg\" alt=\"Open In Colab\"/></a>"
      ]
    },
    {
      "cell_type": "code",
      "metadata": {
        "id": "Qr4EIVcgaof9",
        "colab_type": "code",
        "outputId": "fe87c86d-cbf3-4f50-b0ce-a76fb41cc4e6",
        "colab": {
          "base_uri": "https://localhost:8080/",
          "height": 119
        }
      },
      "source": [
        "%tensorflow_version 2.1\n",
        "import tensorflow as tf\n",
        "tf.__version__"
      ],
      "execution_count": 47,
      "outputs": [
        {
          "output_type": "stream",
          "text": [
            "`%tensorflow_version` only switches the major version: 1.x or 2.x.\n",
            "You set: `2.1`. This will be interpreted as: `2.x`.\n",
            "\n",
            "\n",
            "TensorFlow is already loaded. Please restart the runtime to change versions.\n"
          ],
          "name": "stdout"
        },
        {
          "output_type": "execute_result",
          "data": {
            "text/plain": [
              "'2.1.0'"
            ]
          },
          "metadata": {
            "tags": []
          },
          "execution_count": 47
        }
      ]
    },
    {
      "cell_type": "code",
      "metadata": {
        "id": "dvA5U1bma0bz",
        "colab_type": "code",
        "outputId": "5ca6f33e-356e-42e5-ad77-288a621f9644",
        "colab": {
          "base_uri": "https://localhost:8080/",
          "height": 34
        }
      },
      "source": [
        "# Import Dataset\n",
        "from sklearn.datasets import load_breast_cancer\n",
        "\n",
        "data = load_breast_cancer()\n",
        "type(data)"
      ],
      "execution_count": 48,
      "outputs": [
        {
          "output_type": "execute_result",
          "data": {
            "text/plain": [
              "sklearn.utils.Bunch"
            ]
          },
          "metadata": {
            "tags": []
          },
          "execution_count": 48
        }
      ]
    },
    {
      "cell_type": "code",
      "metadata": {
        "id": "8_0QWBZVbDRz",
        "colab_type": "code",
        "outputId": "18ff68ba-9e57-4942-80ee-1f614db90893",
        "colab": {
          "base_uri": "https://localhost:8080/",
          "height": 34
        }
      },
      "source": [
        "# Data is of type Bunch Object which is kind of like a Dictionary\n",
        "data.keys()"
      ],
      "execution_count": 49,
      "outputs": [
        {
          "output_type": "execute_result",
          "data": {
            "text/plain": [
              "dict_keys(['data', 'target', 'target_names', 'DESCR', 'feature_names', 'filename'])"
            ]
          },
          "metadata": {
            "tags": []
          },
          "execution_count": 49
        }
      ]
    },
    {
      "cell_type": "code",
      "metadata": {
        "id": "1Qu6I_7ibLNL",
        "colab_type": "code",
        "outputId": "c8082139-c548-48d8-bbca-24af60b48581",
        "colab": {
          "base_uri": "https://localhost:8080/",
          "height": 34
        }
      },
      "source": [
        "# 'data.data' means the input data\n",
        "data.data.shape"
      ],
      "execution_count": 50,
      "outputs": [
        {
          "output_type": "execute_result",
          "data": {
            "text/plain": [
              "(569, 30)"
            ]
          },
          "metadata": {
            "tags": []
          },
          "execution_count": 50
        }
      ]
    },
    {
      "cell_type": "code",
      "metadata": {
        "id": "mL0n4tRNbTCU",
        "colab_type": "code",
        "outputId": "a51c65a2-8113-4814-dd35-4ed4b32a35e2",
        "colab": {
          "base_uri": "https://localhost:8080/",
          "height": 34
        }
      },
      "source": [
        "# Labels: 'data.target'\n",
        "data.target.shape"
      ],
      "execution_count": 51,
      "outputs": [
        {
          "output_type": "execute_result",
          "data": {
            "text/plain": [
              "(569,)"
            ]
          },
          "metadata": {
            "tags": []
          },
          "execution_count": 51
        }
      ]
    },
    {
      "cell_type": "code",
      "metadata": {
        "id": "U45-N25_ba8_",
        "colab_type": "code",
        "outputId": "ba314de9-0af0-42b0-ceaa-7e45c98f1163",
        "colab": {
          "base_uri": "https://localhost:8080/",
          "height": 34
        }
      },
      "source": [
        "# First 10 Labels\n",
        "data.target[:10]"
      ],
      "execution_count": 52,
      "outputs": [
        {
          "output_type": "execute_result",
          "data": {
            "text/plain": [
              "array([0, 0, 0, 0, 0, 0, 0, 0, 0, 0])"
            ]
          },
          "metadata": {
            "tags": []
          },
          "execution_count": 52
        }
      ]
    },
    {
      "cell_type": "code",
      "metadata": {
        "id": "Eh68Q3QdbgVm",
        "colab_type": "code",
        "outputId": "154c6065-35f3-49d8-e000-e262586e2ebc",
        "colab": {
          "base_uri": "https://localhost:8080/",
          "height": 34
        }
      },
      "source": [
        "# Label Names\n",
        "data.target_names"
      ],
      "execution_count": 53,
      "outputs": [
        {
          "output_type": "execute_result",
          "data": {
            "text/plain": [
              "array(['malignant', 'benign'], dtype='<U9')"
            ]
          },
          "metadata": {
            "tags": []
          },
          "execution_count": 53
        }
      ]
    },
    {
      "cell_type": "code",
      "metadata": {
        "id": "o9_Q4_v4butO",
        "colab_type": "code",
        "outputId": "97e9d84d-8d1b-448b-9f58-e9fdc0552004",
        "colab": {
          "base_uri": "https://localhost:8080/",
          "height": 187
        }
      },
      "source": [
        "# Meaning of each feature\n",
        "data.feature_names"
      ],
      "execution_count": 54,
      "outputs": [
        {
          "output_type": "execute_result",
          "data": {
            "text/plain": [
              "array(['mean radius', 'mean texture', 'mean perimeter', 'mean area',\n",
              "       'mean smoothness', 'mean compactness', 'mean concavity',\n",
              "       'mean concave points', 'mean symmetry', 'mean fractal dimension',\n",
              "       'radius error', 'texture error', 'perimeter error', 'area error',\n",
              "       'smoothness error', 'compactness error', 'concavity error',\n",
              "       'concave points error', 'symmetry error',\n",
              "       'fractal dimension error', 'worst radius', 'worst texture',\n",
              "       'worst perimeter', 'worst area', 'worst smoothness',\n",
              "       'worst compactness', 'worst concavity', 'worst concave points',\n",
              "       'worst symmetry', 'worst fractal dimension'], dtype='<U23')"
            ]
          },
          "metadata": {
            "tags": []
          },
          "execution_count": 54
        }
      ]
    },
    {
      "cell_type": "code",
      "metadata": {
        "id": "CvEEiKZfb1Lr",
        "colab_type": "code",
        "colab": {}
      },
      "source": [
        "# Train Test Split Dataset\n",
        "from sklearn.model_selection import train_test_split\n",
        "\n",
        "# Train Test Split using 80% data from training and 20% for validation\n",
        "X_train, X_test, y_train, y_test = train_test_split(data.data, data.target, test_size=0.2)"
      ],
      "execution_count": 0,
      "outputs": []
    },
    {
      "cell_type": "code",
      "metadata": {
        "id": "pcklqIGkcOWN",
        "colab_type": "code",
        "outputId": "a80cfcf2-7bcc-4535-d005-241c449ca0ae",
        "colab": {
          "base_uri": "https://localhost:8080/",
          "height": 34
        }
      },
      "source": [
        "X_train.shape, y_train.shape"
      ],
      "execution_count": 56,
      "outputs": [
        {
          "output_type": "execute_result",
          "data": {
            "text/plain": [
              "((455, 30), (455,))"
            ]
          },
          "metadata": {
            "tags": []
          },
          "execution_count": 56
        }
      ]
    },
    {
      "cell_type": "code",
      "metadata": {
        "id": "663ojF_XcS_q",
        "colab_type": "code",
        "outputId": "3737da6e-4f78-41cd-8195-e7f73c6a9303",
        "colab": {
          "base_uri": "https://localhost:8080/",
          "height": 34
        }
      },
      "source": [
        "X_test.shape, y_test.shape"
      ],
      "execution_count": 57,
      "outputs": [
        {
          "output_type": "execute_result",
          "data": {
            "text/plain": [
              "((114, 30), (114,))"
            ]
          },
          "metadata": {
            "tags": []
          },
          "execution_count": 57
        }
      ]
    },
    {
      "cell_type": "code",
      "metadata": {
        "id": "DNTfJxqjfP6L",
        "colab_type": "code",
        "outputId": "78ec4bf0-7daa-43ab-cb94-dfabb768dfe0",
        "colab": {
          "base_uri": "https://localhost:8080/",
          "height": 102
        }
      },
      "source": [
        "X_train[0]"
      ],
      "execution_count": 58,
      "outputs": [
        {
          "output_type": "execute_result",
          "data": {
            "text/plain": [
              "array([1.453e+01, 1.398e+01, 9.386e+01, 6.442e+02, 1.099e-01, 9.242e-02,\n",
              "       6.895e-02, 6.495e-02, 1.650e-01, 6.121e-02, 3.060e-01, 7.213e-01,\n",
              "       2.143e+00, 2.570e+01, 6.133e-03, 1.251e-02, 1.615e-02, 1.136e-02,\n",
              "       2.207e-02, 3.563e-03, 1.580e+01, 1.693e+01, 1.031e+02, 7.499e+02,\n",
              "       1.347e-01, 1.478e-01, 1.373e-01, 1.069e-01, 2.606e-01, 7.810e-02])"
            ]
          },
          "metadata": {
            "tags": []
          },
          "execution_count": 58
        }
      ]
    },
    {
      "cell_type": "code",
      "metadata": {
        "id": "ly26n0cjcV1q",
        "colab_type": "code",
        "colab": {}
      },
      "source": [
        "# Normalize the Dataset\n",
        "from sklearn.preprocessing import StandardScaler\n",
        "\n",
        "# Standardize features by removing the mean and scaling to unit variance\n",
        "# z = (x - mean)/ sd\n",
        "scaler = StandardScaler()\n",
        "X_train = scaler.fit_transform(X_train)\n",
        "X_test = scaler.fit_transform(X_test)"
      ],
      "execution_count": 0,
      "outputs": []
    },
    {
      "cell_type": "code",
      "metadata": {
        "id": "jio1V5CHcuMP",
        "colab_type": "code",
        "outputId": "3df83cce-109d-4baf-aa8e-98c30add859f",
        "colab": {
          "base_uri": "https://localhost:8080/",
          "height": 187
        }
      },
      "source": [
        "# Build the Model for Classification\n",
        "model = tf.keras.Sequential([\n",
        "                             tf.keras.layers.Input(shape=(X_train.shape[1],)),\n",
        "                             tf.keras.layers.Dense(1, activation='sigmoid')\n",
        "])\n",
        "\n",
        "# Print Model Summary\n",
        "model.summary()"
      ],
      "execution_count": 60,
      "outputs": [
        {
          "output_type": "stream",
          "text": [
            "Model: \"sequential_1\"\n",
            "_________________________________________________________________\n",
            "Layer (type)                 Output Shape              Param #   \n",
            "=================================================================\n",
            "dense_1 (Dense)              (None, 1)                 31        \n",
            "=================================================================\n",
            "Total params: 31\n",
            "Trainable params: 31\n",
            "Non-trainable params: 0\n",
            "_________________________________________________________________\n"
          ],
          "name": "stdout"
        }
      ]
    },
    {
      "cell_type": "code",
      "metadata": {
        "id": "ihCXuydZda_S",
        "colab_type": "code",
        "colab": {}
      },
      "source": [
        "# Compile the Model\n",
        "model.compile(optimizer='adam', loss='binary_crossentropy', metrics=['accuracy'])"
      ],
      "execution_count": 0,
      "outputs": []
    },
    {
      "cell_type": "code",
      "metadata": {
        "id": "x9EkhY4Hd2Iu",
        "colab_type": "code",
        "outputId": "3c0ddf2d-01d5-404d-b6af-8bf4d7d1f094",
        "colab": {
          "base_uri": "https://localhost:8080/",
          "height": 1000
        }
      },
      "source": [
        "# Train the Model\n",
        "hist = model.fit(x=X_train, y=y_train, batch_size=1, epochs=100, verbose=1, validation_data=(X_test, y_test))"
      ],
      "execution_count": 62,
      "outputs": [
        {
          "output_type": "stream",
          "text": [
            "Train on 455 samples, validate on 114 samples\n",
            "Epoch 1/100\n",
            "455/455 [==============================] - 1s 2ms/sample - loss: 0.9143 - accuracy: 0.5187 - val_loss: 0.3957 - val_accuracy: 0.8421\n",
            "Epoch 2/100\n",
            "455/455 [==============================] - 1s 1ms/sample - loss: 0.3151 - accuracy: 0.8857 - val_loss: 0.2163 - val_accuracy: 0.9561\n",
            "Epoch 3/100\n",
            "455/455 [==============================] - 1s 1ms/sample - loss: 0.2161 - accuracy: 0.9209 - val_loss: 0.1599 - val_accuracy: 0.9649\n",
            "Epoch 4/100\n",
            "455/455 [==============================] - 1s 1ms/sample - loss: 0.1726 - accuracy: 0.9451 - val_loss: 0.1317 - val_accuracy: 0.9474\n",
            "Epoch 5/100\n",
            "455/455 [==============================] - 1s 1ms/sample - loss: 0.1464 - accuracy: 0.9516 - val_loss: 0.1140 - val_accuracy: 0.9561\n",
            "Epoch 6/100\n",
            "455/455 [==============================] - 1s 1ms/sample - loss: 0.1288 - accuracy: 0.9604 - val_loss: 0.1035 - val_accuracy: 0.9649\n",
            "Epoch 7/100\n",
            "455/455 [==============================] - 1s 1ms/sample - loss: 0.1163 - accuracy: 0.9692 - val_loss: 0.0957 - val_accuracy: 0.9737\n",
            "Epoch 8/100\n",
            "455/455 [==============================] - 1s 1ms/sample - loss: 0.1072 - accuracy: 0.9714 - val_loss: 0.0894 - val_accuracy: 0.9737\n",
            "Epoch 9/100\n",
            "455/455 [==============================] - 1s 1ms/sample - loss: 0.1004 - accuracy: 0.9736 - val_loss: 0.0854 - val_accuracy: 0.9737\n",
            "Epoch 10/100\n",
            "455/455 [==============================] - 1s 1ms/sample - loss: 0.0951 - accuracy: 0.9758 - val_loss: 0.0824 - val_accuracy: 0.9737\n",
            "Epoch 11/100\n",
            "455/455 [==============================] - 1s 1ms/sample - loss: 0.0908 - accuracy: 0.9758 - val_loss: 0.0795 - val_accuracy: 0.9737\n",
            "Epoch 12/100\n",
            "455/455 [==============================] - 1s 2ms/sample - loss: 0.0874 - accuracy: 0.9758 - val_loss: 0.0774 - val_accuracy: 0.9737\n",
            "Epoch 13/100\n",
            "455/455 [==============================] - 1s 1ms/sample - loss: 0.0843 - accuracy: 0.9780 - val_loss: 0.0757 - val_accuracy: 0.9737\n",
            "Epoch 14/100\n",
            "455/455 [==============================] - 1s 2ms/sample - loss: 0.0816 - accuracy: 0.9780 - val_loss: 0.0746 - val_accuracy: 0.9649\n",
            "Epoch 15/100\n",
            "455/455 [==============================] - 1s 2ms/sample - loss: 0.0795 - accuracy: 0.9780 - val_loss: 0.0737 - val_accuracy: 0.9649\n",
            "Epoch 16/100\n",
            "455/455 [==============================] - 1s 2ms/sample - loss: 0.0776 - accuracy: 0.9780 - val_loss: 0.0727 - val_accuracy: 0.9649\n",
            "Epoch 17/100\n",
            "455/455 [==============================] - 1s 2ms/sample - loss: 0.0759 - accuracy: 0.9802 - val_loss: 0.0715 - val_accuracy: 0.9649\n",
            "Epoch 18/100\n",
            "455/455 [==============================] - 1s 2ms/sample - loss: 0.0743 - accuracy: 0.9802 - val_loss: 0.0709 - val_accuracy: 0.9649\n",
            "Epoch 19/100\n",
            "455/455 [==============================] - 1s 2ms/sample - loss: 0.0729 - accuracy: 0.9824 - val_loss: 0.0709 - val_accuracy: 0.9649\n",
            "Epoch 20/100\n",
            "455/455 [==============================] - 1s 2ms/sample - loss: 0.0716 - accuracy: 0.9802 - val_loss: 0.0705 - val_accuracy: 0.9649\n",
            "Epoch 21/100\n",
            "455/455 [==============================] - 1s 2ms/sample - loss: 0.0703 - accuracy: 0.9802 - val_loss: 0.0703 - val_accuracy: 0.9649\n",
            "Epoch 22/100\n",
            "455/455 [==============================] - 1s 1ms/sample - loss: 0.0695 - accuracy: 0.9824 - val_loss: 0.0703 - val_accuracy: 0.9561\n",
            "Epoch 23/100\n",
            "455/455 [==============================] - 1s 1ms/sample - loss: 0.0683 - accuracy: 0.9846 - val_loss: 0.0700 - val_accuracy: 0.9561\n",
            "Epoch 24/100\n",
            "455/455 [==============================] - 1s 1ms/sample - loss: 0.0675 - accuracy: 0.9846 - val_loss: 0.0702 - val_accuracy: 0.9561\n",
            "Epoch 25/100\n",
            "455/455 [==============================] - 1s 1ms/sample - loss: 0.0668 - accuracy: 0.9824 - val_loss: 0.0697 - val_accuracy: 0.9561\n",
            "Epoch 26/100\n",
            "455/455 [==============================] - 1s 1ms/sample - loss: 0.0657 - accuracy: 0.9846 - val_loss: 0.0696 - val_accuracy: 0.9561\n",
            "Epoch 27/100\n",
            "455/455 [==============================] - 1s 1ms/sample - loss: 0.0651 - accuracy: 0.9846 - val_loss: 0.0690 - val_accuracy: 0.9561\n",
            "Epoch 28/100\n",
            "455/455 [==============================] - 1s 1ms/sample - loss: 0.0646 - accuracy: 0.9868 - val_loss: 0.0687 - val_accuracy: 0.9561\n",
            "Epoch 29/100\n",
            "455/455 [==============================] - 1s 1ms/sample - loss: 0.0639 - accuracy: 0.9868 - val_loss: 0.0685 - val_accuracy: 0.9561\n",
            "Epoch 30/100\n",
            "455/455 [==============================] - 1s 1ms/sample - loss: 0.0633 - accuracy: 0.9868 - val_loss: 0.0689 - val_accuracy: 0.9561\n",
            "Epoch 31/100\n",
            "455/455 [==============================] - 1s 1ms/sample - loss: 0.0627 - accuracy: 0.9868 - val_loss: 0.0684 - val_accuracy: 0.9561\n",
            "Epoch 32/100\n",
            "455/455 [==============================] - 1s 1ms/sample - loss: 0.0622 - accuracy: 0.9868 - val_loss: 0.0686 - val_accuracy: 0.9561\n",
            "Epoch 33/100\n",
            "455/455 [==============================] - 1s 1ms/sample - loss: 0.0618 - accuracy: 0.9868 - val_loss: 0.0685 - val_accuracy: 0.9561\n",
            "Epoch 34/100\n",
            "455/455 [==============================] - 1s 1ms/sample - loss: 0.0614 - accuracy: 0.9868 - val_loss: 0.0689 - val_accuracy: 0.9649\n",
            "Epoch 35/100\n",
            "455/455 [==============================] - 1s 1ms/sample - loss: 0.0609 - accuracy: 0.9868 - val_loss: 0.0680 - val_accuracy: 0.9649\n",
            "Epoch 36/100\n",
            "455/455 [==============================] - 1s 1ms/sample - loss: 0.0606 - accuracy: 0.9868 - val_loss: 0.0681 - val_accuracy: 0.9561\n",
            "Epoch 37/100\n",
            "455/455 [==============================] - 1s 1ms/sample - loss: 0.0602 - accuracy: 0.9868 - val_loss: 0.0678 - val_accuracy: 0.9649\n",
            "Epoch 38/100\n",
            "455/455 [==============================] - 1s 1ms/sample - loss: 0.0597 - accuracy: 0.9868 - val_loss: 0.0675 - val_accuracy: 0.9649\n",
            "Epoch 39/100\n",
            "455/455 [==============================] - 1s 1ms/sample - loss: 0.0594 - accuracy: 0.9868 - val_loss: 0.0673 - val_accuracy: 0.9649\n",
            "Epoch 40/100\n",
            "455/455 [==============================] - 1s 1ms/sample - loss: 0.0591 - accuracy: 0.9868 - val_loss: 0.0666 - val_accuracy: 0.9649\n",
            "Epoch 41/100\n",
            "455/455 [==============================] - 1s 1ms/sample - loss: 0.0589 - accuracy: 0.9868 - val_loss: 0.0666 - val_accuracy: 0.9649\n",
            "Epoch 42/100\n",
            "455/455 [==============================] - 1s 1ms/sample - loss: 0.0585 - accuracy: 0.9868 - val_loss: 0.0667 - val_accuracy: 0.9649\n",
            "Epoch 43/100\n",
            "455/455 [==============================] - 1s 1ms/sample - loss: 0.0582 - accuracy: 0.9868 - val_loss: 0.0669 - val_accuracy: 0.9649\n",
            "Epoch 44/100\n",
            "455/455 [==============================] - 1s 1ms/sample - loss: 0.0581 - accuracy: 0.9868 - val_loss: 0.0671 - val_accuracy: 0.9649\n",
            "Epoch 45/100\n",
            "455/455 [==============================] - 1s 1ms/sample - loss: 0.0577 - accuracy: 0.9868 - val_loss: 0.0667 - val_accuracy: 0.9649\n",
            "Epoch 46/100\n",
            "455/455 [==============================] - 1s 1ms/sample - loss: 0.0575 - accuracy: 0.9868 - val_loss: 0.0662 - val_accuracy: 0.9649\n",
            "Epoch 47/100\n",
            "455/455 [==============================] - 1s 1ms/sample - loss: 0.0574 - accuracy: 0.9868 - val_loss: 0.0662 - val_accuracy: 0.9649\n",
            "Epoch 48/100\n",
            "455/455 [==============================] - 1s 1ms/sample - loss: 0.0571 - accuracy: 0.9868 - val_loss: 0.0666 - val_accuracy: 0.9649\n",
            "Epoch 49/100\n",
            "455/455 [==============================] - 1s 1ms/sample - loss: 0.0568 - accuracy: 0.9868 - val_loss: 0.0666 - val_accuracy: 0.9649\n",
            "Epoch 50/100\n",
            "455/455 [==============================] - 1s 1ms/sample - loss: 0.0566 - accuracy: 0.9868 - val_loss: 0.0661 - val_accuracy: 0.9649\n",
            "Epoch 51/100\n",
            "455/455 [==============================] - 1s 1ms/sample - loss: 0.0566 - accuracy: 0.9868 - val_loss: 0.0661 - val_accuracy: 0.9649\n",
            "Epoch 52/100\n",
            "455/455 [==============================] - 1s 1ms/sample - loss: 0.0564 - accuracy: 0.9890 - val_loss: 0.0660 - val_accuracy: 0.9649\n",
            "Epoch 53/100\n",
            "455/455 [==============================] - 1s 1ms/sample - loss: 0.0560 - accuracy: 0.9890 - val_loss: 0.0657 - val_accuracy: 0.9649\n",
            "Epoch 54/100\n",
            "455/455 [==============================] - 1s 1ms/sample - loss: 0.0559 - accuracy: 0.9868 - val_loss: 0.0661 - val_accuracy: 0.9649\n",
            "Epoch 55/100\n",
            "455/455 [==============================] - 1s 1ms/sample - loss: 0.0559 - accuracy: 0.9890 - val_loss: 0.0657 - val_accuracy: 0.9649\n",
            "Epoch 56/100\n",
            "455/455 [==============================] - 1s 1ms/sample - loss: 0.0556 - accuracy: 0.9890 - val_loss: 0.0659 - val_accuracy: 0.9649\n",
            "Epoch 57/100\n",
            "455/455 [==============================] - 1s 1ms/sample - loss: 0.0553 - accuracy: 0.9890 - val_loss: 0.0654 - val_accuracy: 0.9649\n",
            "Epoch 58/100\n",
            "455/455 [==============================] - 1s 2ms/sample - loss: 0.0553 - accuracy: 0.9890 - val_loss: 0.0653 - val_accuracy: 0.9649\n",
            "Epoch 59/100\n",
            "455/455 [==============================] - 1s 1ms/sample - loss: 0.0552 - accuracy: 0.9890 - val_loss: 0.0655 - val_accuracy: 0.9649\n",
            "Epoch 60/100\n",
            "455/455 [==============================] - 1s 1ms/sample - loss: 0.0550 - accuracy: 0.9868 - val_loss: 0.0649 - val_accuracy: 0.9649\n",
            "Epoch 61/100\n",
            "455/455 [==============================] - 1s 2ms/sample - loss: 0.0549 - accuracy: 0.9890 - val_loss: 0.0654 - val_accuracy: 0.9649\n",
            "Epoch 62/100\n",
            "455/455 [==============================] - 1s 2ms/sample - loss: 0.0547 - accuracy: 0.9890 - val_loss: 0.0653 - val_accuracy: 0.9649\n",
            "Epoch 63/100\n",
            "455/455 [==============================] - 1s 2ms/sample - loss: 0.0546 - accuracy: 0.9890 - val_loss: 0.0652 - val_accuracy: 0.9649\n",
            "Epoch 64/100\n",
            "455/455 [==============================] - 1s 1ms/sample - loss: 0.0544 - accuracy: 0.9890 - val_loss: 0.0649 - val_accuracy: 0.9649\n",
            "Epoch 65/100\n",
            "455/455 [==============================] - 1s 1ms/sample - loss: 0.0543 - accuracy: 0.9868 - val_loss: 0.0648 - val_accuracy: 0.9649\n",
            "Epoch 66/100\n",
            "455/455 [==============================] - 1s 1ms/sample - loss: 0.0542 - accuracy: 0.9890 - val_loss: 0.0651 - val_accuracy: 0.9649\n",
            "Epoch 67/100\n",
            "455/455 [==============================] - 1s 1ms/sample - loss: 0.0543 - accuracy: 0.9890 - val_loss: 0.0650 - val_accuracy: 0.9649\n",
            "Epoch 68/100\n",
            "455/455 [==============================] - 1s 1ms/sample - loss: 0.0540 - accuracy: 0.9890 - val_loss: 0.0650 - val_accuracy: 0.9649\n",
            "Epoch 69/100\n",
            "455/455 [==============================] - 1s 1ms/sample - loss: 0.0540 - accuracy: 0.9890 - val_loss: 0.0653 - val_accuracy: 0.9649\n",
            "Epoch 70/100\n",
            "455/455 [==============================] - 1s 1ms/sample - loss: 0.0538 - accuracy: 0.9890 - val_loss: 0.0645 - val_accuracy: 0.9649\n",
            "Epoch 71/100\n",
            "455/455 [==============================] - 1s 1ms/sample - loss: 0.0541 - accuracy: 0.9890 - val_loss: 0.0641 - val_accuracy: 0.9649\n",
            "Epoch 72/100\n",
            "455/455 [==============================] - 1s 1ms/sample - loss: 0.0536 - accuracy: 0.9890 - val_loss: 0.0641 - val_accuracy: 0.9649\n",
            "Epoch 73/100\n",
            "455/455 [==============================] - 1s 1ms/sample - loss: 0.0536 - accuracy: 0.9890 - val_loss: 0.0645 - val_accuracy: 0.9649\n",
            "Epoch 74/100\n",
            "455/455 [==============================] - 1s 1ms/sample - loss: 0.0534 - accuracy: 0.9890 - val_loss: 0.0645 - val_accuracy: 0.9649\n",
            "Epoch 75/100\n",
            "455/455 [==============================] - 1s 1ms/sample - loss: 0.0532 - accuracy: 0.9890 - val_loss: 0.0642 - val_accuracy: 0.9649\n",
            "Epoch 76/100\n",
            "455/455 [==============================] - 1s 1ms/sample - loss: 0.0531 - accuracy: 0.9890 - val_loss: 0.0641 - val_accuracy: 0.9649\n",
            "Epoch 77/100\n",
            "455/455 [==============================] - 1s 1ms/sample - loss: 0.0530 - accuracy: 0.9890 - val_loss: 0.0643 - val_accuracy: 0.9649\n",
            "Epoch 78/100\n",
            "455/455 [==============================] - 1s 1ms/sample - loss: 0.0529 - accuracy: 0.9890 - val_loss: 0.0637 - val_accuracy: 0.9649\n",
            "Epoch 79/100\n",
            "455/455 [==============================] - 1s 1ms/sample - loss: 0.0531 - accuracy: 0.9890 - val_loss: 0.0637 - val_accuracy: 0.9649\n",
            "Epoch 80/100\n",
            "455/455 [==============================] - 1s 1ms/sample - loss: 0.0529 - accuracy: 0.9890 - val_loss: 0.0639 - val_accuracy: 0.9649\n",
            "Epoch 81/100\n",
            "455/455 [==============================] - 1s 1ms/sample - loss: 0.0528 - accuracy: 0.9890 - val_loss: 0.0640 - val_accuracy: 0.9649\n",
            "Epoch 82/100\n",
            "455/455 [==============================] - 1s 1ms/sample - loss: 0.0527 - accuracy: 0.9890 - val_loss: 0.0641 - val_accuracy: 0.9649\n",
            "Epoch 83/100\n",
            "455/455 [==============================] - 1s 1ms/sample - loss: 0.0527 - accuracy: 0.9890 - val_loss: 0.0644 - val_accuracy: 0.9649\n",
            "Epoch 84/100\n",
            "455/455 [==============================] - 1s 1ms/sample - loss: 0.0525 - accuracy: 0.9890 - val_loss: 0.0639 - val_accuracy: 0.9649\n",
            "Epoch 85/100\n",
            "455/455 [==============================] - 1s 1ms/sample - loss: 0.0524 - accuracy: 0.9890 - val_loss: 0.0638 - val_accuracy: 0.9649\n",
            "Epoch 86/100\n",
            "455/455 [==============================] - 1s 1ms/sample - loss: 0.0523 - accuracy: 0.9890 - val_loss: 0.0639 - val_accuracy: 0.9649\n",
            "Epoch 87/100\n",
            "455/455 [==============================] - 1s 1ms/sample - loss: 0.0523 - accuracy: 0.9890 - val_loss: 0.0641 - val_accuracy: 0.9649\n",
            "Epoch 88/100\n",
            "455/455 [==============================] - 1s 1ms/sample - loss: 0.0524 - accuracy: 0.9890 - val_loss: 0.0637 - val_accuracy: 0.9649\n",
            "Epoch 89/100\n",
            "455/455 [==============================] - 1s 1ms/sample - loss: 0.0521 - accuracy: 0.9890 - val_loss: 0.0639 - val_accuracy: 0.9649\n",
            "Epoch 90/100\n",
            "455/455 [==============================] - 1s 1ms/sample - loss: 0.0521 - accuracy: 0.9890 - val_loss: 0.0633 - val_accuracy: 0.9649\n",
            "Epoch 91/100\n",
            "455/455 [==============================] - 1s 1ms/sample - loss: 0.0521 - accuracy: 0.9890 - val_loss: 0.0635 - val_accuracy: 0.9649\n",
            "Epoch 92/100\n",
            "455/455 [==============================] - 1s 1ms/sample - loss: 0.0520 - accuracy: 0.9890 - val_loss: 0.0635 - val_accuracy: 0.9649\n",
            "Epoch 93/100\n",
            "455/455 [==============================] - 1s 1ms/sample - loss: 0.0520 - accuracy: 0.9890 - val_loss: 0.0638 - val_accuracy: 0.9649\n",
            "Epoch 94/100\n",
            "455/455 [==============================] - 1s 1ms/sample - loss: 0.0519 - accuracy: 0.9890 - val_loss: 0.0637 - val_accuracy: 0.9649\n",
            "Epoch 95/100\n",
            "455/455 [==============================] - 1s 1ms/sample - loss: 0.0518 - accuracy: 0.9890 - val_loss: 0.0640 - val_accuracy: 0.9649\n",
            "Epoch 96/100\n",
            "455/455 [==============================] - 1s 1ms/sample - loss: 0.0517 - accuracy: 0.9890 - val_loss: 0.0635 - val_accuracy: 0.9649\n",
            "Epoch 97/100\n",
            "455/455 [==============================] - 1s 1ms/sample - loss: 0.0516 - accuracy: 0.9890 - val_loss: 0.0633 - val_accuracy: 0.9649\n",
            "Epoch 98/100\n",
            "455/455 [==============================] - 1s 1ms/sample - loss: 0.0516 - accuracy: 0.9890 - val_loss: 0.0628 - val_accuracy: 0.9649\n",
            "Epoch 99/100\n",
            "455/455 [==============================] - 1s 1ms/sample - loss: 0.0515 - accuracy: 0.9868 - val_loss: 0.0633 - val_accuracy: 0.9649\n",
            "Epoch 100/100\n",
            "455/455 [==============================] - 1s 1ms/sample - loss: 0.0515 - accuracy: 0.9890 - val_loss: 0.0635 - val_accuracy: 0.9649\n"
          ],
          "name": "stdout"
        }
      ]
    },
    {
      "cell_type": "code",
      "metadata": {
        "id": "505i_-DpftIz",
        "colab_type": "code",
        "outputId": "c529f50c-2093-4a79-d2da-ac3af563df45",
        "colab": {
          "base_uri": "https://localhost:8080/",
          "height": 34
        }
      },
      "source": [
        "# All the things you can plot for using Model Training History\n",
        "hist.history.keys()"
      ],
      "execution_count": 63,
      "outputs": [
        {
          "output_type": "execute_result",
          "data": {
            "text/plain": [
              "dict_keys(['loss', 'accuracy', 'val_loss', 'val_accuracy'])"
            ]
          },
          "metadata": {
            "tags": []
          },
          "execution_count": 63
        }
      ]
    },
    {
      "cell_type": "code",
      "metadata": {
        "id": "vs_EBaZueL_D",
        "colab_type": "code",
        "outputId": "4cd6509c-cd29-48c6-96a7-0cb7acdea5f9",
        "colab": {
          "base_uri": "https://localhost:8080/",
          "height": 629
        }
      },
      "source": [
        "# Plot Model Loss\n",
        "import matplotlib.pyplot as plt\n",
        "\n",
        "plt.figure(figsize=(20,10))\n",
        "plt.plot(hist.history['loss'], label='Training Loss')\n",
        "plt.plot(hist.history['val_loss'], label='Validation Loss')\n",
        "plt.legend()"
      ],
      "execution_count": 64,
      "outputs": [
        {
          "output_type": "execute_result",
          "data": {
            "text/plain": [
              "<matplotlib.legend.Legend at 0x7f8001bff7b8>"
            ]
          },
          "metadata": {
            "tags": []
          },
          "execution_count": 64
        },
        {
          "output_type": "display_data",
          "data": {
            "image/png": "[encoded data removed]",
            "text/plain": [
              "<Figure size 1440x720 with 1 Axes>"
            ]
          },
          "metadata": {
            "tags": []
          }
        }
      ]
    },
    {
      "cell_type": "code",
      "metadata": {
        "id": "4t59vQ8-f9_4",
        "colab_type": "code",
        "outputId": "8759d05b-5dc9-4013-b02a-0373f02e70c0",
        "colab": {
          "base_uri": "https://localhost:8080/",
          "height": 629
        }
      },
      "source": [
        "# Plot Model Accuracy\n",
        "plt.figure(figsize=(20,10))\n",
        "plt.plot(hist.history['accuracy'], label='Training Accuracy')\n",
        "plt.plot(hist.history['val_accuracy'], label='Validation Accuracy')\n",
        "plt.legend()"
      ],
      "execution_count": 65,
      "outputs": [
        {
          "output_type": "execute_result",
          "data": {
            "text/plain": [
              "<matplotlib.legend.Legend at 0x7f8001be5358>"
            ]
          },
          "metadata": {
            "tags": []
          },
          "execution_count": 65
        },
        {
          "output_type": "display_data",
          "data": {
            "image/png": "[encoded data removed]",
            "text/plain": [
              "<Figure size 1440x720 with 1 Axes>"
            ]
          },
          "metadata": {
            "tags": []
          }
        }
      ]
    },
    {
      "cell_type": "code",
      "metadata": {
        "id": "L9i_lt3dgPVu",
        "colab_type": "code",
        "colab": {}
      },
      "source": [
        "# Save Trained Model\n",
        "model.save('./saved_model.h5', overwrite=True)\n",
        "model.save_weights('./saved_model_weights.h5', overwrite=True)"
      ],
      "execution_count": 0,
      "outputs": []
    },
    {
      "cell_type": "code",
      "metadata": {
        "id": "I11-Xc_C4sft",
        "colab_type": "code",
        "colab": {
          "base_uri": "https://localhost:8080/",
          "height": 102
        },
        "outputId": "210932ee-a766-4f9a-fe23-52ceb89116d5"
      },
      "source": [
        "# Make Model Predictions\n",
        "y_pred = model.predict(X_test)\n",
        "# Round and Flattent the output\n",
        "y_pred = np.round(y_pred).flatten()\n",
        "print(y_pred)"
      ],
      "execution_count": 67,
      "outputs": [
        {
          "output_type": "stream",
          "text": [
            "[1. 0. 1. 0. 1. 0. 0. 1. 1. 1. 0. 1. 0. 1. 0. 1. 1. 1. 1. 0. 0. 1. 1. 0.\n",
            " 1. 1. 1. 1. 1. 1. 1. 1. 0. 0. 0. 0. 1. 1. 0. 1. 1. 1. 0. 1. 1. 1. 0. 1.\n",
            " 1. 0. 0. 1. 0. 1. 0. 1. 1. 1. 1. 0. 0. 0. 1. 1. 1. 0. 0. 0. 0. 0. 0. 1.\n",
            " 0. 1. 0. 1. 0. 1. 0. 0. 1. 1. 1. 1. 1. 0. 1. 0. 0. 0. 1. 1. 1. 1. 0. 1.\n",
            " 1. 1. 1. 1. 0. 1. 1. 1. 0. 1. 1. 1. 1. 1. 0. 1. 1. 1.]\n"
          ],
          "name": "stdout"
        }
      ]
    },
    {
      "cell_type": "code",
      "metadata": {
        "id": "p0r6dYQx41B6",
        "colab_type": "code",
        "colab": {
          "base_uri": "https://localhost:8080/",
          "height": 68
        },
        "outputId": "d63d6ef0-22b0-4145-adcb-76b7ac040277"
      },
      "source": [
        "# Calculate Validation Accuracy\n",
        "print('Accuracy: ', np.mean(y_pred == y_test))\n",
        "print('Model Evaluation: ', model.evaluate(X_test, y_test))"
      ],
      "execution_count": 68,
      "outputs": [
        {
          "output_type": "stream",
          "text": [
            "Accuracy:  0.9649122807017544\n",
            "114/114 [==============================] - 0s 617us/sample - loss: 0.0635 - accuracy: 0.9649\n",
            "Model Evaluation:  [0.06354648750602153, 0.9649123]\n"
          ],
          "name": "stdout"
        }
      ]
    }
  ]
}