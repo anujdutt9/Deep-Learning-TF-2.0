{
  "nbformat": 4,
  "nbformat_minor": 0,
  "metadata": {
    "colab": {
      "name": "TF-2-Logistic-Regression.ipynb",
      "provenance": [],
      "collapsed_sections": [],
      "authorship_tag": "ABX9TyP5OCSEwqZzrcrZspyZmX7N",
      "include_colab_link": true
    },
    "kernelspec": {
      "name": "python3",
      "display_name": "Python 3"
    }
  },
  "cells": [
    {
      "cell_type": "markdown",
      "metadata": {
        "id": "view-in-github",
        "colab_type": "text"
      },
      "source": [
        "<a href=\"https://colab.research.google.com/github/anujdutt9/Deep-Learning-TF-2.0/blob/master/TF_2_Logistic_Regression.ipynb\" target=\"_parent\"><img src=\"https://colab.research.google.com/assets/colab-badge.svg\" alt=\"Open In Colab\"/></a>"
      ]
    },
    {
      "cell_type": "code",
      "metadata": {
        "id": "Qr4EIVcgaof9",
        "colab_type": "code",
        "outputId": "ec0f9268-3aaa-4e1f-ccff-fe9c16e8fad6",
        "colab": {
          "base_uri": "https://localhost:8080/",
          "height": 119
        }
      },
      "source": [
        "%tensorflow_version 2.1\n",
        "import tensorflow as tf\n",
        "tf.__version__"
      ],
      "execution_count": 0,
      "outputs": [
        {
          "output_type": "stream",
          "text": [
            "`%tensorflow_version` only switches the major version: 1.x or 2.x.\n",
            "You set: `2.1`. This will be interpreted as: `2.x`.\n",
            "\n",
            "\n",
            "TensorFlow 2.x selected.\n"
          ],
          "name": "stdout"
        },
        {
          "output_type": "execute_result",
          "data": {
            "text/plain": [
              "'2.1.0'"
            ]
          },
          "metadata": {
            "tags": []
          },
          "execution_count": 1
        }
      ]
    },
    {
      "cell_type": "code",
      "metadata": {
        "id": "dvA5U1bma0bz",
        "colab_type": "code",
        "outputId": "1f278970-5960-48b6-fcdc-5ff92e92e526",
        "colab": {
          "base_uri": "https://localhost:8080/",
          "height": 34
        }
      },
      "source": [
        "# Import Dataset\n",
        "from sklearn.datasets import load_breast_cancer\n",
        "\n",
        "data = load_breast_cancer()\n",
        "type(data)"
      ],
      "execution_count": 0,
      "outputs": [
        {
          "output_type": "execute_result",
          "data": {
            "text/plain": [
              "sklearn.utils.Bunch"
            ]
          },
          "metadata": {
            "tags": []
          },
          "execution_count": 2
        }
      ]
    },
    {
      "cell_type": "code",
      "metadata": {
        "id": "8_0QWBZVbDRz",
        "colab_type": "code",
        "outputId": "106dcc3a-a3e1-4391-d683-c62f907a4183",
        "colab": {
          "base_uri": "https://localhost:8080/",
          "height": 34
        }
      },
      "source": [
        "# Data is of type Bunch Object which is kind of like a Dictionary\n",
        "data.keys()"
      ],
      "execution_count": 0,
      "outputs": [
        {
          "output_type": "execute_result",
          "data": {
            "text/plain": [
              "dict_keys(['data', 'target', 'target_names', 'DESCR', 'feature_names', 'filename'])"
            ]
          },
          "metadata": {
            "tags": []
          },
          "execution_count": 3
        }
      ]
    },
    {
      "cell_type": "code",
      "metadata": {
        "id": "1Qu6I_7ibLNL",
        "colab_type": "code",
        "outputId": "d28d2de9-7e5d-408d-f291-f63bccdb42ad",
        "colab": {
          "base_uri": "https://localhost:8080/",
          "height": 34
        }
      },
      "source": [
        "# 'data.data' means the input data\n",
        "data.data.shape"
      ],
      "execution_count": 0,
      "outputs": [
        {
          "output_type": "execute_result",
          "data": {
            "text/plain": [
              "(569, 30)"
            ]
          },
          "metadata": {
            "tags": []
          },
          "execution_count": 4
        }
      ]
    },
    {
      "cell_type": "code",
      "metadata": {
        "id": "mL0n4tRNbTCU",
        "colab_type": "code",
        "outputId": "a50eb126-bb02-4f03-a36c-cd4fd97ab82e",
        "colab": {
          "base_uri": "https://localhost:8080/",
          "height": 34
        }
      },
      "source": [
        "# Labels: 'data.target'\n",
        "data.target.shape"
      ],
      "execution_count": 0,
      "outputs": [
        {
          "output_type": "execute_result",
          "data": {
            "text/plain": [
              "(569,)"
            ]
          },
          "metadata": {
            "tags": []
          },
          "execution_count": 5
        }
      ]
    },
    {
      "cell_type": "code",
      "metadata": {
        "id": "U45-N25_ba8_",
        "colab_type": "code",
        "outputId": "c17f1e50-ed9a-4ce3-b14b-8affad93fc1a",
        "colab": {
          "base_uri": "https://localhost:8080/",
          "height": 34
        }
      },
      "source": [
        "# First 10 Labels\n",
        "data.target[:10]"
      ],
      "execution_count": 0,
      "outputs": [
        {
          "output_type": "execute_result",
          "data": {
            "text/plain": [
              "array([0, 0, 0, 0, 0, 0, 0, 0, 0, 0])"
            ]
          },
          "metadata": {
            "tags": []
          },
          "execution_count": 6
        }
      ]
    },
    {
      "cell_type": "code",
      "metadata": {
        "id": "Eh68Q3QdbgVm",
        "colab_type": "code",
        "outputId": "624354fd-98a6-4fae-86b8-bbb634959128",
        "colab": {
          "base_uri": "https://localhost:8080/",
          "height": 34
        }
      },
      "source": [
        "# Label Names\n",
        "data.target_names"
      ],
      "execution_count": 0,
      "outputs": [
        {
          "output_type": "execute_result",
          "data": {
            "text/plain": [
              "array(['malignant', 'benign'], dtype='<U9')"
            ]
          },
          "metadata": {
            "tags": []
          },
          "execution_count": 7
        }
      ]
    },
    {
      "cell_type": "code",
      "metadata": {
        "id": "o9_Q4_v4butO",
        "colab_type": "code",
        "outputId": "241878d3-6786-42ca-a3fa-f1795d97d602",
        "colab": {
          "base_uri": "https://localhost:8080/",
          "height": 187
        }
      },
      "source": [
        "# Meaning of each feature\n",
        "data.feature_names"
      ],
      "execution_count": 0,
      "outputs": [
        {
          "output_type": "execute_result",
          "data": {
            "text/plain": [
              "array(['mean radius', 'mean texture', 'mean perimeter', 'mean area',\n",
              "       'mean smoothness', 'mean compactness', 'mean concavity',\n",
              "       'mean concave points', 'mean symmetry', 'mean fractal dimension',\n",
              "       'radius error', 'texture error', 'perimeter error', 'area error',\n",
              "       'smoothness error', 'compactness error', 'concavity error',\n",
              "       'concave points error', 'symmetry error',\n",
              "       'fractal dimension error', 'worst radius', 'worst texture',\n",
              "       'worst perimeter', 'worst area', 'worst smoothness',\n",
              "       'worst compactness', 'worst concavity', 'worst concave points',\n",
              "       'worst symmetry', 'worst fractal dimension'], dtype='<U23')"
            ]
          },
          "metadata": {
            "tags": []
          },
          "execution_count": 8
        }
      ]
    },
    {
      "cell_type": "code",
      "metadata": {
        "id": "CvEEiKZfb1Lr",
        "colab_type": "code",
        "colab": {}
      },
      "source": [
        "# Train Test Split Dataset\n",
        "from sklearn.model_selection import train_test_split\n",
        "\n",
        "# Train Test Split using 80% data from training and 20% for validation\n",
        "X_train, X_test, y_train, y_test = train_test_split(data.data, data.target, test_size=0.2)"
      ],
      "execution_count": 0,
      "outputs": []
    },
    {
      "cell_type": "code",
      "metadata": {
        "id": "pcklqIGkcOWN",
        "colab_type": "code",
        "outputId": "1aa21e94-7062-4e39-eb06-2c3b37841dbb",
        "colab": {
          "base_uri": "https://localhost:8080/",
          "height": 34
        }
      },
      "source": [
        "X_train.shape, y_train.shape"
      ],
      "execution_count": 0,
      "outputs": [
        {
          "output_type": "execute_result",
          "data": {
            "text/plain": [
              "((455, 30), (455,))"
            ]
          },
          "metadata": {
            "tags": []
          },
          "execution_count": 10
        }
      ]
    },
    {
      "cell_type": "code",
      "metadata": {
        "id": "663ojF_XcS_q",
        "colab_type": "code",
        "outputId": "d5647fd8-c5ec-4c26-b8d3-f345825a778c",
        "colab": {
          "base_uri": "https://localhost:8080/",
          "height": 34
        }
      },
      "source": [
        "X_test.shape, y_test.shape"
      ],
      "execution_count": 0,
      "outputs": [
        {
          "output_type": "execute_result",
          "data": {
            "text/plain": [
              "((114, 30), (114,))"
            ]
          },
          "metadata": {
            "tags": []
          },
          "execution_count": 11
        }
      ]
    },
    {
      "cell_type": "code",
      "metadata": {
        "id": "DNTfJxqjfP6L",
        "colab_type": "code",
        "outputId": "43c35116-94fb-4dd1-b469-3cf911e57aa1",
        "colab": {
          "base_uri": "https://localhost:8080/",
          "height": 102
        }
      },
      "source": [
        "X_train[0]"
      ],
      "execution_count": 0,
      "outputs": [
        {
          "output_type": "execute_result",
          "data": {
            "text/plain": [
              "array([1.356e+01, 1.390e+01, 8.859e+01, 5.613e+02, 1.051e-01, 1.192e-01,\n",
              "       7.860e-02, 4.451e-02, 1.962e-01, 6.303e-02, 2.569e-01, 4.981e-01,\n",
              "       2.011e+00, 2.103e+01, 5.851e-03, 2.314e-02, 2.544e-02, 8.360e-03,\n",
              "       1.842e-02, 2.918e-03, 1.498e+01, 1.713e+01, 1.011e+02, 6.866e+02,\n",
              "       1.376e-01, 2.698e-01, 2.577e-01, 9.090e-02, 3.065e-01, 8.177e-02])"
            ]
          },
          "metadata": {
            "tags": []
          },
          "execution_count": 12
        }
      ]
    },
    {
      "cell_type": "code",
      "metadata": {
        "id": "ly26n0cjcV1q",
        "colab_type": "code",
        "colab": {}
      },
      "source": [
        "# Normalize the Dataset\n",
        "from sklearn.preprocessing import StandardScaler\n",
        "\n",
        "# Standardize features by removing the mean and scaling to unit variance\n",
        "# z = (x - mean)/ sd\n",
        "scaler = StandardScaler()\n",
        "X_train = scaler.fit_transform(X_train)\n",
        "X_test = scaler.fit_transform(X_test)"
      ],
      "execution_count": 0,
      "outputs": []
    },
    {
      "cell_type": "code",
      "metadata": {
        "id": "jio1V5CHcuMP",
        "colab_type": "code",
        "outputId": "e6620b72-34d9-45d5-8459-ef6b32ee8a31",
        "colab": {
          "base_uri": "https://localhost:8080/",
          "height": 187
        }
      },
      "source": [
        "# Build the Model for Classification\n",
        "model = tf.keras.Sequential([\n",
        "                             tf.keras.layers.Input(shape=(X_train.shape[1],)),\n",
        "                             tf.keras.layers.Dense(1, activation='sigmoid')\n",
        "])\n",
        "\n",
        "# Print Model Summary\n",
        "model.summary()"
      ],
      "execution_count": 0,
      "outputs": [
        {
          "output_type": "stream",
          "text": [
            "Model: \"sequential\"\n",
            "_________________________________________________________________\n",
            "Layer (type)                 Output Shape              Param #   \n",
            "=================================================================\n",
            "dense (Dense)                (None, 1)                 31        \n",
            "=================================================================\n",
            "Total params: 31\n",
            "Trainable params: 31\n",
            "Non-trainable params: 0\n",
            "_________________________________________________________________\n"
          ],
          "name": "stdout"
        }
      ]
    },
    {
      "cell_type": "code",
      "metadata": {
        "id": "ihCXuydZda_S",
        "colab_type": "code",
        "colab": {}
      },
      "source": [
        "# Compile the Model\n",
        "model.compile(optimizer='adam', loss='binary_crossentropy', metrics=['accuracy'])"
      ],
      "execution_count": 0,
      "outputs": []
    },
    {
      "cell_type": "code",
      "metadata": {
        "id": "x9EkhY4Hd2Iu",
        "colab_type": "code",
        "outputId": "98eb9245-a499-4714-9188-4bb456d70c55",
        "colab": {
          "base_uri": "https://localhost:8080/",
          "height": 1000
        }
      },
      "source": [
        "# Train the Model\n",
        "hist = model.fit(x=X_train, y=y_train, batch_size=1, epochs=100, verbose=1, validation_data=(X_test, y_test))"
      ],
      "execution_count": 0,
      "outputs": [
        {
          "output_type": "stream",
          "text": [
            "Train on 455 samples, validate on 114 samples\n",
            "Epoch 1/100\n",
            "455/455 [==============================] - 1s 2ms/sample - loss: 0.2445 - accuracy: 0.9495 - val_loss: 0.1616 - val_accuracy: 0.9298\n",
            "Epoch 2/100\n",
            "455/455 [==============================] - 1s 1ms/sample - loss: 0.1257 - accuracy: 0.9758 - val_loss: 0.1348 - val_accuracy: 0.9386\n",
            "Epoch 3/100\n",
            "455/455 [==============================] - 1s 1ms/sample - loss: 0.0987 - accuracy: 0.9846 - val_loss: 0.1254 - val_accuracy: 0.9386\n",
            "Epoch 4/100\n",
            "455/455 [==============================] - 1s 1ms/sample - loss: 0.0866 - accuracy: 0.9868 - val_loss: 0.1193 - val_accuracy: 0.9561\n",
            "Epoch 5/100\n",
            "455/455 [==============================] - 1s 1ms/sample - loss: 0.0797 - accuracy: 0.9868 - val_loss: 0.1145 - val_accuracy: 0.9561\n",
            "Epoch 6/100\n",
            "455/455 [==============================] - 1s 1ms/sample - loss: 0.0746 - accuracy: 0.9868 - val_loss: 0.1113 - val_accuracy: 0.9561\n",
            "Epoch 7/100\n",
            "455/455 [==============================] - 1s 1ms/sample - loss: 0.0712 - accuracy: 0.9868 - val_loss: 0.1080 - val_accuracy: 0.9561\n",
            "Epoch 8/100\n",
            "455/455 [==============================] - 1s 1ms/sample - loss: 0.0684 - accuracy: 0.9868 - val_loss: 0.1056 - val_accuracy: 0.9561\n",
            "Epoch 9/100\n",
            "455/455 [==============================] - 1s 1ms/sample - loss: 0.0663 - accuracy: 0.9868 - val_loss: 0.1032 - val_accuracy: 0.9561\n",
            "Epoch 10/100\n",
            "455/455 [==============================] - 1s 1ms/sample - loss: 0.0646 - accuracy: 0.9868 - val_loss: 0.1012 - val_accuracy: 0.9561\n",
            "Epoch 11/100\n",
            "455/455 [==============================] - 1s 1ms/sample - loss: 0.0632 - accuracy: 0.9868 - val_loss: 0.0989 - val_accuracy: 0.9561\n",
            "Epoch 12/100\n",
            "455/455 [==============================] - 1s 1ms/sample - loss: 0.0619 - accuracy: 0.9868 - val_loss: 0.0978 - val_accuracy: 0.9561\n",
            "Epoch 13/100\n",
            "455/455 [==============================] - 1s 1ms/sample - loss: 0.0609 - accuracy: 0.9868 - val_loss: 0.0967 - val_accuracy: 0.9561\n",
            "Epoch 14/100\n",
            "455/455 [==============================] - 1s 1ms/sample - loss: 0.0600 - accuracy: 0.9868 - val_loss: 0.0953 - val_accuracy: 0.9561\n",
            "Epoch 15/100\n",
            "455/455 [==============================] - 1s 1ms/sample - loss: 0.0591 - accuracy: 0.9868 - val_loss: 0.0942 - val_accuracy: 0.9561\n",
            "Epoch 16/100\n",
            "455/455 [==============================] - 1s 1ms/sample - loss: 0.0584 - accuracy: 0.9868 - val_loss: 0.0930 - val_accuracy: 0.9561\n",
            "Epoch 17/100\n",
            "455/455 [==============================] - 1s 1ms/sample - loss: 0.0578 - accuracy: 0.9890 - val_loss: 0.0925 - val_accuracy: 0.9561\n",
            "Epoch 18/100\n",
            "455/455 [==============================] - 1s 1ms/sample - loss: 0.0572 - accuracy: 0.9868 - val_loss: 0.0903 - val_accuracy: 0.9561\n",
            "Epoch 19/100\n",
            "455/455 [==============================] - 1s 1ms/sample - loss: 0.0567 - accuracy: 0.9890 - val_loss: 0.0896 - val_accuracy: 0.9561\n",
            "Epoch 20/100\n",
            "455/455 [==============================] - 1s 1ms/sample - loss: 0.0561 - accuracy: 0.9890 - val_loss: 0.0892 - val_accuracy: 0.9561\n",
            "Epoch 21/100\n",
            "455/455 [==============================] - 1s 1ms/sample - loss: 0.0559 - accuracy: 0.9890 - val_loss: 0.0889 - val_accuracy: 0.9649\n",
            "Epoch 22/100\n",
            "455/455 [==============================] - 1s 1ms/sample - loss: 0.0555 - accuracy: 0.9890 - val_loss: 0.0882 - val_accuracy: 0.9649\n",
            "Epoch 23/100\n",
            "455/455 [==============================] - 1s 1ms/sample - loss: 0.0550 - accuracy: 0.9890 - val_loss: 0.0870 - val_accuracy: 0.9649\n",
            "Epoch 24/100\n",
            "455/455 [==============================] - 1s 1ms/sample - loss: 0.0545 - accuracy: 0.9890 - val_loss: 0.0862 - val_accuracy: 0.9649\n",
            "Epoch 25/100\n",
            "455/455 [==============================] - 1s 1ms/sample - loss: 0.0542 - accuracy: 0.9890 - val_loss: 0.0860 - val_accuracy: 0.9649\n",
            "Epoch 26/100\n",
            "455/455 [==============================] - 1s 1ms/sample - loss: 0.0539 - accuracy: 0.9890 - val_loss: 0.0849 - val_accuracy: 0.9649\n",
            "Epoch 27/100\n",
            "455/455 [==============================] - 1s 1ms/sample - loss: 0.0535 - accuracy: 0.9890 - val_loss: 0.0842 - val_accuracy: 0.9649\n",
            "Epoch 28/100\n",
            "455/455 [==============================] - 1s 1ms/sample - loss: 0.0534 - accuracy: 0.9890 - val_loss: 0.0845 - val_accuracy: 0.9649\n",
            "Epoch 29/100\n",
            "455/455 [==============================] - 1s 1ms/sample - loss: 0.0531 - accuracy: 0.9890 - val_loss: 0.0836 - val_accuracy: 0.9649\n",
            "Epoch 30/100\n",
            "455/455 [==============================] - 1s 1ms/sample - loss: 0.0527 - accuracy: 0.9890 - val_loss: 0.0829 - val_accuracy: 0.9649\n",
            "Epoch 31/100\n",
            "455/455 [==============================] - 1s 1ms/sample - loss: 0.0525 - accuracy: 0.9890 - val_loss: 0.0823 - val_accuracy: 0.9649\n",
            "Epoch 32/100\n",
            "455/455 [==============================] - 1s 1ms/sample - loss: 0.0522 - accuracy: 0.9890 - val_loss: 0.0821 - val_accuracy: 0.9649\n",
            "Epoch 33/100\n",
            "455/455 [==============================] - 1s 1ms/sample - loss: 0.0521 - accuracy: 0.9890 - val_loss: 0.0815 - val_accuracy: 0.9649\n",
            "Epoch 34/100\n",
            "455/455 [==============================] - 1s 1ms/sample - loss: 0.0519 - accuracy: 0.9890 - val_loss: 0.0803 - val_accuracy: 0.9649\n",
            "Epoch 35/100\n",
            "455/455 [==============================] - 1s 1ms/sample - loss: 0.0515 - accuracy: 0.9890 - val_loss: 0.0802 - val_accuracy: 0.9649\n",
            "Epoch 36/100\n",
            "455/455 [==============================] - 1s 1ms/sample - loss: 0.0513 - accuracy: 0.9890 - val_loss: 0.0794 - val_accuracy: 0.9737\n",
            "Epoch 37/100\n",
            "455/455 [==============================] - 1s 1ms/sample - loss: 0.0512 - accuracy: 0.9890 - val_loss: 0.0789 - val_accuracy: 0.9737\n",
            "Epoch 38/100\n",
            "455/455 [==============================] - 1s 1ms/sample - loss: 0.0509 - accuracy: 0.9890 - val_loss: 0.0781 - val_accuracy: 0.9737\n",
            "Epoch 39/100\n",
            "455/455 [==============================] - 1s 1ms/sample - loss: 0.0506 - accuracy: 0.9890 - val_loss: 0.0785 - val_accuracy: 0.9737\n",
            "Epoch 40/100\n",
            "455/455 [==============================] - 1s 1ms/sample - loss: 0.0506 - accuracy: 0.9890 - val_loss: 0.0781 - val_accuracy: 0.9737\n",
            "Epoch 41/100\n",
            "455/455 [==============================] - 1s 1ms/sample - loss: 0.0504 - accuracy: 0.9890 - val_loss: 0.0778 - val_accuracy: 0.9737\n",
            "Epoch 42/100\n",
            "455/455 [==============================] - 1s 1ms/sample - loss: 0.0502 - accuracy: 0.9890 - val_loss: 0.0772 - val_accuracy: 0.9737\n",
            "Epoch 43/100\n",
            "455/455 [==============================] - 1s 1ms/sample - loss: 0.0501 - accuracy: 0.9890 - val_loss: 0.0773 - val_accuracy: 0.9737\n",
            "Epoch 44/100\n",
            "455/455 [==============================] - 1s 1ms/sample - loss: 0.0499 - accuracy: 0.9890 - val_loss: 0.0764 - val_accuracy: 0.9737\n",
            "Epoch 45/100\n",
            "455/455 [==============================] - 1s 1ms/sample - loss: 0.0498 - accuracy: 0.9890 - val_loss: 0.0761 - val_accuracy: 0.9737\n",
            "Epoch 46/100\n",
            "455/455 [==============================] - 1s 1ms/sample - loss: 0.0495 - accuracy: 0.9890 - val_loss: 0.0762 - val_accuracy: 0.9737\n",
            "Epoch 47/100\n",
            "455/455 [==============================] - 1s 1ms/sample - loss: 0.0494 - accuracy: 0.9890 - val_loss: 0.0762 - val_accuracy: 0.9737\n",
            "Epoch 48/100\n",
            "455/455 [==============================] - 1s 1ms/sample - loss: 0.0492 - accuracy: 0.9912 - val_loss: 0.0754 - val_accuracy: 0.9825\n",
            "Epoch 49/100\n",
            "455/455 [==============================] - 1s 1ms/sample - loss: 0.0491 - accuracy: 0.9890 - val_loss: 0.0753 - val_accuracy: 0.9825\n",
            "Epoch 50/100\n",
            "455/455 [==============================] - 1s 1ms/sample - loss: 0.0490 - accuracy: 0.9890 - val_loss: 0.0751 - val_accuracy: 0.9825\n",
            "Epoch 51/100\n",
            "455/455 [==============================] - 1s 1ms/sample - loss: 0.0488 - accuracy: 0.9890 - val_loss: 0.0749 - val_accuracy: 0.9825\n",
            "Epoch 52/100\n",
            "455/455 [==============================] - 1s 1ms/sample - loss: 0.0487 - accuracy: 0.9890 - val_loss: 0.0745 - val_accuracy: 0.9825\n",
            "Epoch 53/100\n",
            "455/455 [==============================] - 1s 1ms/sample - loss: 0.0485 - accuracy: 0.9890 - val_loss: 0.0741 - val_accuracy: 0.9825\n",
            "Epoch 54/100\n",
            "455/455 [==============================] - 1s 1ms/sample - loss: 0.0483 - accuracy: 0.9912 - val_loss: 0.0742 - val_accuracy: 0.9825\n",
            "Epoch 55/100\n",
            "455/455 [==============================] - 1s 1ms/sample - loss: 0.0483 - accuracy: 0.9890 - val_loss: 0.0738 - val_accuracy: 0.9825\n",
            "Epoch 56/100\n",
            "455/455 [==============================] - 1s 1ms/sample - loss: 0.0481 - accuracy: 0.9890 - val_loss: 0.0735 - val_accuracy: 0.9825\n",
            "Epoch 57/100\n",
            "455/455 [==============================] - 1s 1ms/sample - loss: 0.0481 - accuracy: 0.9912 - val_loss: 0.0734 - val_accuracy: 0.9825\n",
            "Epoch 58/100\n",
            "455/455 [==============================] - 1s 1ms/sample - loss: 0.0480 - accuracy: 0.9912 - val_loss: 0.0730 - val_accuracy: 0.9825\n",
            "Epoch 59/100\n",
            "455/455 [==============================] - 1s 1ms/sample - loss: 0.0478 - accuracy: 0.9912 - val_loss: 0.0729 - val_accuracy: 0.9825\n",
            "Epoch 60/100\n",
            "455/455 [==============================] - 1s 1ms/sample - loss: 0.0477 - accuracy: 0.9912 - val_loss: 0.0729 - val_accuracy: 0.9825\n",
            "Epoch 61/100\n",
            "455/455 [==============================] - 1s 1ms/sample - loss: 0.0475 - accuracy: 0.9912 - val_loss: 0.0729 - val_accuracy: 0.9825\n",
            "Epoch 62/100\n",
            "455/455 [==============================] - 1s 1ms/sample - loss: 0.0475 - accuracy: 0.9912 - val_loss: 0.0726 - val_accuracy: 0.9825\n",
            "Epoch 63/100\n",
            "455/455 [==============================] - 1s 1ms/sample - loss: 0.0474 - accuracy: 0.9912 - val_loss: 0.0727 - val_accuracy: 0.9825\n",
            "Epoch 64/100\n",
            "455/455 [==============================] - 1s 1ms/sample - loss: 0.0472 - accuracy: 0.9912 - val_loss: 0.0727 - val_accuracy: 0.9825\n",
            "Epoch 65/100\n",
            "455/455 [==============================] - 1s 1ms/sample - loss: 0.0471 - accuracy: 0.9912 - val_loss: 0.0724 - val_accuracy: 0.9825\n",
            "Epoch 66/100\n",
            "455/455 [==============================] - 1s 1ms/sample - loss: 0.0470 - accuracy: 0.9912 - val_loss: 0.0724 - val_accuracy: 0.9825\n",
            "Epoch 67/100\n",
            "455/455 [==============================] - 1s 1ms/sample - loss: 0.0469 - accuracy: 0.9912 - val_loss: 0.0726 - val_accuracy: 0.9825\n",
            "Epoch 68/100\n",
            "455/455 [==============================] - 1s 1ms/sample - loss: 0.0469 - accuracy: 0.9912 - val_loss: 0.0722 - val_accuracy: 0.9825\n",
            "Epoch 69/100\n",
            "455/455 [==============================] - 1s 1ms/sample - loss: 0.0466 - accuracy: 0.9912 - val_loss: 0.0721 - val_accuracy: 0.9825\n",
            "Epoch 70/100\n",
            "455/455 [==============================] - 1s 1ms/sample - loss: 0.0465 - accuracy: 0.9912 - val_loss: 0.0723 - val_accuracy: 0.9825\n",
            "Epoch 71/100\n",
            "455/455 [==============================] - 1s 1ms/sample - loss: 0.0466 - accuracy: 0.9912 - val_loss: 0.0718 - val_accuracy: 0.9825\n",
            "Epoch 72/100\n",
            "455/455 [==============================] - 1s 1ms/sample - loss: 0.0464 - accuracy: 0.9912 - val_loss: 0.0719 - val_accuracy: 0.9825\n",
            "Epoch 73/100\n",
            "455/455 [==============================] - 1s 1ms/sample - loss: 0.0462 - accuracy: 0.9912 - val_loss: 0.0725 - val_accuracy: 0.9825\n",
            "Epoch 74/100\n",
            "455/455 [==============================] - 1s 1ms/sample - loss: 0.0463 - accuracy: 0.9912 - val_loss: 0.0722 - val_accuracy: 0.9825\n",
            "Epoch 75/100\n",
            "455/455 [==============================] - 1s 1ms/sample - loss: 0.0462 - accuracy: 0.9912 - val_loss: 0.0720 - val_accuracy: 0.9825\n",
            "Epoch 76/100\n",
            "455/455 [==============================] - 1s 1ms/sample - loss: 0.0461 - accuracy: 0.9912 - val_loss: 0.0720 - val_accuracy: 0.9825\n",
            "Epoch 77/100\n",
            "455/455 [==============================] - 1s 1ms/sample - loss: 0.0458 - accuracy: 0.9912 - val_loss: 0.0720 - val_accuracy: 0.9825\n",
            "Epoch 78/100\n",
            "455/455 [==============================] - 1s 1ms/sample - loss: 0.0458 - accuracy: 0.9912 - val_loss: 0.0720 - val_accuracy: 0.9825\n",
            "Epoch 79/100\n",
            "455/455 [==============================] - 1s 1ms/sample - loss: 0.0457 - accuracy: 0.9912 - val_loss: 0.0720 - val_accuracy: 0.9825\n",
            "Epoch 80/100\n",
            "455/455 [==============================] - 1s 1ms/sample - loss: 0.0456 - accuracy: 0.9912 - val_loss: 0.0720 - val_accuracy: 0.9825\n",
            "Epoch 81/100\n",
            "455/455 [==============================] - 1s 1ms/sample - loss: 0.0456 - accuracy: 0.9934 - val_loss: 0.0720 - val_accuracy: 0.9825\n",
            "Epoch 82/100\n",
            "455/455 [==============================] - 1s 1ms/sample - loss: 0.0455 - accuracy: 0.9912 - val_loss: 0.0719 - val_accuracy: 0.9825\n",
            "Epoch 83/100\n",
            "455/455 [==============================] - 1s 1ms/sample - loss: 0.0454 - accuracy: 0.9912 - val_loss: 0.0719 - val_accuracy: 0.9825\n",
            "Epoch 84/100\n",
            "455/455 [==============================] - 1s 1ms/sample - loss: 0.0453 - accuracy: 0.9912 - val_loss: 0.0720 - val_accuracy: 0.9825\n",
            "Epoch 85/100\n",
            "455/455 [==============================] - 1s 1ms/sample - loss: 0.0453 - accuracy: 0.9912 - val_loss: 0.0718 - val_accuracy: 0.9825\n",
            "Epoch 86/100\n",
            "455/455 [==============================] - 1s 1ms/sample - loss: 0.0451 - accuracy: 0.9912 - val_loss: 0.0720 - val_accuracy: 0.9825\n",
            "Epoch 87/100\n",
            "455/455 [==============================] - 1s 1ms/sample - loss: 0.0451 - accuracy: 0.9912 - val_loss: 0.0719 - val_accuracy: 0.9825\n",
            "Epoch 88/100\n",
            "455/455 [==============================] - 1s 1ms/sample - loss: 0.0449 - accuracy: 0.9912 - val_loss: 0.0719 - val_accuracy: 0.9825\n",
            "Epoch 89/100\n",
            "455/455 [==============================] - 1s 1ms/sample - loss: 0.0449 - accuracy: 0.9912 - val_loss: 0.0722 - val_accuracy: 0.9825\n",
            "Epoch 90/100\n",
            "455/455 [==============================] - 1s 1ms/sample - loss: 0.0448 - accuracy: 0.9934 - val_loss: 0.0721 - val_accuracy: 0.9825\n",
            "Epoch 91/100\n",
            "455/455 [==============================] - 1s 1ms/sample - loss: 0.0447 - accuracy: 0.9912 - val_loss: 0.0724 - val_accuracy: 0.9825\n",
            "Epoch 92/100\n",
            "455/455 [==============================] - 1s 1ms/sample - loss: 0.0447 - accuracy: 0.9912 - val_loss: 0.0724 - val_accuracy: 0.9825\n",
            "Epoch 93/100\n",
            "455/455 [==============================] - 1s 1ms/sample - loss: 0.0445 - accuracy: 0.9912 - val_loss: 0.0722 - val_accuracy: 0.9825\n",
            "Epoch 94/100\n",
            "455/455 [==============================] - 1s 1ms/sample - loss: 0.0444 - accuracy: 0.9912 - val_loss: 0.0721 - val_accuracy: 0.9825\n",
            "Epoch 95/100\n",
            "455/455 [==============================] - 1s 1ms/sample - loss: 0.0445 - accuracy: 0.9934 - val_loss: 0.0722 - val_accuracy: 0.9825\n",
            "Epoch 96/100\n",
            "455/455 [==============================] - 1s 1ms/sample - loss: 0.0445 - accuracy: 0.9912 - val_loss: 0.0723 - val_accuracy: 0.9825\n",
            "Epoch 97/100\n",
            "455/455 [==============================] - 1s 1ms/sample - loss: 0.0443 - accuracy: 0.9934 - val_loss: 0.0727 - val_accuracy: 0.9825\n",
            "Epoch 98/100\n",
            "455/455 [==============================] - 1s 1ms/sample - loss: 0.0443 - accuracy: 0.9912 - val_loss: 0.0727 - val_accuracy: 0.9825\n",
            "Epoch 99/100\n",
            "455/455 [==============================] - 1s 1ms/sample - loss: 0.0442 - accuracy: 0.9912 - val_loss: 0.0725 - val_accuracy: 0.9825\n",
            "Epoch 100/100\n",
            "455/455 [==============================] - 1s 1ms/sample - loss: 0.0440 - accuracy: 0.9912 - val_loss: 0.0725 - val_accuracy: 0.9825\n"
          ],
          "name": "stdout"
        }
      ]
    },
    {
      "cell_type": "code",
      "metadata": {
        "id": "505i_-DpftIz",
        "colab_type": "code",
        "outputId": "62de5bf2-872e-4717-b7e5-8fa6007e9b9a",
        "colab": {
          "base_uri": "https://localhost:8080/",
          "height": 34
        }
      },
      "source": [
        "# All the things you can plot for using Model Training History\n",
        "hist.history.keys()"
      ],
      "execution_count": 0,
      "outputs": [
        {
          "output_type": "execute_result",
          "data": {
            "text/plain": [
              "dict_keys(['loss', 'accuracy', 'val_loss', 'val_accuracy'])"
            ]
          },
          "metadata": {
            "tags": []
          },
          "execution_count": 17
        }
      ]
    },
    {
      "cell_type": "code",
      "metadata": {
        "id": "vs_EBaZueL_D",
        "colab_type": "code",
        "outputId": "d1c5c289-08aa-4eee-ba7f-8c08dda0a179",
        "colab": {
          "base_uri": "https://localhost:8080/",
          "height": 629
        }
      },
      "source": [
        "# Plot Model Loss\n",
        "import matplotlib.pyplot as plt\n",
        "\n",
        "plt.figure(figsize=(20,10))\n",
        "plt.plot(hist.history['loss'], label='Training Loss')\n",
        "plt.plot(hist.history['val_loss'], label='Validation Loss')\n",
        "plt.legend()"
      ],
      "execution_count": 0,
      "outputs": [
        {
          "output_type": "execute_result",
          "data": {
            "text/plain": [
              "<matplotlib.legend.Legend at 0x7f6b50ca1898>"
            ]
          },
          "metadata": {
            "tags": []
          },
          "execution_count": 18
        },
        {
          "output_type": "display_data",
          "data": {
            "image/png": "[encoded data removed]",
            "text/plain": [
              "<Figure size 1440x720 with 1 Axes>"
            ]
          },
          "metadata": {
            "tags": []
          }
        }
      ]
    },
    {
      "cell_type": "code",
      "metadata": {
        "id": "4t59vQ8-f9_4",
        "colab_type": "code",
        "outputId": "ecc22135-7508-490e-d2d0-11662ad306b3",
        "colab": {
          "base_uri": "https://localhost:8080/",
          "height": 629
        }
      },
      "source": [
        "# Plot Model Accuracy\n",
        "plt.figure(figsize=(20,10))\n",
        "plt.plot(hist.history['accuracy'], label='Training Accuracy')\n",
        "plt.plot(hist.history['val_accuracy'], label='Validation Accuracy')\n",
        "plt.legend()"
      ],
      "execution_count": 0,
      "outputs": [
        {
          "output_type": "execute_result",
          "data": {
            "text/plain": [
              "<matplotlib.legend.Legend at 0x7f6b5077def0>"
            ]
          },
          "metadata": {
            "tags": []
          },
          "execution_count": 19
        },
        {
          "output_type": "display_data",
          "data": {
            "image/png": "[encoded data removed]",
            "text/plain": [
              "<Figure size 1440x720 with 1 Axes>"
            ]
          },
          "metadata": {
            "tags": []
          }
        }
      ]
    },
    {
      "cell_type": "code",
      "metadata": {
        "id": "L9i_lt3dgPVu",
        "colab_type": "code",
        "colab": {}
      },
      "source": [
        "# Save Trained Model\n",
        "model.save('./saved_model.h5', overwrite=True)\n",
        "model.save_weights('./saved_model_weights.h5', overwrite=True)"
      ],
      "execution_count": 0,
      "outputs": []
    }
  ]
}