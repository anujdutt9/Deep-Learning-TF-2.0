{
  "nbformat": 4,
  "nbformat_minor": 0,
  "metadata": {
    "colab": {
      "name": "Train and Visualize Word Embeddings.ipynb",
      "provenance": [],
      "collapsed_sections": [],
      "authorship_tag": "ABX9TyOJoudQ8d2fp+JucBCQjb0w",
      "include_colab_link": true
    },
    "kernelspec": {
      "name": "python3",
      "display_name": "Python 3"
    }
  },
  "cells": [
    {
      "cell_type": "markdown",
      "metadata": {
        "id": "view-in-github",
        "colab_type": "text"
      },
      "source": [
        "<a href=\"https://colab.research.google.com/github/anujdutt9/Deep-Learning-TF-2.0/blob/master/Train_and_Visualize_Word_Embeddings.ipynb\" target=\"_parent\"><img src=\"https://colab.research.google.com/assets/colab-badge.svg\" alt=\"Open In Colab\"/></a>"
      ]
    },
    {
      "cell_type": "markdown",
      "metadata": {
        "id": "f6NCPZxTR5Xt",
        "colab_type": "text"
      },
      "source": [
        "In this tutorial, we'll train a small model for our own word embeddings.\n",
        "\n",
        "In Deep Learning, the text can be represented using following three methods for training:\n",
        "  1. **One Hot Encoding**\n",
        "\n",
        "  In this method, we take the unique words from the text and create a vocabulary. Now using this, we create a zero vector i.e. a vector containing all zeroes of the size of the vocabulary.\n",
        "  \n",
        "  Next, for each word in the new sentence, we create a vector containing \"1\" at the index representing the word while rest all indices remain 0. This step is repeated till we reach the end of the sentence.\n",
        "  \n",
        "  Example:\n",
        "  ```\n",
        "  Text: \"TensorFlow is a great tool to work with.\"\n",
        "  Vocabulary:  [a, great, is, TensorFlow, to, tool, with, work]\n",
        "  zero vector: [0,   0  ,  0,     0    ,   0,   0 ,   0 ,   0 ]\n",
        "\n",
        "   One hot Encoded Vector for the given string:\n",
        "\n",
        "                a  great  is  TensorFlow  to  tool  with  work\n",
        "    a          [1    0    0      0         0    0    0    0  ]\n",
        "    great      [0    1    0      0         0    0    0    0  ]\n",
        "    is         [0    0    1      0         0    0    0    0  ]\n",
        "    TensorFlow [0    0    0      1         0    0    0    0  ]\n",
        "    to         [0    0    0      0         1    0    0    0  ]\n",
        "    tool       [0    0    0      0         0    1    0    0  ]\n",
        "    with       [0    0    0      0         0    0    1    0  ]\n",
        "    work       [0    0    0      0         0    0    0    1  ]\n",
        "  ```\n",
        "\n",
        "    **Cons:**\n",
        "\n",
        "    The biggest con of using this approach is that this approach is inefficient. You ask how?\n",
        "    \n",
        "    If you see the OHE vector above, 99% of the space is taken by 0's and the rest is taken by the 1's i.e. OHE makes up for a sparse matrix. If the neural network is trained on a sparse matrix, half of it's neurons might not even fire up and hence the network will not be able to learn properly.\n",
        "\n",
        "    Additionally, this approach neglects the fact that how individual word fits into a sentence and has dependence/relation with the words surrounding it.\n",
        "\n",
        "  We could try and encode each word with a unique number like 5 -> \"TensorFlow\", 2 -> \"great\" and so on. Although using this approach is a bit better than OHE in terms of creating a non-sparse matrix but this also suffers for the problem of not capturing the relationship between words in a sentence.\n",
        "\n",
        "  2. **Word Embeddings**\n",
        "\n",
        "    In this method, the embeddings are not defined but are learned as part of the model training itself. This way the similar words have similar encodings and relationship of words in a sentence is also captured.\n",
        "\n",
        "    Let's see this in action.\n"
      ]
    },
    {
      "cell_type": "code",
      "metadata": {
        "id": "h-41kPkAR6PB",
        "colab_type": "code",
        "colab": {
          "base_uri": "https://localhost:8080/",
          "height": 102
        },
        "outputId": "fbebb4a7-e20e-4ef6-ac00-77a26f22da06"
      },
      "source": [
        "# Import Dependencies\n",
        "%tensorflow_version 2.1\n",
        "import tensorflow as tf\n",
        "import tensorflow_datasets as tfds"
      ],
      "execution_count": 1,
      "outputs": [
        {
          "output_type": "stream",
          "text": [
            "`%tensorflow_version` only switches the major version: 1.x or 2.x.\n",
            "You set: `2.1`. This will be interpreted as: `2.x`.\n",
            "\n",
            "\n",
            "TensorFlow 2.x selected.\n"
          ],
          "name": "stdout"
        }
      ]
    },
    {
      "cell_type": "code",
      "metadata": {
        "id": "CH3H2R8HXjel",
        "colab_type": "code",
        "colab": {
          "base_uri": "https://localhost:8080/",
          "height": 34
        },
        "outputId": "c94a7fec-e2e5-450d-f904-4e5a36bd73d5"
      },
      "source": [
        "# Check TensorFlow Version\n",
        "tf.__version__"
      ],
      "execution_count": 2,
      "outputs": [
        {
          "output_type": "execute_result",
          "data": {
            "text/plain": [
              "'2.1.0'"
            ]
          },
          "metadata": {
            "tags": []
          },
          "execution_count": 2
        }
      ]
    },
    {
      "cell_type": "code",
      "metadata": {
        "id": "d_qz_QRGXuCl",
        "colab_type": "code",
        "colab": {}
      },
      "source": [
        "# Define the Embedding Layer\n",
        "# Ref. https://www.tensorflow.org/api_docs/python/tf/keras/layers/Embedding\n",
        "# Set Word Vocabulary Size\n",
        "vocabulary_size = 1000\n",
        "\n",
        "# Set Dimension of Output Dense Embeddings per word\n",
        "embedding_dim = 5\n",
        "\n",
        "# Define the Embedding layer\n",
        "embedding_layer = tf.keras.layers.Embedding(input_dim= vocabulary_size, output_dim= embedding_dim)"
      ],
      "execution_count": 0,
      "outputs": []
    },
    {
      "cell_type": "markdown",
      "metadata": {
        "id": "AJ1QAqdFYeHR",
        "colab_type": "text"
      },
      "source": [
        "Right now the Embedding layer has not been the part of the training process. Hence, the weights for the Embedding layer are randomly initialized.\n",
        "\n",
        "We can pass in a dummy tensor and verify that we are getting the output of the size we have defined above."
      ]
    },
    {
      "cell_type": "code",
      "metadata": {
        "id": "T8Ov9SXiYdDx",
        "colab_type": "code",
        "colab": {
          "base_uri": "https://localhost:8080/",
          "height": 85
        },
        "outputId": "b509f941-1dae-4a58-8885-c1d54a978318"
      },
      "source": [
        "# Define a dummy tensor\n",
        "dummy_tensor = tf.constant([9, 2, 10])\n",
        "\n",
        "# Pass the dummy tensor to the Embedding Layer\n",
        "dummy_output = embedding_layer(dummy_tensor)\n",
        "\n",
        "# Print the outputs of untrained embedding layer for the dummy Inputs by converting to numpy\n",
        "dummy_output.numpy()"
      ],
      "execution_count": 4,
      "outputs": [
        {
          "output_type": "execute_result",
          "data": {
            "text/plain": [
              "array([[ 0.03273113,  0.01087298, -0.04414312, -0.01499148,  0.01467147],\n",
              "       [-0.0361277 , -0.02985471,  0.01166075, -0.01669218,  0.0013972 ],\n",
              "       [ 0.03606255,  0.02322448,  0.00979645,  0.04677153, -0.01995757]],\n",
              "      dtype=float32)"
            ]
          },
          "metadata": {
            "tags": []
          },
          "execution_count": 4
        }
      ]
    },
    {
      "cell_type": "markdown",
      "metadata": {
        "id": "ceRZJKSqZ67r",
        "colab_type": "text"
      },
      "source": [
        "The embedding layer takes as input a **2D tensor** of shape **(number_of_samples, sequence_length)** where:\n",
        "\n",
        "**number_of_samples**: the number of rows containing integers representing words from a string\n",
        "\n",
        "**sequence_length**: number of integers representing words per row\n",
        "\n",
        "For example:\n",
        "\n",
        "```\n",
        "Text1: \"Hello World, how are you\" => [1, 3, 5, 7, 9]\n",
        "Text2: \"TensorFlow is a great tool\" => [2, 4, 6, 8, 10]\n",
        "\n",
        "input_tensor.shape = [2, 5]\n",
        "\n",
        "where, \n",
        "input_tensor = [[1, 3, 5, 7, 9],\n",
        "                [2, 4, 6, 8, 10]]\n",
        "\n",
        "i.e 2 rows of words, 5 words per row.\n",
        "\n",
        "output_tensor.shape = [2, 5, embedding_size] => [2,5,5]\n",
        "```\n",
        "\n",
        "The sequence length can be kept as a fixed number. If the input sentence is shorter than the sequence length, then the input sentence words can be padde with zeroes at the end to match the sequence length."
      ]
    },
    {
      "cell_type": "code",
      "metadata": {
        "id": "8pelbq9FZT2p",
        "colab_type": "code",
        "colab": {
          "base_uri": "https://localhost:8080/",
          "height": 561
        },
        "outputId": "ceeae7d0-37cd-4c8e-e992-899e0687e374"
      },
      "source": [
        "# Define a dummy tensor of shape [3, 5] i.e. batch of 3 sequences of length 5\n",
        "dummy_tensor = tf.constant([[9, 2, 10, 35, 23],\n",
        "                            [5, 35, 90, 12, 4],\n",
        "                            [1, 3, 6, 2, 9]])\n",
        "\n",
        "# Pass the dummy tensor to the Embedding Layer\n",
        "dummy_output = embedding_layer(dummy_tensor)\n",
        "\n",
        "# Print the outputs of untrained embedding layer for the dummy Inputs by converting to numpy\n",
        "dummy_output.numpy()"
      ],
      "execution_count": 5,
      "outputs": [
        {
          "output_type": "execute_result",
          "data": {
            "text/plain": [
              "array([[[ 0.03273113,  0.01087298, -0.04414312, -0.01499148,\n",
              "          0.01467147],\n",
              "        [-0.0361277 , -0.02985471,  0.01166075, -0.01669218,\n",
              "          0.0013972 ],\n",
              "        [ 0.03606255,  0.02322448,  0.00979645,  0.04677153,\n",
              "         -0.01995757],\n",
              "        [ 0.0302451 ,  0.04592314,  0.03036597,  0.00663401,\n",
              "          0.02836991],\n",
              "        [ 0.00787164, -0.02231135,  0.03355416, -0.04825069,\n",
              "         -0.04500635]],\n",
              "\n",
              "       [[ 0.02169379, -0.03128456,  0.00286658,  0.0325079 ,\n",
              "         -0.04607603],\n",
              "        [ 0.0302451 ,  0.04592314,  0.03036597,  0.00663401,\n",
              "          0.02836991],\n",
              "        [ 0.01876352,  0.04466691, -0.0202319 , -0.02044493,\n",
              "         -0.01558236],\n",
              "        [ 0.00777651, -0.01773738,  0.04341805,  0.00456767,\n",
              "         -0.02359902],\n",
              "        [ 0.03017494, -0.02905909, -0.02756157, -0.00936361,\n",
              "          0.03553716]],\n",
              "\n",
              "       [[ 0.02364678, -0.01963049, -0.0283695 , -0.04931049,\n",
              "         -0.04370679],\n",
              "        [ 0.02424895, -0.02760297,  0.01270357, -0.01063126,\n",
              "         -0.0430904 ],\n",
              "        [ 0.04184956,  0.00583565,  0.02189423,  0.03297162,\n",
              "         -0.02026595],\n",
              "        [-0.0361277 , -0.02985471,  0.01166075, -0.01669218,\n",
              "          0.0013972 ],\n",
              "        [ 0.03273113,  0.01087298, -0.04414312, -0.01499148,\n",
              "          0.01467147]]], dtype=float32)"
            ]
          },
          "metadata": {
            "tags": []
          },
          "execution_count": 5
        }
      ]
    },
    {
      "cell_type": "code",
      "metadata": {
        "id": "5yaO2jyLdWVG",
        "colab_type": "code",
        "colab": {
          "base_uri": "https://localhost:8080/",
          "height": 34
        },
        "outputId": "2a2d79ad-d2c4-45ff-b16a-bca383c2e60e"
      },
      "source": [
        "# Check the shape of output tensor => [3, 5, 5]\n",
        "dummy_output.shape"
      ],
      "execution_count": 6,
      "outputs": [
        {
          "output_type": "execute_result",
          "data": {
            "text/plain": [
              "TensorShape([3, 5, 5])"
            ]
          },
          "metadata": {
            "tags": []
          },
          "execution_count": 6
        }
      ]
    },
    {
      "cell_type": "markdown",
      "metadata": {
        "id": "Obn2hPFteSlm",
        "colab_type": "text"
      },
      "source": [
        "# Learning Embeddings from Scratch\n",
        "\n",
        "In this tutorial we'll be training a IMDB sentiment classifier for classifying movie reviews sentiments all while training our word embeddings from scratch.\n",
        "\n",
        "For this, we'll be using a pre-processed text dataset using **tensorflow_datasets**."
      ]
    },
    {
      "cell_type": "markdown",
      "metadata": {
        "id": "EwaudugslJjp",
        "colab_type": "text"
      },
      "source": [
        "## Loading the Dataset"
      ]
    },
    {
      "cell_type": "code",
      "metadata": {
        "id": "4V6NHfcQdekw",
        "colab_type": "code",
        "colab": {}
      },
      "source": [
        "# Load IMDB Reviews dataset\n",
        "# Ref. https://www.tensorflow.org/datasets/api_docs/python/tfds/load\n",
        "(train_data, test_data), info = tfds.load(name='imdb_reviews/subwords8k',\n",
        "                                          split=(tfds.Split.TRAIN, tfds.Split.TEST),\n",
        "                                          with_info=True,\n",
        "                                          as_supervised=True)"
      ],
      "execution_count": 0,
      "outputs": []
    },
    {
      "cell_type": "markdown",
      "metadata": {
        "id": "Xf1v9bSglPMm",
        "colab_type": "text"
      },
      "source": [
        "## Dataset Evaluation"
      ]
    },
    {
      "cell_type": "code",
      "metadata": {
        "id": "bW-SzL5-fctO",
        "colab_type": "code",
        "colab": {
          "base_uri": "https://localhost:8080/",
          "height": 119
        },
        "outputId": "bfa2ad3e-33e2-46c9-8a13-abb588487ed1"
      },
      "source": [
        "# Check the dataset\n",
        "!ls /root/tensorflow_datasets/imdb_reviews/subwords8k/1.0.0"
      ],
      "execution_count": 8,
      "outputs": [
        {
          "output_type": "stream",
          "text": [
            "dataset_info.json\n",
            "imdb_reviews-test.tfrecord-00000-of-00001\n",
            "imdb_reviews-train.tfrecord-00000-of-00001\n",
            "imdb_reviews-unsupervised.tfrecord-00000-of-00001\n",
            "label.labels.txt\n",
            "text.text.subwords\n"
          ],
          "name": "stdout"
        }
      ]
    },
    {
      "cell_type": "markdown",
      "metadata": {
        "id": "wiGUJa2zgOIO",
        "colab_type": "text"
      },
      "source": [
        "So, we can see that we have downloaded the training and test data as TFrecord files as well as dataset info, labels and subwords."
      ]
    },
    {
      "cell_type": "code",
      "metadata": {
        "id": "7C8GjGYBgJ-8",
        "colab_type": "code",
        "colab": {
          "base_uri": "https://localhost:8080/",
          "height": 547
        },
        "outputId": "be9ca4dc-eddb-429b-f0a6-ded270d697ba"
      },
      "source": [
        "# Check Dataset Info\n",
        "info"
      ],
      "execution_count": 9,
      "outputs": [
        {
          "output_type": "execute_result",
          "data": {
            "text/plain": [
              "tfds.core.DatasetInfo(\n",
              "    name='imdb_reviews',\n",
              "    version=1.0.0,\n",
              "    description='Large Movie Review Dataset.\n",
              "This is a dataset for binary sentiment classification containing substantially more data than previous benchmark datasets. We provide a set of 25,000 highly polar movie reviews for training, and 25,000 for testing. There is additional unlabeled data for use as well.',\n",
              "    homepage='http://ai.stanford.edu/~amaas/data/sentiment/',\n",
              "    features=FeaturesDict({\n",
              "        'label': ClassLabel(shape=(), dtype=tf.int64, num_classes=2),\n",
              "        'text': Text(shape=(None,), dtype=tf.int64, encoder=<SubwordTextEncoder vocab_size=8185>),\n",
              "    }),\n",
              "    total_num_examples=100000,\n",
              "    splits={\n",
              "        'test': 25000,\n",
              "        'train': 25000,\n",
              "        'unsupervised': 50000,\n",
              "    },\n",
              "    supervised_keys=('text', 'label'),\n",
              "    citation=\"\"\"@InProceedings{maas-EtAl:2011:ACL-HLT2011,\n",
              "      author    = {Maas, Andrew L.  and  Daly, Raymond E.  and  Pham, Peter T.  and  Huang, Dan  and  Ng, Andrew Y.  and  Potts, Christopher},\n",
              "      title     = {Learning Word Vectors for Sentiment Analysis},\n",
              "      booktitle = {Proceedings of the 49th Annual Meeting of the Association for Computational Linguistics: Human Language Technologies},\n",
              "      month     = {June},\n",
              "      year      = {2011},\n",
              "      address   = {Portland, Oregon, USA},\n",
              "      publisher = {Association for Computational Linguistics},\n",
              "      pages     = {142--150},\n",
              "      url       = {http://www.aclweb.org/anthology/P11-1015}\n",
              "    }\"\"\",\n",
              "    redistribution_info=,\n",
              ")"
            ]
          },
          "metadata": {
            "tags": []
          },
          "execution_count": 9
        }
      ]
    },
    {
      "cell_type": "code",
      "metadata": {
        "id": "_Gxcb_OegaEv",
        "colab_type": "code",
        "colab": {
          "base_uri": "https://localhost:8080/",
          "height": 85
        },
        "outputId": "5ff19448-628d-4596-ed43-3b9dc6d02ebd"
      },
      "source": [
        "# Get the Features\n",
        "info.features"
      ],
      "execution_count": 10,
      "outputs": [
        {
          "output_type": "execute_result",
          "data": {
            "text/plain": [
              "FeaturesDict({\n",
              "    'label': ClassLabel(shape=(), dtype=tf.int64, num_classes=2),\n",
              "    'text': Text(shape=(None,), dtype=tf.int64, encoder=<SubwordTextEncoder vocab_size=8185>),\n",
              "})"
            ]
          },
          "metadata": {
            "tags": []
          },
          "execution_count": 10
        }
      ]
    },
    {
      "cell_type": "markdown",
      "metadata": {
        "id": "HnKPt3sygnjG",
        "colab_type": "text"
      },
      "source": [
        "So, we have two labels i.e. pos or neg and the text data with a pre-built **Vocabulary of size 8185**."
      ]
    },
    {
      "cell_type": "code",
      "metadata": {
        "id": "fuH9QWrpgltB",
        "colab_type": "code",
        "colab": {
          "base_uri": "https://localhost:8080/",
          "height": 68
        },
        "outputId": "e094e4b4-d697-4746-b54b-8e099f51ebdf"
      },
      "source": [
        "# Get Size of Training and Test Data Samples\n",
        "info.splits"
      ],
      "execution_count": 11,
      "outputs": [
        {
          "output_type": "execute_result",
          "data": {
            "text/plain": [
              "{'test': <tfds.core.SplitInfo num_examples=25000>,\n",
              " 'train': <tfds.core.SplitInfo num_examples=25000>,\n",
              " 'unsupervised': <tfds.core.SplitInfo num_examples=50000>}"
            ]
          },
          "metadata": {
            "tags": []
          },
          "execution_count": 11
        }
      ]
    },
    {
      "cell_type": "markdown",
      "metadata": {
        "id": "WK9iAX53lTIS",
        "colab_type": "text"
      },
      "source": [
        "## Encoding & Decoding Text from Vocabulary"
      ]
    },
    {
      "cell_type": "code",
      "metadata": {
        "id": "LSEZRVD_g6PL",
        "colab_type": "code",
        "colab": {
          "base_uri": "https://localhost:8080/",
          "height": 357
        },
        "outputId": "43ac172f-bd0e-4926-c1a3-e27fef35ad0c"
      },
      "source": [
        "# Check top 20 words in vocabulary\n",
        "# Ref. https://www.tensorflow.org/datasets/api_docs/python/tfds/features/text/SubwordTextEncoder\n",
        "encoder = info.features['text'].encoder\n",
        "encoder.subwords[:20]"
      ],
      "execution_count": 12,
      "outputs": [
        {
          "output_type": "execute_result",
          "data": {
            "text/plain": [
              "['the_',\n",
              " ', ',\n",
              " '. ',\n",
              " 'a_',\n",
              " 'and_',\n",
              " 'of_',\n",
              " 'to_',\n",
              " 's_',\n",
              " 'is_',\n",
              " 'br',\n",
              " 'in_',\n",
              " 'I_',\n",
              " 'that_',\n",
              " 'this_',\n",
              " 'it_',\n",
              " ' /><',\n",
              " ' />',\n",
              " 'was_',\n",
              " 'The_',\n",
              " 'as_']"
            ]
          },
          "metadata": {
            "tags": []
          },
          "execution_count": 12
        }
      ]
    },
    {
      "cell_type": "code",
      "metadata": {
        "id": "lRjiBfAyh0qK",
        "colab_type": "code",
        "colab": {
          "base_uri": "https://localhost:8080/",
          "height": 34
        },
        "outputId": "6b18517f-2d5a-4404-efc6-6e6d0f58122d"
      },
      "source": [
        "# Test the Encoder\n",
        "sample_text = \"TensorFlow is a great tool.\"\n",
        "\n",
        "# Encode the text and print out their index in Vocabulary\n",
        "ids = encoder.encode(sample_text)\n",
        "ids"
      ],
      "execution_count": 13,
      "outputs": [
        {
          "output_type": "execute_result",
          "data": {
            "text/plain": [
              "[6307, 2327, 4043, 4265, 9, 4, 122, 411, 8037, 7975]"
            ]
          },
          "metadata": {
            "tags": []
          },
          "execution_count": 13
        }
      ]
    },
    {
      "cell_type": "code",
      "metadata": {
        "id": "4IUdOexaiG7D",
        "colab_type": "code",
        "colab": {
          "base_uri": "https://localhost:8080/",
          "height": 34
        },
        "outputId": "3c2f6b9f-bf2e-48ad-f6dc-12eef234c1c2"
      },
      "source": [
        "# Get the words from Index in Vocabulary\n",
        "text = encoder.decode(ids)\n",
        "text"
      ],
      "execution_count": 14,
      "outputs": [
        {
          "output_type": "execute_result",
          "data": {
            "text/plain": [
              "'TensorFlow is a great tool.'"
            ]
          },
          "metadata": {
            "tags": []
          },
          "execution_count": 14
        }
      ]
    },
    {
      "cell_type": "markdown",
      "metadata": {
        "id": "OdBaG4v7lgHZ",
        "colab_type": "text"
      },
      "source": [
        "## Encoding & Decoding Text from Dataset"
      ]
    },
    {
      "cell_type": "code",
      "metadata": {
        "id": "BEWzVLLyiXxD",
        "colab_type": "code",
        "colab": {}
      },
      "source": [
        "# Let's check out a sample movie review\n",
        "def get_review(data_Split=None):\n",
        "  data = iter(data_Split)\n",
        "  sample_review = data.next()\n",
        "  print(\"Sample Review [Encoded]: {}\\n\".format(sample_review))\n",
        "\n",
        "  # Let's decode this review\n",
        "  text = encoder.decode(sample_review[0].numpy())\n",
        "  print(\"Sample Review [Decoded]: {}\\n\".format(text))\n",
        "\n",
        "  # Check Length of review\n",
        "  print(\"Review Length: {}\".format(len(text)))"
      ],
      "execution_count": 0,
      "outputs": []
    },
    {
      "cell_type": "code",
      "metadata": {
        "id": "MOjv-JP2kRKj",
        "colab_type": "code",
        "colab": {
          "base_uri": "https://localhost:8080/",
          "height": 377
        },
        "outputId": "1af63ef9-a331-4481-d858-60600fb9ef70"
      },
      "source": [
        "# Get First random Review\n",
        "get_review(data_Split=train_data)"
      ],
      "execution_count": 16,
      "outputs": [
        {
          "output_type": "stream",
          "text": [
            "Sample Review [Encoded]: (<tf.Tensor: shape=(163,), dtype=int64, numpy=\n",
            "array([  62,   18,   41,  604,  927,   65,    3,  644, 7968,   21,   35,\n",
            "       5096,   36,   11,   43, 2948, 5240,  102,   50,  681, 7862, 1244,\n",
            "          3, 3266,   29,  122,  640,    2,   26,   14,  279,  438,   35,\n",
            "         79,  349,  384,   11, 1991,    3,  492,   79,  122,  188,  117,\n",
            "         33, 4047, 4531,   14,   65, 7968,    8, 1819, 3947,    3,   62,\n",
            "         27,    9,   41,  577, 5044, 2629, 2552, 7193, 7961, 3642,    3,\n",
            "         19,  107, 3903,  225,   85,  198,   72,    1, 1512,  738, 2347,\n",
            "        102, 6245,    8,   85,  308,   79, 6936, 7961,   23, 4981, 8044,\n",
            "          3, 6429, 7961, 1141, 1335, 1848, 4848,   55, 3601, 4217, 8050,\n",
            "          2,    5,   59, 3831, 1484, 8040, 7974,  174, 5773,   22, 5240,\n",
            "        102,   18,  247,   26,    4, 3903, 1612, 3902,  291,   11,    4,\n",
            "         27,   13,   18, 4092, 4008, 7961,    6,  119,  213, 2774,    3,\n",
            "         12,  258, 2306,   13,   91,   29,  171,   52,  229,    2, 1245,\n",
            "       5790,  995, 7968,    8,   52, 2948, 5240, 8039, 7968,    8,   74,\n",
            "       1249,    3,   12,  117, 2438, 1369,  192,   39, 7975])>, <tf.Tensor: shape=(), dtype=int64, numpy=0>)\n",
            "\n",
            "Sample Review [Decoded]: This was an absolutely terrible movie. Don't be lured in by Christopher Walken or Michael Ironside. Both are great actors, but this must simply be their worst role in history. Even their great acting could not redeem this movie's ridiculous storyline. This movie is an early nineties US propaganda piece. The most pathetic scenes were those when the Columbian rebels were making their cases for revolutions. Maria Conchita Alonso appeared phony, and her pseudo-love affair with Walken was nothing but a pathetic emotional plug in a movie that was devoid of any real meaning. I am disappointed that there are movies like this, ruining actor's like Christopher Walken's good name. I could barely sit through it.\n",
            "\n",
            "Review Length: 709\n"
          ],
          "name": "stdout"
        }
      ]
    },
    {
      "cell_type": "code",
      "metadata": {
        "id": "yYQrfb02ltsT",
        "colab_type": "code",
        "colab": {
          "base_uri": "https://localhost:8080/",
          "height": 564
        },
        "outputId": "39c8b0e1-350a-41ad-9ccb-d092eeb89ec7"
      },
      "source": [
        "# Let's check another review and it's length\n",
        "get_review(data_Split=test_data)"
      ],
      "execution_count": 17,
      "outputs": [
        {
          "output_type": "stream",
          "text": [
            "Sample Review [Encoded]: (<tf.Tensor: shape=(283,), dtype=int64, numpy=\n",
            "array([ 173,   29,  185,   13,  115, 1956, 8044,    3,  398, 1261, 5497,\n",
            "        423,    2,   15,   18, 4096, 3958,  637, 2657,  552, 2893, 4926,\n",
            "       2314, 1673, 4587,  137,   23, 4872, 5345,    2, 7996, 7277, 8004,\n",
            "       8012,  137,   23,  972, 5346, 5977, 1365, 8051,    2, 7998, 3780,\n",
            "       1947, 1747, 4411, 3743,    3, 5064, 7961,    7,   13, 2671, 4556,\n",
            "       3449, 1678,  572, 8037, 7968,    8,  604, 1006, 4002, 2618, 7974,\n",
            "       7994, 7974, 2893, 2618, 7974, 2475, 3912,    3, 4847, 2034, 2615,\n",
            "         66, 7974, 3201,    2,    5,   20, 1668, 5475, 7961,    5,   20,\n",
            "       4474,   20,  119,    6,    1, 2489, 1473, 1960,  323,    3,   12,\n",
            "       1167, 7968,   21, 4101,   14,  366,  342,   12,  284,  552, 7999,\n",
            "       4949, 3780, 3779, 3369, 8018,  625, 1979,    2,   78, 1259,    2,\n",
            "         12,  109, 7968,   21,  129,   12, 4101,  236,   14, 1682,  230,\n",
            "        392,    7, 4980, 1079, 1678,  572, 8037, 7968,    8, 1712,    9,\n",
            "       5795,  535,  106, 4002, 2618, 7974, 7994, 7974, 2893, 2618, 7974,\n",
            "       2475, 3912, 7961,    9,   55, 1296,  488,  569,    6, 5852, 1125,\n",
            "        272, 2148, 7961,   13,   45,   70,   31,    7, 1369,  267,   22,\n",
            "          4, 2346,    6,   14,  397,    5,  110,    4,  918, 7974, 1134,\n",
            "       7974,  557, 7716,  452,    6,   15,    7,  765, 2284,  181,    2,\n",
            "       8046, 8033,    2, 2144, 1077,  395,    5, 1060, 8029,  395,    6,\n",
            "         39,    3, 2478,  516,    9, 3499, 5991, 8029,   28,    4, 1250,\n",
            "       6148,    6,    4, 2479, 7974, 5884, 7961,  575,  152,    5,    1,\n",
            "        695,   51,  268,   29, 6749, 8029,   28,  224, 7968,    8, 1400,\n",
            "          6,    1,  362, 7974,  181, 7974,  609, 5353,  923, 2117,   45,\n",
            "       7399, 2331, 7968,  123, 1974,   48,    4,   32,   52,  229,  158,\n",
            "       4002, 2618, 7974, 7994, 7974, 2893, 2618, 7974, 2475, 3912, 7961,\n",
            "          9,    4,   32,  901,  101,   57, 1868, 7975])>, <tf.Tensor: shape=(), dtype=int64, numpy=1>)\n",
            "\n",
            "Sample Review [Decoded]: There are films that make careers. For George Romero, it was NIGHT OF THE LIVING DEAD; for Kevin Smith, CLERKS; for Robert Rodriguez, EL MARIACHI. Add to that list Onur Tukel's absolutely amazing DING-A-LING-LESS. Flawless film-making, and as assured and as professional as any of the aforementioned movies. I haven't laughed this hard since I saw THE FULL MONTY. (And, even then, I don't think I laughed quite this hard... So to speak.) Tukel's talent is considerable: DING-A-LING-LESS is so chock full of double entendres that one would have to sit down with a copy of this script and do a line-by-line examination of it to fully appreciate the, uh, breadth and width of it. Every shot is beautifully composed (a clear sign of a sure-handed director), and the performances all around are solid (there's none of the over-the-top scenery chewing one might've expected from a film like this). DING-A-LING-LESS is a film whose time has come.\n",
            "\n",
            "Review Length: 939\n"
          ],
          "name": "stdout"
        }
      ]
    },
    {
      "cell_type": "markdown",
      "metadata": {
        "id": "fSnISUoloHWq",
        "colab_type": "text"
      },
      "source": [
        "As we can see that every review has a different length. So, we'll standardize the length of the reviews and pad the reviews with length less than that."
      ]
    },
    {
      "cell_type": "code",
      "metadata": {
        "id": "UQsDDt2CnjoY",
        "colab_type": "code",
        "colab": {}
      },
      "source": [
        "# Load Data in Batches\n",
        "# Here we set the buffer size to 1000 i.e. at a time we randomly pick up 1000 reviews and fill the buffer with that.\n",
        "# Then we pick up \"N\" number of padded samples defined by \"padded_batch(batch_size= N)\"\n",
        "# Using \"padded_shape = ([None], [])\" Pads the data to the smallest per-batch size that fits all elements. \n",
        "# Since, the shape of Input is: 'text': Text(shape=(None,), so padded_shape = ([None],[])\n",
        "# Ref. https://www.tensorflow.org/api_docs/python/tf/data/Dataset#padded_batch\n",
        "train_batches = train_data.shuffle(1000).padded_batch(batch_size= 10, padded_shapes= ([None],[]))\n",
        "test_batches = test_data.shuffle(1000).padded_batch(batch_size= 10, padded_shapes= ([None],[]))"
      ],
      "execution_count": 0,
      "outputs": []
    },
    {
      "cell_type": "code",
      "metadata": {
        "id": "hVKUgoatqUHJ",
        "colab_type": "code",
        "colab": {
          "base_uri": "https://localhost:8080/",
          "height": 136
        },
        "outputId": "f126e7cb-ae97-4b71-c84f-3ee6674f8e16"
      },
      "source": [
        "# Load Batched Training Data and Labels\n",
        "train_batch, train_labels = next(iter(train_batches))\n",
        "\n",
        "# Print out one batch of Training Data\n",
        "train_batch.numpy()"
      ],
      "execution_count": 19,
      "outputs": [
        {
          "output_type": "execute_result",
          "data": {
            "text/plain": [
              "array([[  62,    9,   33, ...,    0,    0,    0],\n",
              "       [  12,  176,  109, ...,    0,    0,    0],\n",
              "       [7969, 5321, 7114, ...,    0,    0,    0],\n",
              "       ...,\n",
              "       [ 133,  927, 5464, ...,    0,    0,    0],\n",
              "       [  12,   31,  165, ...,    0,    0,    0],\n",
              "       [  12,  257,   14, ...,    2, 3568, 7962]])"
            ]
          },
          "metadata": {
            "tags": []
          },
          "execution_count": 19
        }
      ]
    },
    {
      "cell_type": "code",
      "metadata": {
        "id": "ZKZMiZM8srr2",
        "colab_type": "code",
        "colab": {
          "base_uri": "https://localhost:8080/",
          "height": 68
        },
        "outputId": "77d7af4d-3665-47a1-f7f1-f0d867215fe5"
      },
      "source": [
        "# Let's check the shape of the training batch and the labels\n",
        "print(\"Shape of Single Batch of Training Data: {}\\n\".format(train_batch.numpy().shape))\n",
        "print(\"Shape of Single Batch of Training Labels: {}\".format(train_labels.numpy().shape))"
      ],
      "execution_count": 20,
      "outputs": [
        {
          "output_type": "stream",
          "text": [
            "Shape of Single Batch of Training Data: (10, 850)\n",
            "\n",
            "Shape of Single Batch of Training Labels: (10,)\n"
          ],
          "name": "stdout"
        }
      ]
    },
    {
      "cell_type": "code",
      "metadata": {
        "id": "Qr6TzHZvtIZ9",
        "colab_type": "code",
        "colab": {
          "base_uri": "https://localhost:8080/",
          "height": 34
        },
        "outputId": "c552817c-633e-4e22-a6d8-bcb876fc5dae"
      },
      "source": [
        "# If you are wondering why the shape is (10, 595), then see.\n",
        "# 10 => Batch Size, set above in padded_batch\n",
        "# 595 => coz \"padded_shape = ([None], [])\" Pads the data to the smallest per-batch size that fits all elements.\n",
        "# and the length of that batch is as follows\n",
        "train_batch.numpy()[:-3].shape[1]"
      ],
      "execution_count": 21,
      "outputs": [
        {
          "output_type": "execute_result",
          "data": {
            "text/plain": [
              "850"
            ]
          },
          "metadata": {
            "tags": []
          },
          "execution_count": 21
        }
      ]
    },
    {
      "cell_type": "markdown",
      "metadata": {
        "id": "wPGaDvu9v5T7",
        "colab_type": "text"
      },
      "source": [
        "# Train a simple Bag of Words Model\n",
        "\n",
        "## Model Architecture\n",
        "\n",
        "1. The Embedding layer takes the integer-encoded vocabulary and looks up the embedding vector for each word-index. These vectors are learned as the model trains. The vectors add a dimension to the output array. The resulting dimensions are: (batch, sequence, embedding).\n",
        "\n",
        "2. Next, a GlobalAveragePooling1D layer returns a fixed-length output vector for each example by averaging over the sequence dimension. This allows the model to handle input of variable length, in the simplest way possible.\n",
        "\n",
        "3. This fixed-length output vector is piped through a fully-connected (Dense) layer with 16 hidden units.\n",
        "\n",
        "4. The last layer is densely connected with a single output node. Using the sigmoid activation function, this value is a float between 0 and 1, representing a probability (or confidence level) that the review is positive."
      ]
    },
    {
      "cell_type": "code",
      "metadata": {
        "id": "aCBbnF0Auyza",
        "colab_type": "code",
        "colab": {
          "base_uri": "https://localhost:8080/",
          "height": 289
        },
        "outputId": "eb4acbf2-3837-4800-d343-5e123ac57d62"
      },
      "source": [
        "# Embedding Dimension\n",
        "embedding_dim = 16\n",
        "\n",
        "# Define the Model Architecture\n",
        "model = tf.keras.Sequential([tf.keras.layers.Embedding(encoder.vocab_size, embedding_dim),\n",
        "                             tf.keras.layers.GlobalAveragePooling1D(),\n",
        "                             tf.keras.layers.Dense(units=16, activation='relu'),\n",
        "                             tf.keras.layers.Dense(units=1)\n",
        "])\n",
        "\n",
        "# Print Model Summary\n",
        "model.summary()"
      ],
      "execution_count": 22,
      "outputs": [
        {
          "output_type": "stream",
          "text": [
            "Model: \"sequential\"\n",
            "_________________________________________________________________\n",
            "Layer (type)                 Output Shape              Param #   \n",
            "=================================================================\n",
            "embedding_1 (Embedding)      (None, None, 16)          130960    \n",
            "_________________________________________________________________\n",
            "global_average_pooling1d (Gl (None, 16)                0         \n",
            "_________________________________________________________________\n",
            "dense (Dense)                (None, 16)                272       \n",
            "_________________________________________________________________\n",
            "dense_1 (Dense)              (None, 1)                 17        \n",
            "=================================================================\n",
            "Total params: 131,249\n",
            "Trainable params: 131,249\n",
            "Non-trainable params: 0\n",
            "_________________________________________________________________\n"
          ],
          "name": "stdout"
        }
      ]
    },
    {
      "cell_type": "code",
      "metadata": {
        "id": "Wmbfu0EOw8P6",
        "colab_type": "code",
        "colab": {}
      },
      "source": [
        "# Compile the Model\n",
        "model.compile(optimizer='adam',\n",
        "              loss=tf.keras.losses.BinaryCrossentropy(from_logits=True),\n",
        "              metrics=['accuracy'])"
      ],
      "execution_count": 0,
      "outputs": []
    },
    {
      "cell_type": "code",
      "metadata": {
        "id": "vJylbhPvxY6A",
        "colab_type": "code",
        "colab": {
          "base_uri": "https://localhost:8080/",
          "height": 377
        },
        "outputId": "44f1163e-0587-4ed6-c6f6-b0d6a723c2ad"
      },
      "source": [
        "# Train the model\n",
        "hist = model.fit(train_batches, epochs=10, validation_data=test_batches, validation_steps=20)"
      ],
      "execution_count": 24,
      "outputs": [
        {
          "output_type": "stream",
          "text": [
            "Epoch 1/10\n",
            "2500/2500 [==============================] - 24s 9ms/step - loss: 0.5039 - accuracy: 0.7013 - val_loss: 0.3748 - val_accuracy: 0.8350\n",
            "Epoch 2/10\n",
            "2500/2500 [==============================] - 15s 6ms/step - loss: 0.2823 - accuracy: 0.8829 - val_loss: 0.3780 - val_accuracy: 0.8600\n",
            "Epoch 3/10\n",
            "2500/2500 [==============================] - 15s 6ms/step - loss: 0.2265 - accuracy: 0.9111 - val_loss: 0.2894 - val_accuracy: 0.8550\n",
            "Epoch 4/10\n",
            "2500/2500 [==============================] - 15s 6ms/step - loss: 0.1921 - accuracy: 0.9276 - val_loss: 0.3205 - val_accuracy: 0.8800\n",
            "Epoch 5/10\n",
            "2500/2500 [==============================] - 16s 6ms/step - loss: 0.1714 - accuracy: 0.9351 - val_loss: 0.3159 - val_accuracy: 0.8700\n",
            "Epoch 6/10\n",
            "2500/2500 [==============================] - 17s 7ms/step - loss: 0.1558 - accuracy: 0.9430 - val_loss: 0.3302 - val_accuracy: 0.8700\n",
            "Epoch 7/10\n",
            "2500/2500 [==============================] - 16s 6ms/step - loss: 0.1392 - accuracy: 0.9486 - val_loss: 0.4507 - val_accuracy: 0.8650\n",
            "Epoch 8/10\n",
            "2500/2500 [==============================] - 16s 6ms/step - loss: 0.1292 - accuracy: 0.9530 - val_loss: 0.6156 - val_accuracy: 0.8200\n",
            "Epoch 9/10\n",
            "2500/2500 [==============================] - 16s 6ms/step - loss: 0.1175 - accuracy: 0.9591 - val_loss: 0.5991 - val_accuracy: 0.8550\n",
            "Epoch 10/10\n",
            "2500/2500 [==============================] - 16s 6ms/step - loss: 0.1073 - accuracy: 0.9617 - val_loss: 0.5455 - val_accuracy: 0.8900\n"
          ],
          "name": "stdout"
        }
      ]
    },
    {
      "cell_type": "code",
      "metadata": {
        "id": "RWoHkXawxinE",
        "colab_type": "code",
        "colab": {}
      },
      "source": [
        "# Save Trained model\n",
        "model.save('word_embeddings_model.h5')\n",
        "model.save_weights('word_embeddings_weights.h5')"
      ],
      "execution_count": 0,
      "outputs": []
    },
    {
      "cell_type": "markdown",
      "metadata": {
        "id": "6WgxpLbnzuKC",
        "colab_type": "text"
      },
      "source": [
        "# Check Model Performance"
      ]
    },
    {
      "cell_type": "code",
      "metadata": {
        "id": "mY-gr2tZzprs",
        "colab_type": "code",
        "colab": {}
      },
      "source": [
        "# Import Dependency\n",
        "import matplotlib.pyplot as plt"
      ],
      "execution_count": 0,
      "outputs": []
    },
    {
      "cell_type": "code",
      "metadata": {
        "id": "dCr6WcNsz4gD",
        "colab_type": "code",
        "colab": {
          "base_uri": "https://localhost:8080/",
          "height": 34
        },
        "outputId": "fc536d35-dfca-4309-8ded-56e88397fb52"
      },
      "source": [
        "# List all keys available from model training history\n",
        "hist.history.keys()"
      ],
      "execution_count": 29,
      "outputs": [
        {
          "output_type": "execute_result",
          "data": {
            "text/plain": [
              "dict_keys(['loss', 'accuracy', 'val_loss', 'val_accuracy'])"
            ]
          },
          "metadata": {
            "tags": []
          },
          "execution_count": 29
        }
      ]
    },
    {
      "cell_type": "code",
      "metadata": {
        "id": "GyW2jl1Sz-tt",
        "colab_type": "code",
        "colab": {}
      },
      "source": [
        "# Dictionary containing all model training keys\n",
        "history_dict = hist.history\n",
        "\n",
        "acc = history_dict['accuracy']\n",
        "val_acc = history_dict['val_accuracy']\n",
        "loss=history_dict['loss']\n",
        "val_loss=history_dict['val_loss']\n",
        "\n",
        "epochs = range(1, len(acc) + 1)"
      ],
      "execution_count": 0,
      "outputs": []
    },
    {
      "cell_type": "code",
      "metadata": {
        "id": "5lzji-lA0UNS",
        "colab_type": "code",
        "colab": {
          "base_uri": "https://localhost:8080/",
          "height": 567
        },
        "outputId": "97196d75-6754-425c-f567-5c2025b36729"
      },
      "source": [
        "# Plot Training and Validation Loss\n",
        "plt.figure(figsize=(12,9))\n",
        "plt.plot(epochs, loss, 'bo', label='Training loss')\n",
        "plt.plot(epochs, val_loss, 'b', label='Validation loss')\n",
        "plt.title('Training and validation loss')\n",
        "plt.xlabel('Epochs')\n",
        "plt.ylabel('Loss')\n",
        "plt.legend()\n",
        "plt.show()"
      ],
      "execution_count": 31,
      "outputs": [
        {
          "output_type": "display_data",
          "data": {
            "image/png": "[encoded data removed]",
            "text/plain": [
              "<Figure size 864x648 with 1 Axes>"
            ]
          },
          "metadata": {
            "tags": []
          }
        }
      ]
    },
    {
      "cell_type": "code",
      "metadata": {
        "id": "WrFg1mwv0WOy",
        "colab_type": "code",
        "colab": {
          "base_uri": "https://localhost:8080/",
          "height": 567
        },
        "outputId": "fe4bbcf3-f5ae-4267-c161-3faa5bce1456"
      },
      "source": [
        "# Plot Training and Validation Accuracy\n",
        "plt.figure(figsize=(12,9))\n",
        "plt.plot(epochs, acc, 'bo', label='Training acc')\n",
        "plt.plot(epochs, val_acc, 'b', label='Validation acc')\n",
        "plt.title('Training and validation accuracy')\n",
        "plt.xlabel('Epochs')\n",
        "plt.ylabel('Accuracy')\n",
        "plt.legend(loc='lower right')\n",
        "plt.ylim((0.5,1))\n",
        "plt.show()"
      ],
      "execution_count": 32,
      "outputs": [
        {
          "output_type": "display_data",
          "data": {
            "image/png": "[encoded data removed]",
            "text/plain": [
              "<Figure size 864x648 with 1 Axes>"
            ]
          },
          "metadata": {
            "tags": []
          }
        }
      ]
    },
    {
      "cell_type": "markdown",
      "metadata": {
        "id": "10Va4WiB0d6O",
        "colab_type": "text"
      },
      "source": [
        "Clearly the model is overfitting."
      ]
    },
    {
      "cell_type": "markdown",
      "metadata": {
        "id": "MD80EB-Q0ih8",
        "colab_type": "text"
      },
      "source": [
        "# Retrieve Learned Embeddings"
      ]
    },
    {
      "cell_type": "code",
      "metadata": {
        "id": "7FlySwoF0aLv",
        "colab_type": "code",
        "colab": {
          "base_uri": "https://localhost:8080/",
          "height": 34
        },
        "outputId": "ba82ed18-e54c-44b2-94c7-7999598850b7"
      },
      "source": [
        "# The first layer of the model is the trained Model Embeddings\n",
        "embed_layer = model.layers[0]\n",
        "\n",
        "# Get Embedding layer weights\n",
        "embed_weights = embed_layer.get_weights()[0]\n",
        "\n",
        "# Shape: (vocab_size, embedding_dim)\n",
        "print(embed_weights.shape) "
      ],
      "execution_count": 33,
      "outputs": [
        {
          "output_type": "stream",
          "text": [
            "(8185, 16)\n"
          ],
          "name": "stdout"
        }
      ]
    },
    {
      "cell_type": "markdown",
      "metadata": {
        "id": "8YOhZcdf9EiJ",
        "colab_type": "text"
      },
      "source": [
        "# Save Word Embeddings\n",
        "\n",
        "We will now write the weights corresponding to the words in the Vocabulary to disk and visualize them using the \"Embedding Projector\" tool.\n",
        "\n",
        "To do this, we will save two files in tab separated format: a file of vectors (containing the embeddings), and a file of meta data (containing the words in vocabulary)."
      ]
    },
    {
      "cell_type": "code",
      "metadata": {
        "id": "3aPbWuhw8ylp",
        "colab_type": "code",
        "colab": {}
      },
      "source": [
        "import io\n",
        "\n",
        "# Define Vocabulary Encoder\n",
        "encoder = info.features['text'].encoder\n",
        "\n",
        "# File containing Word Embeddings for words in Vocabulary\n",
        "out_v = io.open('vecs.tsv', 'w', encoding='utf-8')\n",
        "\n",
        "# File containing Words in Vocabulary\n",
        "out_m = io.open('meta.tsv', 'w', encoding='utf-8')\n",
        "\n",
        "for num, word in enumerate(encoder.subwords):\n",
        "  # skip 0, it's padding.\n",
        "  # Grab all weights corresponding to each word in the Vocabulary\n",
        "  vec = embed_weights[num+1]\n",
        "  out_m.write(word + \"\\n\")\n",
        "  out_v.write('\\t'.join([str(x) for x in vec]) + \"\\n\")\n",
        "\n",
        "# Close Files after writing is done\n",
        "out_v.close()\n",
        "out_m.close()"
      ],
      "execution_count": 0,
      "outputs": []
    },
    {
      "cell_type": "code",
      "metadata": {
        "id": "-GWmQjiZ-RUY",
        "colab_type": "code",
        "colab": {}
      },
      "source": [
        "# Download the Saved Files\n",
        "try:\n",
        "  from google.colab import files\n",
        "except ImportError:\n",
        "   pass\n",
        "else:\n",
        "  files.download('vecs.tsv')\n",
        "  files.download('meta.tsv')"
      ],
      "execution_count": 0,
      "outputs": []
    }
  ]
}